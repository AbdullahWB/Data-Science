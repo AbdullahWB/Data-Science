{
 "cells": [
  {
   "cell_type": "markdown",
   "id": "16f89c26-588b-4684-8290-bfdd5327902a",
   "metadata": {},
   "source": [
    "What is Supervised Learning?\n",
    "Supervised Learning is a type of machine learning where a model is trained using labeled data.\n",
    "\n",
    "\"Labeled data\" means the input (features) and the correct output (labels) are already known.\n",
    "\n",
    "The algorithm learns the mapping from inputs (X) to outputs (Y) by seeing many examples, so it can predict outputs for new, unseen data."
   ]
  },
  {
   "cell_type": "code",
   "execution_count": 1,
   "id": "197bd606-6d8d-4307-a39b-5e36193e5111",
   "metadata": {},
   "outputs": [
    {
     "name": "stdout",
     "output_type": "stream",
     "text": [
      "Predictions: ['orange' 'apple']\n"
     ]
    }
   ],
   "source": [
    "from sklearn.tree import DecisionTreeClassifier\n",
    "\n",
    "# Step 1: Training Data (Features and Labels)\n",
    "# Features: [Weight (g), Texture (0 = Smooth, 1 = Rough)]\n",
    "features = [\n",
    "    [150, 0],  # Apple\n",
    "    [170, 0],  # Apple\n",
    "    [130, 1],  # Orange\n",
    "    [120, 1]   # Orange\n",
    "]\n",
    "\n",
    "labels = ['apple', 'apple', 'orange', 'orange']\n",
    "\n",
    "# Step 2: Create the Model\n",
    "clf = DecisionTreeClassifier()\n",
    "\n",
    "# Step 3: Train (Fit) the Model with Labeled Data\n",
    "clf.fit(features, labels)\n",
    "\n",
    "# Step 4: Predict on New Unseen Data\n",
    "prediction = clf.predict([[140, 1], [160, 0]])  # New fruits\n",
    "print(\"Predictions:\", prediction)\n"
   ]
  },
  {
   "cell_type": "code",
   "execution_count": null,
   "id": "109e4b9a-e30f-4157-a39a-8edb1ad67bca",
   "metadata": {},
   "outputs": [],
   "source": []
  }
 ],
 "metadata": {
  "kernelspec": {
   "display_name": "Python 3 (ipykernel)",
   "language": "python",
   "name": "python3"
  },
  "language_info": {
   "codemirror_mode": {
    "name": "ipython",
    "version": 3
   },
   "file_extension": ".py",
   "mimetype": "text/x-python",
   "name": "python",
   "nbconvert_exporter": "python",
   "pygments_lexer": "ipython3",
   "version": "3.13.5"
  }
 },
 "nbformat": 4,
 "nbformat_minor": 5
}
