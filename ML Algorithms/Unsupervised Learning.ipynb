{
 "cells": [
  {
   "cell_type": "markdown",
   "id": "bce616ab-5c8f-4974-b0ca-969706f383de",
   "metadata": {},
   "source": [
    "What is Unsupervised Learning?\n",
    "Unsupervised Learning is a type of machine learning where the algorithm is trained on unlabeled data.\n",
    "\n",
    "There are no predefined outputs (labels).\n",
    "\n",
    "The model tries to find patterns, structures, or groupings within the data on its own.\n",
    "\n",
    "The goal is to discover hidden relationships or reduce the complexity of data (e.g., clustering, dimensionality reduction).\n",
    "\n"
   ]
  },
  {
   "cell_type": "code",
   "execution_count": 4,
   "id": "40712aa9-c3b6-4da5-ae74-281ae0fd72f2",
   "metadata": {},
   "outputs": [
    {
     "name": "stdout",
     "output_type": "stream",
     "text": [
      "Cluster Centers:\n",
      " [[115.    5. ]\n",
      " [175.    8.5]\n",
      " [155.    7.5]]\n",
      "Labels (Cluster each point belongs to): [2 1 0 0 0 1 2 0]\n",
      "Predicted Clusters: [2 0]\n"
     ]
    }
   ],
   "source": [
    "import os\n",
    "os.environ[\"OMP_NUM_THREADS\"] = \"1\"\n",
    "LOKY_MAX_CPU_COUNT=4\n",
    "from sklearn.cluster import KMeans\n",
    "import numpy as np\n",
    "\n",
    "# Features: [Weight (grams), Size (cm)]\n",
    "features = np.array([\n",
    "    [150, 7], [170, 8], [130, 6], [120, 5],\n",
    "    [100, 4], [180, 9], [160, 8], [110, 5]\n",
    "])\n",
    "\n",
    "# Create KMeans with 3 clusters\n",
    "kmeans = KMeans(n_clusters=3, random_state=42)\n",
    "kmeans.fit(features)\n",
    "\n",
    "# Cluster centers and labels\n",
    "print(\"Cluster Centers:\\n\", kmeans.cluster_centers_)\n",
    "print(\"Labels (Cluster each point belongs to):\", kmeans.labels_)\n",
    "\n",
    "# Predict cluster for new data points\n",
    "new_data = np.array([[140, 6], [105, 4]])\n",
    "print(\"Predicted Clusters:\", kmeans.predict(new_data))\n"
   ]
  },
  {
   "cell_type": "code",
   "execution_count": null,
   "id": "94db4d40-bf62-4fda-adcd-edb6978bbfe9",
   "metadata": {},
   "outputs": [],
   "source": []
  }
 ],
 "metadata": {
  "kernelspec": {
   "display_name": "Python 3 (ipykernel)",
   "language": "python",
   "name": "python3"
  },
  "language_info": {
   "codemirror_mode": {
    "name": "ipython",
    "version": 3
   },
   "file_extension": ".py",
   "mimetype": "text/x-python",
   "name": "python",
   "nbconvert_exporter": "python",
   "pygments_lexer": "ipython3",
   "version": "3.13.5"
  }
 },
 "nbformat": 4,
 "nbformat_minor": 5
}
