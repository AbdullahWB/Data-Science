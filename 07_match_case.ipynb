{
 "cells": [
  {
   "cell_type": "code",
   "execution_count": 1,
   "id": "84a463be-f797-495a-bff2-9825843fc20f",
   "metadata": {},
   "outputs": [
    {
     "name": "stdout",
     "output_type": "stream",
     "text": [
      "OK\n",
      "Not Found\n"
     ]
    }
   ],
   "source": [
    "def http_status(code):\n",
    "    match code:\n",
    "        case 200:\n",
    "            return \"OK\"\n",
    "        case 400:\n",
    "            return \"Bad Request\"\n",
    "        case 404:\n",
    "            return \"Not Found\"\n",
    "        case 500:\n",
    "            return \"Internal Server Error\"\n",
    "        case _:\n",
    "            return \"Unknown Status\"\n",
    " \n",
    "print(http_status(200))  # Output: OK\n",
    "print(http_status(404))  # Output: Not Found\n"
   ]
  },
  {
   "cell_type": "code",
   "execution_count": null,
   "id": "b1af2dcf-4a61-4ca4-8f8b-eabefb79084a",
   "metadata": {},
   "outputs": [],
   "source": []
  }
 ],
 "metadata": {
  "kernelspec": {
   "display_name": "Python [conda env:base] *",
   "language": "python",
   "name": "conda-base-py"
  },
  "language_info": {
   "codemirror_mode": {
    "name": "ipython",
    "version": 3
   },
   "file_extension": ".py",
   "mimetype": "text/x-python",
   "name": "python",
   "nbconvert_exporter": "python",
   "pygments_lexer": "ipython3",
   "version": "3.12.7"
  }
 },
 "nbformat": 4,
 "nbformat_minor": 5
}
