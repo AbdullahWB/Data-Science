{
 "cells": [
  {
   "cell_type": "code",
   "execution_count": 1,
   "id": "8a8fdb2e-3f7e-4a60-82bd-d4d7b0cfcaec",
   "metadata": {},
   "outputs": [
    {
     "name": "stdout",
     "output_type": "stream",
     "text": [
      "{1, 2, 3, 4, 5}\n"
     ]
    }
   ],
   "source": [
    "# Empty set (must use set(), not {})\n",
    "empty_set = set()\n",
    "\n",
    "# Set with elements\n",
    "numbers = {1, 2, 3, 4, 5}\n",
    "\n",
    "# Mixed data types\n",
    "mixed_set = {1, \"Hello\", 3.14, True}\n",
    "\n",
    "# Creating a set from a list\n",
    "unique_numbers = set([1, 2, 2, 3, 4, 4, 5])\n",
    "print(unique_numbers)  # {1, 2, 3, 4, 5}"
   ]
  },
  {
   "cell_type": "code",
   "execution_count": 3,
   "id": "fb23e789-dc14-4ca9-ac19-3eed5badca48",
   "metadata": {},
   "outputs": [
    {
     "name": "stdout",
     "output_type": "stream",
     "text": [
      "{1, 2, 3, 4, 5, 6}\n",
      "{1, 2, 3, 4, 5, 6}\n",
      "{3, 4}\n",
      "{3, 4}\n",
      "{1, 2}\n",
      "{1, 2}\n",
      "{1, 2, 5, 6}\n",
      "{1, 2, 5, 6}\n"
     ]
    }
   ],
   "source": [
    "set1 = {1, 2, 3, 4}\n",
    "set2 = {3, 4, 5, 6}\n",
    "\n",
    "# Union – combines all unique elements\n",
    "print(set1 | set2)            # {1, 2, 3, 4, 5, 6}\n",
    "print(set1.union(set2))       # same result\n",
    "\n",
    "# Intersection – common elements\n",
    "print(set1 & set2)            # {3, 4}\n",
    "print(set1.intersection(set2))# same result\n",
    "\n",
    "# Difference – in set1 but not in set2\n",
    "print(set1 - set2)            # {1, 2}\n",
    "print(set1.difference(set2))  # same result\n",
    "\n",
    "# Symmetric Difference – in either set, but not both\n",
    "print(set1 ^ set2)                     # {1, 2, 5, 6}\n",
    "print(set1.symmetric_difference(set2))# same result"
   ]
  },
  {
   "cell_type": "code",
   "execution_count": null,
   "id": "cfb31efb-4a1c-4ef7-9d7e-1b1e313a1dcf",
   "metadata": {},
   "outputs": [],
   "source": []
  }
 ],
 "metadata": {
  "kernelspec": {
   "display_name": "Python [conda env:base] *",
   "language": "python",
   "name": "conda-base-py"
  },
  "language_info": {
   "codemirror_mode": {
    "name": "ipython",
    "version": 3
   },
   "file_extension": ".py",
   "mimetype": "text/x-python",
   "name": "python",
   "nbconvert_exporter": "python",
   "pygments_lexer": "ipython3",
   "version": "3.12.7"
  }
 },
 "nbformat": 4,
 "nbformat_minor": 5
}
