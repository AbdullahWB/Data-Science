{
 "cells": [
  {
   "cell_type": "code",
   "execution_count": 1,
   "id": "daca093e-ada6-4126-b4f8-cab25587169a",
   "metadata": {},
   "outputs": [],
   "source": [
    "a = 4 "
   ]
  },
  {
   "cell_type": "code",
   "execution_count": 3,
   "id": "703a6685-da77-4bf7-82fc-32f087b6808b",
   "metadata": {},
   "outputs": [
    {
     "name": "stdout",
     "output_type": "stream",
     "text": [
      "smaller\n"
     ]
    }
   ],
   "source": [
    "if(a > 54):\n",
    "    print(\"Greater\")\n",
    "else:\n",
    "    print(\"smaller\")"
   ]
  },
  {
   "cell_type": "code",
   "execution_count": 5,
   "id": "a39081b5-b633-4526-9007-9f2c50c1a78b",
   "metadata": {},
   "outputs": [
    {
     "name": "stdout",
     "output_type": "stream",
     "text": [
      "x is exactly 5\n"
     ]
    }
   ],
   "source": [
    "x = 5\n",
    "if x > 10:\n",
    "    print(\"x is greater than 10\")\n",
    "elif x > 5:\n",
    "    print(\"x is greater than 5 but not more than 10\")\n",
    "elif x == 5:\n",
    "    print(\"x is exactly 5\")\n",
    "else:\n",
    "    print(\"x is less than 5\")"
   ]
  },
  {
   "cell_type": "code",
   "execution_count": 7,
   "id": "b6cbb65d-9db6-42ad-a2ce-acc3d0fb9252",
   "metadata": {},
   "outputs": [
    {
     "name": "stdout",
     "output_type": "stream",
     "text": [
      "Category: Adult\n"
     ]
    }
   ],
   "source": [
    "age = 25\n",
    "if age < 18:\n",
    "    category = \"Minor\"\n",
    "elif age < 65:\n",
    "    category = \"Adult\"\n",
    "else:\n",
    "    category = \"Senior Citizen\"\n",
    " \n",
    "print(\"Category:\", category)"
   ]
  },
  {
   "cell_type": "code",
   "execution_count": 9,
   "id": "463d4c38-f392-4b78-a6c5-b26af8422115",
   "metadata": {},
   "outputs": [
    {
     "name": "stdout",
     "output_type": "stream",
     "text": [
      "      Name  Score Result\n",
      "0    Alice     85   Pass\n",
      "1      Bob     40   Fail\n",
      "2  Charlie     75   Pass\n"
     ]
    }
   ],
   "source": [
    "import pandas as pd\n",
    " \n",
    "data = {'Name': ['Alice', 'Bob', 'Charlie'], 'Score': [85, 40, 75]}\n",
    "df = pd.DataFrame(data)\n",
    " \n",
    "df['Result'] = df['Score'].apply(lambda x: 'Pass' if x >= 50 else 'Fail')\n",
    "print(df)"
   ]
  },
  {
   "cell_type": "code",
   "execution_count": null,
   "id": "a554efad-29c0-47b8-99ab-c3927854d750",
   "metadata": {},
   "outputs": [],
   "source": []
  }
 ],
 "metadata": {
  "kernelspec": {
   "display_name": "Python [conda env:base] *",
   "language": "python",
   "name": "conda-base-py"
  },
  "language_info": {
   "codemirror_mode": {
    "name": "ipython",
    "version": 3
   },
   "file_extension": ".py",
   "mimetype": "text/x-python",
   "name": "python",
   "nbconvert_exporter": "python",
   "pygments_lexer": "ipython3",
   "version": "3.12.7"
  }
 },
 "nbformat": 4,
 "nbformat_minor": 5
}
