{
 "cells": [
  {
   "cell_type": "code",
   "execution_count": 1,
   "id": "d0566c43-227c-41ab-bf5f-db152083da07",
   "metadata": {},
   "outputs": [],
   "source": [
    "def add(x, y=50):\n",
    "    return x+y"
   ]
  },
  {
   "cell_type": "code",
   "execution_count": 3,
   "id": "2e716487-f2b1-42aa-b573-e57c1809d2ce",
   "metadata": {},
   "outputs": [
    {
     "data": {
      "text/plain": [
       "60"
      ]
     },
     "execution_count": 3,
     "metadata": {},
     "output_type": "execute_result"
    }
   ],
   "source": [
    "add(10)"
   ]
  },
  {
   "cell_type": "code",
   "execution_count": 5,
   "id": "6a7c98f2-230f-4afc-a272-d3a788013b87",
   "metadata": {},
   "outputs": [
    {
     "data": {
      "text/plain": [
       "20"
      ]
     },
     "execution_count": 5,
     "metadata": {},
     "output_type": "execute_result"
    }
   ],
   "source": [
    "add(10,10)"
   ]
  },
  {
   "cell_type": "code",
   "execution_count": 7,
   "id": "5f7c21b1-536c-4c2e-a6f3-336431ab5d36",
   "metadata": {},
   "outputs": [],
   "source": [
    "def newDef():\n",
    "    print(\"None\")"
   ]
  },
  {
   "cell_type": "code",
   "execution_count": 9,
   "id": "7c30a51e-c137-4595-9ce1-bb5aaffe18b4",
   "metadata": {},
   "outputs": [
    {
     "name": "stdout",
     "output_type": "stream",
     "text": [
      "None\n"
     ]
    }
   ],
   "source": [
    "newDef()"
   ]
  },
  {
   "cell_type": "code",
   "execution_count": 11,
   "id": "64abf895-e9b4-4512-a7ba-3797bba0eccb",
   "metadata": {},
   "outputs": [
    {
     "name": "stdout",
     "output_type": "stream",
     "text": [
      "None\n"
     ]
    }
   ],
   "source": [
    "a = newDef()"
   ]
  },
  {
   "cell_type": "code",
   "execution_count": null,
   "id": "f1c2061c-6d95-4c58-ab17-d37bb4024e99",
   "metadata": {},
   "outputs": [],
   "source": []
  },
  {
   "cell_type": "code",
   "execution_count": null,
   "id": "471702a5-cd3f-4c96-90e0-ab2eb82c6f8c",
   "metadata": {},
   "outputs": [],
   "source": []
  }
 ],
 "metadata": {
  "kernelspec": {
   "display_name": "Python [conda env:base] *",
   "language": "python",
   "name": "conda-base-py"
  },
  "language_info": {
   "codemirror_mode": {
    "name": "ipython",
    "version": 3
   },
   "file_extension": ".py",
   "mimetype": "text/x-python",
   "name": "python",
   "nbconvert_exporter": "python",
   "pygments_lexer": "ipython3",
   "version": "3.12.7"
  }
 },
 "nbformat": 4,
 "nbformat_minor": 5
}
