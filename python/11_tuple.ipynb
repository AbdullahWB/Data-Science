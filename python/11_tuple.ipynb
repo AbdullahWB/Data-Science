{
 "cells": [
  {
   "cell_type": "code",
   "execution_count": 1,
   "id": "d0ad890c-e9da-4dfa-aad3-4253dae2f503",
   "metadata": {},
   "outputs": [],
   "source": [
    "# Empty tuple\n",
    "empty_tuple = ()\n",
    " \n",
    "# Tuple with elements\n",
    "numbers = (1, 2, 3, 4, 5)\n",
    " \n",
    "# Mixed data types\n",
    "mixed_tuple = (1, \"Hello\", 3.14, True)\n",
    " \n",
    "# Single element tuple (comma is necessary)\n",
    "single_element = (42,)"
   ]
  },
  {
   "cell_type": "code",
   "execution_count": 3,
   "id": "3d250888-e186-4a12-be7f-8a8465f7a173",
   "metadata": {},
   "outputs": [
    {
     "name": "stdout",
     "output_type": "stream",
     "text": [
      "20\n",
      "(20, 30)\n"
     ]
    }
   ],
   "source": [
    "my_tuple = (10, 20, 30, 40)\n",
    "\n",
    "# Indexing\n",
    "print(my_tuple[1])  # 20\n",
    "\n",
    "# Slicing\n",
    "print(my_tuple[1:3])  # (20, 30)"
   ]
  },
  {
   "cell_type": "code",
   "execution_count": 5,
   "id": "faf3193b-650c-4e45-aca0-cdb8736d5730",
   "metadata": {},
   "outputs": [
    {
     "name": "stdout",
     "output_type": "stream",
     "text": [
      "Alice\n",
      "25\n"
     ]
    }
   ],
   "source": [
    "# Packing\n",
    "person = (\"Alice\", 25, \"Engineer\")\n",
    "\n",
    "# Unpacking\n",
    "name, age, profession = person\n",
    "print(name)  # Alice\n",
    "print(age)   # 25"
   ]
  },
  {
   "cell_type": "code",
   "execution_count": null,
   "id": "d7fd24e8-d019-4b08-af03-c2f47a0e431b",
   "metadata": {},
   "outputs": [],
   "source": []
  }
 ],
 "metadata": {
  "kernelspec": {
   "display_name": "Python [conda env:base] *",
   "language": "python",
   "name": "conda-base-py"
  },
  "language_info": {
   "codemirror_mode": {
    "name": "ipython",
    "version": 3
   },
   "file_extension": ".py",
   "mimetype": "text/x-python",
   "name": "python",
   "nbconvert_exporter": "python",
   "pygments_lexer": "ipython3",
   "version": "3.12.7"
  }
 },
 "nbformat": 4,
 "nbformat_minor": 5
}
