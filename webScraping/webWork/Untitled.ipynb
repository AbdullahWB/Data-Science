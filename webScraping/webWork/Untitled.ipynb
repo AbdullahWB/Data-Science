{
 "cells": [
  {
   "cell_type": "code",
   "execution_count": 1,
   "id": "299d0769-d655-4e26-9c46-0d5043a6cfd5",
   "metadata": {},
   "outputs": [],
   "source": [
    "import requests as re"
   ]
  },
  {
   "cell_type": "code",
   "execution_count": 2,
   "id": "bd829e17-5c84-421c-a2f0-d10be05095e6",
   "metadata": {},
   "outputs": [],
   "source": [
    "a = re.get(\"https://books.toscrape.com/\")"
   ]
  },
  {
   "cell_type": "code",
   "execution_count": 3,
   "id": "dee64f9b-af97-4b62-bd65-c145a07ec03a",
   "metadata": {},
   "outputs": [
    {
     "data": {
      "text/plain": [
       "<Response [200]>"
      ]
     },
     "execution_count": 3,
     "metadata": {},
     "output_type": "execute_result"
    }
   ],
   "source": [
    "a"
   ]
  },
  {
   "cell_type": "code",
   "execution_count": 4,
   "id": "9462d1f0-abef-4c56-9df2-3bbc48db8f19",
   "metadata": {},
   "outputs": [],
   "source": [
    "with open(f\"HTMLs/page1.html\", \"w\") as f:\n",
    "    f.write(a.text)"
   ]
  },
  {
   "cell_type": "code",
   "execution_count": 5,
   "id": "78601d6e-8273-44c8-bea1-a30d2a651d3e",
   "metadata": {},
   "outputs": [
    {
     "name": "stdout",
     "output_type": "stream",
     "text": [
      "print page1 successfully\n",
      "print page2 successfully\n",
      "print page3 successfully\n",
      "print page4 successfully\n",
      "print page5 successfully\n",
      "print page6 successfully\n",
      "print page7 successfully\n",
      "print page8 successfully\n",
      "print page9 successfully\n",
      "print page10 successfully\n",
      "print page11 successfully\n",
      "print page12 successfully\n",
      "print page13 successfully\n",
      "print page14 successfully\n",
      "print page15 successfully\n",
      "print page16 successfully\n",
      "print page17 successfully\n",
      "print page18 successfully\n",
      "print page19 successfully\n",
      "print page20 successfully\n",
      "print page21 successfully\n",
      "print page22 successfully\n",
      "print page23 successfully\n",
      "print page24 successfully\n",
      "print page25 successfully\n",
      "print page26 successfully\n",
      "print page27 successfully\n",
      "print page28 successfully\n",
      "print page29 successfully\n",
      "print page30 successfully\n",
      "print page31 successfully\n",
      "print page32 successfully\n",
      "print page33 successfully\n",
      "print page34 successfully\n",
      "print page35 successfully\n",
      "print page36 successfully\n",
      "print page37 successfully\n",
      "print page38 successfully\n",
      "print page39 successfully\n",
      "print page40 successfully\n",
      "print page41 successfully\n",
      "print page42 successfully\n",
      "print page43 successfully\n",
      "print page44 successfully\n",
      "print page45 successfully\n",
      "print page46 successfully\n",
      "print page47 successfully\n",
      "print page48 successfully\n",
      "print page49 successfully\n",
      "print page50 successfully\n"
     ]
    }
   ],
   "source": [
    "for i in range(1, 51):\n",
    "    a = re.get(f\"https://books.toscrape.com/catalogue/page-{i}.html\")\n",
    "    with open(f\"HTMLs/page{i}.html\", \"w\", encoding='utf-8') as f:\n",
    "        f.write(a.text)\n",
    "        print(f\"print page{i} successfully\")"
   ]
  },
  {
   "cell_type": "code",
   "execution_count": null,
   "id": "39c9b316-c072-45ef-9af4-2d426f997941",
   "metadata": {},
   "outputs": [],
   "source": [
    " "
   ]
  }
 ],
 "metadata": {
  "kernelspec": {
   "display_name": "Python [conda env:base] *",
   "language": "python",
   "name": "conda-base-py"
  },
  "language_info": {
   "codemirror_mode": {
    "name": "ipython",
    "version": 3
   },
   "file_extension": ".py",
   "mimetype": "text/x-python",
   "name": "python",
   "nbconvert_exporter": "python",
   "pygments_lexer": "ipython3",
   "version": "3.12.7"
  }
 },
 "nbformat": 4,
 "nbformat_minor": 5
}
