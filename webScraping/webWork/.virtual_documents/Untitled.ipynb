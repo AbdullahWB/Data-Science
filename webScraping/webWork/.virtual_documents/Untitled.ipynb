import requests as re


a = re.get("https://books.toscrape.com/")


a


with open(f"HTMLs/page1.html", "w") as f:
    f.write(a.text)


for i in range(1, 51):
    a = re.get(f"https://books.toscrape.com/catalogue/page-{i}.html")
    with open(f"HTMLs/page{i}.html", "w", encoding='utf-8') as f:
        f.write(a.text)
        print(f"print page{i} successfully")


 
