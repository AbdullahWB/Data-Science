from bs4 import BeautifulSoup


with open("HTMLs/page1.html", "r") as f:
    content = f.read()


soup = BeautifulSoup(content , "html.parser")


h3s = soup.find_all("h3")


h3s


for h3 in h3s:
    print(h3.find("a")['title'])


articles = soup.select("article.product_pod")


items = []
for article in articles:
    title = article.find("h3").find("a")["title"]
    price = article.select_one("p.price_color").text.split("£")[1]
    rating_element = article.select_one("p.star-rating")
    rating = rating_element['class'][1]
    items.append([title,price,rating])


items


import pandas as pd


df = pd.DataFrame(items, columns=['Books title','price','rating'])


df


items = []
for i in range(1,51):
    with open(f"HTMLs/page{i}.html", "r", encoding='utf-8') as f:
        content = f.read()
    soup = BeautifulSoup(content , "html.parser")
    articles = soup.select("article.product_pod")
    for article in articles:
        title = article.find("h3").find("a")["title"]
        price = article.select_one("p.price_color").text.split("£")[1]
        rating_element = article.select_one("p.star-rating")
        rating = rating_element['class'][1]
        items.append([title,price,rating])

import pandas as pd
df = pd.DataFrame(items, columns=['Books title','price','rating'])
df


df.to_csv("data.csv", index=False)



