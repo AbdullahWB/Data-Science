{
 "cells": [
  {
   "cell_type": "code",
   "execution_count": 1,
   "id": "49c0752a-7ff0-44c9-9461-9d12bd3305f2",
   "metadata": {},
   "outputs": [
    {
     "name": "stdout",
     "output_type": "stream",
     "text": [
      "Toyota Camry\n"
     ]
    }
   ],
   "source": [
    "class Car:\n",
    "    def __init__(self, brand, model):\n",
    "        self.brand = brand  # Attribute\n",
    "        self.model = model  # Attribute\n",
    "\n",
    "    def display_info(self):  # Method\n",
    "        return f\"{self.brand} {self.model}\"\n",
    "\n",
    "# Creating an Object (Instance)\n",
    "car1 = Car(\"Toyota\", \"Camry\")\n",
    "print(car1.display_info())  # Output: Toyota Camry"
   ]
  },
  {
   "cell_type": "code",
   "execution_count": 3,
   "id": "ba83a0d1-ca91-40db-a4d5-90436e605020",
   "metadata": {},
   "outputs": [
    {
     "name": "stdout",
     "output_type": "stream",
     "text": [
      "1500\n"
     ]
    }
   ],
   "source": [
    "class BankAccount:\n",
    "    def __init__(self, balance):\n",
    "        self.__balance = balance  # Private Attribute\n",
    "\n",
    "    def get_balance(self):  # Getter\n",
    "        return self.__balance\n",
    "\n",
    "    def deposit(self, amount):  # Setter\n",
    "        if amount > 0:\n",
    "            self.__balance += amount\n",
    "\n",
    "# Using Encapsulation\n",
    "account = BankAccount(1000)\n",
    "account.deposit(500)\n",
    "print(account.get_balance())  # Output: 1500"
   ]
  },
  {
   "cell_type": "code",
   "execution_count": 5,
   "id": "b539da90-9d70-456e-b9ef-74f5f5effc5c",
   "metadata": {},
   "outputs": [
    {
     "name": "stdout",
     "output_type": "stream",
     "text": [
      "Bark\n"
     ]
    }
   ],
   "source": [
    "class Animal:\n",
    "    def speak(self):\n",
    "        return \"Animal makes a sound\"\n",
    "\n",
    "class Dog(Animal):  # Inheriting from Animal\n",
    "    def speak(self):\n",
    "        return \"Bark\"\n",
    "\n",
    "dog = Dog()\n",
    "print(dog.speak())  # Output: Bark"
   ]
  },
  {
   "cell_type": "code",
   "execution_count": 7,
   "id": "d7f4b93e-a49c-410e-bede-aca8d32bd224",
   "metadata": {},
   "outputs": [
    {
     "name": "stdout",
     "output_type": "stream",
     "text": [
      "Method A\n",
      "Method B\n"
     ]
    }
   ],
   "source": [
    "class A:\n",
    "    def method_a(self):\n",
    "        return \"Method A\"\n",
    "\n",
    "class B:\n",
    "    def method_b(self):\n",
    "        return \"Method B\"\n",
    "\n",
    "class C(A, B):  # Multiple Inheritance\n",
    "    pass\n",
    "\n",
    "obj = C()\n",
    "print(obj.method_a())  # Output: Method A\n",
    "print(obj.method_b())  # Output: Method B"
   ]
  },
  {
   "cell_type": "code",
   "execution_count": 9,
   "id": "f8d13e66-1ded-4543-a218-dfbf1ecbc6a2",
   "metadata": {},
   "outputs": [
    {
     "name": "stdout",
     "output_type": "stream",
     "text": [
      "Birds can fly\n",
      "Penguins cannot fly\n"
     ]
    }
   ],
   "source": [
    "class Bird:\n",
    "    def fly(self):\n",
    "        return \"Birds can fly\"\n",
    "\n",
    "class Penguin(Bird):\n",
    "    def fly(self):\n",
    "        return \"Penguins cannot fly\"\n",
    "\n",
    "bird = Bird()\n",
    "penguin = Penguin()\n",
    "\n",
    "print(bird.fly())      # Output: Birds can fly\n",
    "print(penguin.fly())   # Output: Penguins cannot fly"
   ]
  },
  {
   "cell_type": "code",
   "execution_count": 11,
   "id": "7e25a897-5074-4a6a-9a6b-cf12237947f1",
   "metadata": {},
   "outputs": [
    {
     "name": "stdout",
     "output_type": "stream",
     "text": [
      "16\n"
     ]
    }
   ],
   "source": [
    "from abc import ABC, abstractmethod\n",
    "\n",
    "class Shape(ABC):\n",
    "    @abstractmethod\n",
    "    def area(self):\n",
    "        pass  # No implementation\n",
    "\n",
    "class Square(Shape):\n",
    "    def __init__(self, side):\n",
    "        self.side = side\n",
    "\n",
    "    def area(self):\n",
    "        return self.side * self.side  # Implemented in child class\n",
    "\n",
    "square = Square(4)\n",
    "print(square.area())  # Output: 16"
   ]
  },
  {
   "cell_type": "code",
   "execution_count": 13,
   "id": "7b2d308b-7d9b-47c4-9a45-46b40380dc88",
   "metadata": {},
   "outputs": [
    {
     "name": "stdout",
     "output_type": "stream",
     "text": [
      "Book: Python Basics\n",
      "300\n"
     ]
    }
   ],
   "source": [
    "class Book:\n",
    "    def __init__(self, title, pages):\n",
    "        self.title = title\n",
    "        self.pages = pages\n",
    "\n",
    "    def __str__(self):  # String representation\n",
    "        return f\"Book: {self.title}\"\n",
    "\n",
    "    def __len__(self):  # Define behavior for len()\n",
    "        return self.pages\n",
    "\n",
    "book = Book(\"Python Basics\", 300)\n",
    "print(str(book))  # Output: Book: Python Basics\n",
    "print(len(book))  # Output: 300"
   ]
  },
  {
   "cell_type": "code",
   "execution_count": 15,
   "id": "01862ed1-fff2-4db2-9f5c-9062cef35da9",
   "metadata": {},
   "outputs": [
    {
     "name": "stdout",
     "output_type": "stream",
     "text": [
      "Instance Method\n",
      "I am a class variable\n",
      "Static Method\n"
     ]
    }
   ],
   "source": [
    "class Example:\n",
    "    class_var = \"I am a class variable\"\n",
    "\n",
    "    def instance_method(self):\n",
    "        return \"Instance Method\"\n",
    "\n",
    "    @classmethod\n",
    "    def class_method(cls):\n",
    "        return cls.class_var\n",
    "\n",
    "    @staticmethod\n",
    "    def static_method():\n",
    "        return \"Static Method\"\n",
    "\n",
    "obj = Example()\n",
    "print(obj.instance_method())  # Output: Instance Method\n",
    "print(Example.class_method()) # Output: I am a class variable\n",
    "print(Example.static_method()) # Output: Static Method"
   ]
  },
  {
   "cell_type": "code",
   "execution_count": null,
   "id": "f4134ec1-358e-4fae-9e8e-e72f6c9d4266",
   "metadata": {},
   "outputs": [],
   "source": []
  }
 ],
 "metadata": {
  "kernelspec": {
   "display_name": "Python [conda env:base] *",
   "language": "python",
   "name": "conda-base-py"
  },
  "language_info": {
   "codemirror_mode": {
    "name": "ipython",
    "version": 3
   },
   "file_extension": ".py",
   "mimetype": "text/x-python",
   "name": "python",
   "nbconvert_exporter": "python",
   "pygments_lexer": "ipython3",
   "version": "3.12.7"
  }
 },
 "nbformat": 4,
 "nbformat_minor": 5
}
