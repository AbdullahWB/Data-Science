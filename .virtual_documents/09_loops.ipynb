fruits = ["apple", "banana", "cherry"]
 
for fruit in fruits:
    print(fruit)


count = 0
while count < 3:
    print(count)
    count += 1


for i in range(3):
    print(i)



