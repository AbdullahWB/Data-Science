{
 "cells": [
  {
   "cell_type": "code",
   "execution_count": 1,
   "id": "01debf1e-bb22-43cc-8871-f1e9dd129b3d",
   "metadata": {},
   "outputs": [],
   "source": [
    "# Empty list\n",
    "my_list = []\n",
    " \n",
    "# List with elements\n",
    "numbers = [1, 2, 3, 4, 5]\n",
    " \n",
    "# Mixed data types\n",
    "mixed_list = [1, \"Hello\", 3.14, True]"
   ]
  },
  {
   "cell_type": "code",
   "execution_count": null,
   "id": "28d3a34f-abe0-4f02-8e2c-665d4ab70afd",
   "metadata": {},
   "outputs": [],
   "source": []
  }
 ],
 "metadata": {
  "kernelspec": {
   "display_name": "Python [conda env:base] *",
   "language": "python",
   "name": "conda-base-py"
  },
  "language_info": {
   "codemirror_mode": {
    "name": "ipython",
    "version": 3
   },
   "file_extension": ".py",
   "mimetype": "text/x-python",
   "name": "python",
   "nbconvert_exporter": "python",
   "pygments_lexer": "ipython3",
   "version": "3.12.7"
  }
 },
 "nbformat": 4,
 "nbformat_minor": 5
}
