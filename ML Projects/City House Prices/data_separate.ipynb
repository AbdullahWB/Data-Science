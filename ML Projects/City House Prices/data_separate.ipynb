{
 "cells": [
  {
   "cell_type": "code",
   "execution_count": 1,
   "id": "9d522c9e-6671-441b-8dbc-f6198b7f8d9c",
   "metadata": {},
   "outputs": [],
   "source": [
    "import pandas as pd\n"
   ]
  },
  {
   "cell_type": "code",
   "execution_count": 2,
   "id": "eb67f244",
   "metadata": {},
   "outputs": [
    {
     "data": {
      "text/plain": [
       "Text(0.5, 1.0, 'Income Category Distribution')"
      ]
     },
     "execution_count": 2,
     "metadata": {},
     "output_type": "execute_result"
    },
    {
     "data": {
      "image/png": "[encoded data removed]",
      "text/plain": [
       "<Figure size 640x480 with 1 Axes>"
      ]
     },
     "metadata": {},
     "output_type": "display_data"
    }
   ],
   "source": [
    "df = pd.read_csv(\"housing.csv\")\n",
    "df[\"income_cat\"] = pd.cut(df[\"median_income\"],\n",
    "                         bins=[0, 1.5, 3.0, 4.5, 6.0, float(\"inf\")],\n",
    "                         labels=[1, 2, 3, 4, 5])\n",
    "import matplotlib.pyplot as plt\n",
    "df[\"income_cat\"].value_counts().sort_index().plot.bar(rot=0, grid=True)\n",
    "plt.xlabel(\"Income Category\")\n",
    "plt.ylabel(\"Number of Districts\")\n",
    "plt.title(\"Income Category Distribution\")"
   ]
  },
  {
   "cell_type": "code",
   "execution_count": 3,
   "id": "cb433e8a",
   "metadata": {},
   "outputs": [
    {
     "data": {
      "application/vnd.microsoft.datawrangler.viewer.v0+json": {
       "columns": [
        {
         "name": "index",
         "rawType": "int64",
         "type": "integer"
        },
        {
         "name": "longitude",
         "rawType": "float64",
         "type": "float"
        },
        {
         "name": "latitude",
         "rawType": "float64",
         "type": "float"
        },
        {
         "name": "housing_median_age",
         "rawType": "float64",
         "type": "float"
        },
        {
         "name": "total_rooms",
         "rawType": "float64",
         "type": "float"
        },
        {
         "name": "total_bedrooms",
         "rawType": "float64",
         "type": "float"
        },
        {
         "name": "population",
         "rawType": "float64",
         "type": "float"
        },
        {
         "name": "households",
         "rawType": "float64",
         "type": "float"
        },
        {
         "name": "median_income",
         "rawType": "float64",
         "type": "float"
        },
        {
         "name": "median_house_value",
         "rawType": "float64",
         "type": "float"
        },
        {
         "name": "ocean_proximity",
         "rawType": "object",
         "type": "string"
        },
        {
         "name": "income_cat",
         "rawType": "category",
         "type": "unknown"
        }
       ],
       "ref": "3bd5789a-5183-4464-a995-f582b6745e29",
       "rows": [
        [
         "0",
         "-122.23",
         "37.88",
         "41.0",
         "880.0",
         "129.0",
         "322.0",
         "126.0",
         "8.3252",
         "452600.0",
         "NEAR BAY",
         "5"
        ],
        [
         "1",
         "-122.22",
         "37.86",
         "21.0",
         "7099.0",
         "1106.0",
         "2401.0",
         "1138.0",
         "8.3014",
         "358500.0",
         "NEAR BAY",
         "5"
        ],
        [
         "2",
         "-122.24",
         "37.85",
         "52.0",
         "1467.0",
         "190.0",
         "496.0",
         "177.0",
         "7.2574",
         "352100.0",
         "NEAR BAY",
         "5"
        ],
        [
         "3",
         "-122.25",
         "37.85",
         "52.0",
         "1274.0",
         "235.0",
         "558.0",
         "219.0",
         "5.6431",
         "341300.0",
         "NEAR BAY",
         "4"
        ],
        [
         "4",
         "-122.25",
         "37.85",
         "52.0",
         "1627.0",
         "280.0",
         "565.0",
         "259.0",
         "3.8462",
         "342200.0",
         "NEAR BAY",
         "3"
        ]
       ],
       "shape": {
        "columns": 11,
        "rows": 5
       }
      },
      "text/html": [
       "<div>\n",
       "<style scoped>\n",
       "    .dataframe tbody tr th:only-of-type {\n",
       "        vertical-align: middle;\n",
       "    }\n",
       "\n",
       "    .dataframe tbody tr th {\n",
       "        vertical-align: top;\n",
       "    }\n",
       "\n",
       "    .dataframe thead th {\n",
       "        text-align: right;\n",
       "    }\n",
       "</style>\n",
       "<table border=\"1\" class=\"dataframe\">\n",
       "  <thead>\n",
       "    <tr style=\"text-align: right;\">\n",
       "      <th></th>\n",
       "      <th>longitude</th>\n",
       "      <th>latitude</th>\n",
       "      <th>housing_median_age</th>\n",
       "      <th>total_rooms</th>\n",
       "      <th>total_bedrooms</th>\n",
       "      <th>population</th>\n",
       "      <th>households</th>\n",
       "      <th>median_income</th>\n",
       "      <th>median_house_value</th>\n",
       "      <th>ocean_proximity</th>\n",
       "      <th>income_cat</th>\n",
       "    </tr>\n",
       "  </thead>\n",
       "  <tbody>\n",
       "    <tr>\n",
       "      <th>0</th>\n",
       "      <td>-122.23</td>\n",
       "      <td>37.88</td>\n",
       "      <td>41.0</td>\n",
       "      <td>880.0</td>\n",
       "      <td>129.0</td>\n",
       "      <td>322.0</td>\n",
       "      <td>126.0</td>\n",
       "      <td>8.3252</td>\n",
       "      <td>452600.0</td>\n",
       "      <td>NEAR BAY</td>\n",
       "      <td>5</td>\n",
       "    </tr>\n",
       "    <tr>\n",
       "      <th>1</th>\n",
       "      <td>-122.22</td>\n",
       "      <td>37.86</td>\n",
       "      <td>21.0</td>\n",
       "      <td>7099.0</td>\n",
       "      <td>1106.0</td>\n",
       "      <td>2401.0</td>\n",
       "      <td>1138.0</td>\n",
       "      <td>8.3014</td>\n",
       "      <td>358500.0</td>\n",
       "      <td>NEAR BAY</td>\n",
       "      <td>5</td>\n",
       "    </tr>\n",
       "    <tr>\n",
       "      <th>2</th>\n",
       "      <td>-122.24</td>\n",
       "      <td>37.85</td>\n",
       "      <td>52.0</td>\n",
       "      <td>1467.0</td>\n",
       "      <td>190.0</td>\n",
       "      <td>496.0</td>\n",
       "      <td>177.0</td>\n",
       "      <td>7.2574</td>\n",
       "      <td>352100.0</td>\n",
       "      <td>NEAR BAY</td>\n",
       "      <td>5</td>\n",
       "    </tr>\n",
       "    <tr>\n",
       "      <th>3</th>\n",
       "      <td>-122.25</td>\n",
       "      <td>37.85</td>\n",
       "      <td>52.0</td>\n",
       "      <td>1274.0</td>\n",
       "      <td>235.0</td>\n",
       "      <td>558.0</td>\n",
       "      <td>219.0</td>\n",
       "      <td>5.6431</td>\n",
       "      <td>341300.0</td>\n",
       "      <td>NEAR BAY</td>\n",
       "      <td>4</td>\n",
       "    </tr>\n",
       "    <tr>\n",
       "      <th>4</th>\n",
       "      <td>-122.25</td>\n",
       "      <td>37.85</td>\n",
       "      <td>52.0</td>\n",
       "      <td>1627.0</td>\n",
       "      <td>280.0</td>\n",
       "      <td>565.0</td>\n",
       "      <td>259.0</td>\n",
       "      <td>3.8462</td>\n",
       "      <td>342200.0</td>\n",
       "      <td>NEAR BAY</td>\n",
       "      <td>3</td>\n",
       "    </tr>\n",
       "  </tbody>\n",
       "</table>\n",
       "</div>"
      ],
      "text/plain": [
       "   longitude  latitude  housing_median_age  total_rooms  total_bedrooms  \\\n",
       "0    -122.23     37.88                41.0        880.0           129.0   \n",
       "1    -122.22     37.86                21.0       7099.0          1106.0   \n",
       "2    -122.24     37.85                52.0       1467.0           190.0   \n",
       "3    -122.25     37.85                52.0       1274.0           235.0   \n",
       "4    -122.25     37.85                52.0       1627.0           280.0   \n",
       "\n",
       "   population  households  median_income  median_house_value ocean_proximity  \\\n",
       "0       322.0       126.0         8.3252            452600.0        NEAR BAY   \n",
       "1      2401.0      1138.0         8.3014            358500.0        NEAR BAY   \n",
       "2       496.0       177.0         7.2574            352100.0        NEAR BAY   \n",
       "3       558.0       219.0         5.6431            341300.0        NEAR BAY   \n",
       "4       565.0       259.0         3.8462            342200.0        NEAR BAY   \n",
       "\n",
       "  income_cat  \n",
       "0          5  \n",
       "1          5  \n",
       "2          5  \n",
       "3          4  \n",
       "4          3  "
      ]
     },
     "execution_count": 3,
     "metadata": {},
     "output_type": "execute_result"
    }
   ],
   "source": [
    "df.head()"
   ]
  },
  {
   "cell_type": "code",
   "execution_count": 4,
   "id": "b5f402c9",
   "metadata": {},
   "outputs": [
    {
     "data": {
      "application/vnd.microsoft.datawrangler.viewer.v0+json": {
       "columns": [
        {
         "name": "index",
         "rawType": "int64",
         "type": "integer"
        },
        {
         "name": "longitude",
         "rawType": "float64",
         "type": "float"
        },
        {
         "name": "latitude",
         "rawType": "float64",
         "type": "float"
        },
        {
         "name": "housing_median_age",
         "rawType": "float64",
         "type": "float"
        },
        {
         "name": "total_rooms",
         "rawType": "float64",
         "type": "float"
        },
        {
         "name": "total_bedrooms",
         "rawType": "float64",
         "type": "float"
        },
        {
         "name": "population",
         "rawType": "float64",
         "type": "float"
        },
        {
         "name": "households",
         "rawType": "float64",
         "type": "float"
        },
        {
         "name": "median_income",
         "rawType": "float64",
         "type": "float"
        },
        {
         "name": "median_house_value",
         "rawType": "float64",
         "type": "float"
        },
        {
         "name": "ocean_proximity",
         "rawType": "object",
         "type": "string"
        },
        {
         "name": "income_cat",
         "rawType": "category",
         "type": "unknown"
        }
       ],
       "ref": "1bfffeb2-cce0-4cc6-9cc1-2ea3f985b425",
       "rows": [
        [
         "20635",
         "-121.09",
         "39.48",
         "25.0",
         "1665.0",
         "374.0",
         "845.0",
         "330.0",
         "1.5603",
         "78100.0",
         "INLAND",
         "2"
        ],
        [
         "20636",
         "-121.21",
         "39.49",
         "18.0",
         "697.0",
         "150.0",
         "356.0",
         "114.0",
         "2.5568",
         "77100.0",
         "INLAND",
         "2"
        ],
        [
         "20637",
         "-121.22",
         "39.43",
         "17.0",
         "2254.0",
         "485.0",
         "1007.0",
         "433.0",
         "1.7",
         "92300.0",
         "INLAND",
         "2"
        ],
        [
         "20638",
         "-121.32",
         "39.43",
         "18.0",
         "1860.0",
         "409.0",
         "741.0",
         "349.0",
         "1.8672",
         "84700.0",
         "INLAND",
         "2"
        ],
        [
         "20639",
         "-121.24",
         "39.37",
         "16.0",
         "2785.0",
         "616.0",
         "1387.0",
         "530.0",
         "2.3886",
         "89400.0",
         "INLAND",
         "2"
        ]
       ],
       "shape": {
        "columns": 11,
        "rows": 5
       }
      },
      "text/html": [
       "<div>\n",
       "<style scoped>\n",
       "    .dataframe tbody tr th:only-of-type {\n",
       "        vertical-align: middle;\n",
       "    }\n",
       "\n",
       "    .dataframe tbody tr th {\n",
       "        vertical-align: top;\n",
       "    }\n",
       "\n",
       "    .dataframe thead th {\n",
       "        text-align: right;\n",
       "    }\n",
       "</style>\n",
       "<table border=\"1\" class=\"dataframe\">\n",
       "  <thead>\n",
       "    <tr style=\"text-align: right;\">\n",
       "      <th></th>\n",
       "      <th>longitude</th>\n",
       "      <th>latitude</th>\n",
       "      <th>housing_median_age</th>\n",
       "      <th>total_rooms</th>\n",
       "      <th>total_bedrooms</th>\n",
       "      <th>population</th>\n",
       "      <th>households</th>\n",
       "      <th>median_income</th>\n",
       "      <th>median_house_value</th>\n",
       "      <th>ocean_proximity</th>\n",
       "      <th>income_cat</th>\n",
       "    </tr>\n",
       "  </thead>\n",
       "  <tbody>\n",
       "    <tr>\n",
       "      <th>20635</th>\n",
       "      <td>-121.09</td>\n",
       "      <td>39.48</td>\n",
       "      <td>25.0</td>\n",
       "      <td>1665.0</td>\n",
       "      <td>374.0</td>\n",
       "      <td>845.0</td>\n",
       "      <td>330.0</td>\n",
       "      <td>1.5603</td>\n",
       "      <td>78100.0</td>\n",
       "      <td>INLAND</td>\n",
       "      <td>2</td>\n",
       "    </tr>\n",
       "    <tr>\n",
       "      <th>20636</th>\n",
       "      <td>-121.21</td>\n",
       "      <td>39.49</td>\n",
       "      <td>18.0</td>\n",
       "      <td>697.0</td>\n",
       "      <td>150.0</td>\n",
       "      <td>356.0</td>\n",
       "      <td>114.0</td>\n",
       "      <td>2.5568</td>\n",
       "      <td>77100.0</td>\n",
       "      <td>INLAND</td>\n",
       "      <td>2</td>\n",
       "    </tr>\n",
       "    <tr>\n",
       "      <th>20637</th>\n",
       "      <td>-121.22</td>\n",
       "      <td>39.43</td>\n",
       "      <td>17.0</td>\n",
       "      <td>2254.0</td>\n",
       "      <td>485.0</td>\n",
       "      <td>1007.0</td>\n",
       "      <td>433.0</td>\n",
       "      <td>1.7000</td>\n",
       "      <td>92300.0</td>\n",
       "      <td>INLAND</td>\n",
       "      <td>2</td>\n",
       "    </tr>\n",
       "    <tr>\n",
       "      <th>20638</th>\n",
       "      <td>-121.32</td>\n",
       "      <td>39.43</td>\n",
       "      <td>18.0</td>\n",
       "      <td>1860.0</td>\n",
       "      <td>409.0</td>\n",
       "      <td>741.0</td>\n",
       "      <td>349.0</td>\n",
       "      <td>1.8672</td>\n",
       "      <td>84700.0</td>\n",
       "      <td>INLAND</td>\n",
       "      <td>2</td>\n",
       "    </tr>\n",
       "    <tr>\n",
       "      <th>20639</th>\n",
       "      <td>-121.24</td>\n",
       "      <td>39.37</td>\n",
       "      <td>16.0</td>\n",
       "      <td>2785.0</td>\n",
       "      <td>616.0</td>\n",
       "      <td>1387.0</td>\n",
       "      <td>530.0</td>\n",
       "      <td>2.3886</td>\n",
       "      <td>89400.0</td>\n",
       "      <td>INLAND</td>\n",
       "      <td>2</td>\n",
       "    </tr>\n",
       "  </tbody>\n",
       "</table>\n",
       "</div>"
      ],
      "text/plain": [
       "       longitude  latitude  housing_median_age  total_rooms  total_bedrooms  \\\n",
       "20635    -121.09     39.48                25.0       1665.0           374.0   \n",
       "20636    -121.21     39.49                18.0        697.0           150.0   \n",
       "20637    -121.22     39.43                17.0       2254.0           485.0   \n",
       "20638    -121.32     39.43                18.0       1860.0           409.0   \n",
       "20639    -121.24     39.37                16.0       2785.0           616.0   \n",
       "\n",
       "       population  households  median_income  median_house_value  \\\n",
       "20635       845.0       330.0         1.5603             78100.0   \n",
       "20636       356.0       114.0         2.5568             77100.0   \n",
       "20637      1007.0       433.0         1.7000             92300.0   \n",
       "20638       741.0       349.0         1.8672             84700.0   \n",
       "20639      1387.0       530.0         2.3886             89400.0   \n",
       "\n",
       "      ocean_proximity income_cat  \n",
       "20635          INLAND          2  \n",
       "20636          INLAND          2  \n",
       "20637          INLAND          2  \n",
       "20638          INLAND          2  \n",
       "20639          INLAND          2  "
      ]
     },
     "execution_count": 4,
     "metadata": {},
     "output_type": "execute_result"
    }
   ],
   "source": [
    "df.tail()"
   ]
  },
  {
   "cell_type": "code",
   "execution_count": 5,
   "id": "5567067a",
   "metadata": {},
   "outputs": [
    {
     "name": "stdout",
     "output_type": "stream",
     "text": [
      "<class 'pandas.core.frame.DataFrame'>\n",
      "RangeIndex: 20640 entries, 0 to 20639\n",
      "Data columns (total 11 columns):\n",
      " #   Column              Non-Null Count  Dtype   \n",
      "---  ------              --------------  -----   \n",
      " 0   longitude           20640 non-null  float64 \n",
      " 1   latitude            20640 non-null  float64 \n",
      " 2   housing_median_age  20640 non-null  float64 \n",
      " 3   total_rooms         20640 non-null  float64 \n",
      " 4   total_bedrooms      20433 non-null  float64 \n",
      " 5   population          20640 non-null  float64 \n",
      " 6   households          20640 non-null  float64 \n",
      " 7   median_income       20640 non-null  float64 \n",
      " 8   median_house_value  20640 non-null  float64 \n",
      " 9   ocean_proximity     20640 non-null  object  \n",
      " 10  income_cat          20640 non-null  category\n",
      "dtypes: category(1), float64(9), object(1)\n",
      "memory usage: 1.6+ MB\n"
     ]
    }
   ],
   "source": [
    "df.info()"
   ]
  },
  {
   "cell_type": "code",
   "execution_count": 6,
   "id": "f71eae38",
   "metadata": {},
   "outputs": [
    {
     "data": {
      "application/vnd.microsoft.datawrangler.viewer.v0+json": {
       "columns": [
        {
         "name": "index",
         "rawType": "object",
         "type": "string"
        },
        {
         "name": "longitude",
         "rawType": "float64",
         "type": "float"
        },
        {
         "name": "latitude",
         "rawType": "float64",
         "type": "float"
        },
        {
         "name": "housing_median_age",
         "rawType": "float64",
         "type": "float"
        },
        {
         "name": "total_rooms",
         "rawType": "float64",
         "type": "float"
        },
        {
         "name": "total_bedrooms",
         "rawType": "float64",
         "type": "float"
        },
        {
         "name": "population",
         "rawType": "float64",
         "type": "float"
        },
        {
         "name": "households",
         "rawType": "float64",
         "type": "float"
        },
        {
         "name": "median_income",
         "rawType": "float64",
         "type": "float"
        },
        {
         "name": "median_house_value",
         "rawType": "float64",
         "type": "float"
        }
       ],
       "ref": "58e9d9c2-8e44-4c95-8c43-a5decaa5b008",
       "rows": [
        [
         "count",
         "20640.0",
         "20640.0",
         "20640.0",
         "20640.0",
         "20433.0",
         "20640.0",
         "20640.0",
         "20640.0",
         "20640.0"
        ],
        [
         "mean",
         "-119.56970445736432",
         "35.63186143410852",
         "28.639486434108527",
         "2635.7630813953488",
         "537.8705525375618",
         "1425.4767441860465",
         "499.5396802325581",
         "3.8706710029069766",
         "206855.81690891474"
        ],
        [
         "std",
         "2.003531723502581",
         "2.1359523974571117",
         "12.585557612111637",
         "2181.615251582787",
         "421.3850700740322",
         "1132.4621217653375",
         "382.3297528316099",
         "1.8998217179452732",
         "115395.6158744132"
        ],
        [
         "min",
         "-124.35",
         "32.54",
         "1.0",
         "2.0",
         "1.0",
         "3.0",
         "1.0",
         "0.4999",
         "14999.0"
        ],
        [
         "25%",
         "-121.8",
         "33.93",
         "18.0",
         "1447.75",
         "296.0",
         "787.0",
         "280.0",
         "2.5633999999999997",
         "119600.0"
        ],
        [
         "50%",
         "-118.49",
         "34.26",
         "29.0",
         "2127.0",
         "435.0",
         "1166.0",
         "409.0",
         "3.5347999999999997",
         "179700.0"
        ],
        [
         "75%",
         "-118.01",
         "37.71",
         "37.0",
         "3148.0",
         "647.0",
         "1725.0",
         "605.0",
         "4.74325",
         "264725.0"
        ],
        [
         "max",
         "-114.31",
         "41.95",
         "52.0",
         "39320.0",
         "6445.0",
         "35682.0",
         "6082.0",
         "15.0001",
         "500001.0"
        ]
       ],
       "shape": {
        "columns": 9,
        "rows": 8
       }
      },
      "text/html": [
       "<div>\n",
       "<style scoped>\n",
       "    .dataframe tbody tr th:only-of-type {\n",
       "        vertical-align: middle;\n",
       "    }\n",
       "\n",
       "    .dataframe tbody tr th {\n",
       "        vertical-align: top;\n",
       "    }\n",
       "\n",
       "    .dataframe thead th {\n",
       "        text-align: right;\n",
       "    }\n",
       "</style>\n",
       "<table border=\"1\" class=\"dataframe\">\n",
       "  <thead>\n",
       "    <tr style=\"text-align: right;\">\n",
       "      <th></th>\n",
       "      <th>longitude</th>\n",
       "      <th>latitude</th>\n",
       "      <th>housing_median_age</th>\n",
       "      <th>total_rooms</th>\n",
       "      <th>total_bedrooms</th>\n",
       "      <th>population</th>\n",
       "      <th>households</th>\n",
       "      <th>median_income</th>\n",
       "      <th>median_house_value</th>\n",
       "    </tr>\n",
       "  </thead>\n",
       "  <tbody>\n",
       "    <tr>\n",
       "      <th>count</th>\n",
       "      <td>20640.000000</td>\n",
       "      <td>20640.000000</td>\n",
       "      <td>20640.000000</td>\n",
       "      <td>20640.000000</td>\n",
       "      <td>20433.000000</td>\n",
       "      <td>20640.000000</td>\n",
       "      <td>20640.000000</td>\n",
       "      <td>20640.000000</td>\n",
       "      <td>20640.000000</td>\n",
       "    </tr>\n",
       "    <tr>\n",
       "      <th>mean</th>\n",
       "      <td>-119.569704</td>\n",
       "      <td>35.631861</td>\n",
       "      <td>28.639486</td>\n",
       "      <td>2635.763081</td>\n",
       "      <td>537.870553</td>\n",
       "      <td>1425.476744</td>\n",
       "      <td>499.539680</td>\n",
       "      <td>3.870671</td>\n",
       "      <td>206855.816909</td>\n",
       "    </tr>\n",
       "    <tr>\n",
       "      <th>std</th>\n",
       "      <td>2.003532</td>\n",
       "      <td>2.135952</td>\n",
       "      <td>12.585558</td>\n",
       "      <td>2181.615252</td>\n",
       "      <td>421.385070</td>\n",
       "      <td>1132.462122</td>\n",
       "      <td>382.329753</td>\n",
       "      <td>1.899822</td>\n",
       "      <td>115395.615874</td>\n",
       "    </tr>\n",
       "    <tr>\n",
       "      <th>min</th>\n",
       "      <td>-124.350000</td>\n",
       "      <td>32.540000</td>\n",
       "      <td>1.000000</td>\n",
       "      <td>2.000000</td>\n",
       "      <td>1.000000</td>\n",
       "      <td>3.000000</td>\n",
       "      <td>1.000000</td>\n",
       "      <td>0.499900</td>\n",
       "      <td>14999.000000</td>\n",
       "    </tr>\n",
       "    <tr>\n",
       "      <th>25%</th>\n",
       "      <td>-121.800000</td>\n",
       "      <td>33.930000</td>\n",
       "      <td>18.000000</td>\n",
       "      <td>1447.750000</td>\n",
       "      <td>296.000000</td>\n",
       "      <td>787.000000</td>\n",
       "      <td>280.000000</td>\n",
       "      <td>2.563400</td>\n",
       "      <td>119600.000000</td>\n",
       "    </tr>\n",
       "    <tr>\n",
       "      <th>50%</th>\n",
       "      <td>-118.490000</td>\n",
       "      <td>34.260000</td>\n",
       "      <td>29.000000</td>\n",
       "      <td>2127.000000</td>\n",
       "      <td>435.000000</td>\n",
       "      <td>1166.000000</td>\n",
       "      <td>409.000000</td>\n",
       "      <td>3.534800</td>\n",
       "      <td>179700.000000</td>\n",
       "    </tr>\n",
       "    <tr>\n",
       "      <th>75%</th>\n",
       "      <td>-118.010000</td>\n",
       "      <td>37.710000</td>\n",
       "      <td>37.000000</td>\n",
       "      <td>3148.000000</td>\n",
       "      <td>647.000000</td>\n",
       "      <td>1725.000000</td>\n",
       "      <td>605.000000</td>\n",
       "      <td>4.743250</td>\n",
       "      <td>264725.000000</td>\n",
       "    </tr>\n",
       "    <tr>\n",
       "      <th>max</th>\n",
       "      <td>-114.310000</td>\n",
       "      <td>41.950000</td>\n",
       "      <td>52.000000</td>\n",
       "      <td>39320.000000</td>\n",
       "      <td>6445.000000</td>\n",
       "      <td>35682.000000</td>\n",
       "      <td>6082.000000</td>\n",
       "      <td>15.000100</td>\n",
       "      <td>500001.000000</td>\n",
       "    </tr>\n",
       "  </tbody>\n",
       "</table>\n",
       "</div>"
      ],
      "text/plain": [
       "          longitude      latitude  housing_median_age   total_rooms  \\\n",
       "count  20640.000000  20640.000000        20640.000000  20640.000000   \n",
       "mean    -119.569704     35.631861           28.639486   2635.763081   \n",
       "std        2.003532      2.135952           12.585558   2181.615252   \n",
       "min     -124.350000     32.540000            1.000000      2.000000   \n",
       "25%     -121.800000     33.930000           18.000000   1447.750000   \n",
       "50%     -118.490000     34.260000           29.000000   2127.000000   \n",
       "75%     -118.010000     37.710000           37.000000   3148.000000   \n",
       "max     -114.310000     41.950000           52.000000  39320.000000   \n",
       "\n",
       "       total_bedrooms    population    households  median_income  \\\n",
       "count    20433.000000  20640.000000  20640.000000   20640.000000   \n",
       "mean       537.870553   1425.476744    499.539680       3.870671   \n",
       "std        421.385070   1132.462122    382.329753       1.899822   \n",
       "min          1.000000      3.000000      1.000000       0.499900   \n",
       "25%        296.000000    787.000000    280.000000       2.563400   \n",
       "50%        435.000000   1166.000000    409.000000       3.534800   \n",
       "75%        647.000000   1725.000000    605.000000       4.743250   \n",
       "max       6445.000000  35682.000000   6082.000000      15.000100   \n",
       "\n",
       "       median_house_value  \n",
       "count        20640.000000  \n",
       "mean        206855.816909  \n",
       "std         115395.615874  \n",
       "min          14999.000000  \n",
       "25%         119600.000000  \n",
       "50%         179700.000000  \n",
       "75%         264725.000000  \n",
       "max         500001.000000  "
      ]
     },
     "execution_count": 6,
     "metadata": {},
     "output_type": "execute_result"
    }
   ],
   "source": [
    "df.describe()"
   ]
  },
  {
   "cell_type": "code",
   "execution_count": 7,
   "id": "11ccd19c",
   "metadata": {
    "notebookRunGroups": {
     "groupValue": "1"
    }
   },
   "outputs": [
    {
     "data": {
      "application/vnd.microsoft.datawrangler.viewer.v0+json": {
       "columns": [
        {
         "name": "index",
         "rawType": "object",
         "type": "string"
        },
        {
         "name": "0",
         "rawType": "int64",
         "type": "integer"
        }
       ],
       "ref": "84ff05b1-7a2d-482a-9d91-4d96360acc5c",
       "rows": [
        [
         "longitude",
         "0"
        ],
        [
         "latitude",
         "0"
        ],
        [
         "housing_median_age",
         "0"
        ],
        [
         "total_rooms",
         "0"
        ],
        [
         "total_bedrooms",
         "207"
        ],
        [
         "population",
         "0"
        ],
        [
         "households",
         "0"
        ],
        [
         "median_income",
         "0"
        ],
        [
         "median_house_value",
         "0"
        ],
        [
         "ocean_proximity",
         "0"
        ],
        [
         "income_cat",
         "0"
        ]
       ],
       "shape": {
        "columns": 1,
        "rows": 11
       }
      },
      "text/plain": [
       "longitude               0\n",
       "latitude                0\n",
       "housing_median_age      0\n",
       "total_rooms             0\n",
       "total_bedrooms        207\n",
       "population              0\n",
       "households              0\n",
       "median_income           0\n",
       "median_house_value      0\n",
       "ocean_proximity         0\n",
       "income_cat              0\n",
       "dtype: int64"
      ]
     },
     "execution_count": 7,
     "metadata": {},
     "output_type": "execute_result"
    }
   ],
   "source": [
    "df.isnull().sum()"
   ]
  },
  {
   "cell_type": "code",
   "execution_count": 8,
   "id": "f16ab0d7",
   "metadata": {},
   "outputs": [],
   "source": [
    "df[\"total_bedrooms\"] = df[\"total_bedrooms\"].fillna(df[\"total_bedrooms\"].mean())"
   ]
  },
  {
   "cell_type": "code",
   "execution_count": 9,
   "id": "7f4863a8",
   "metadata": {},
   "outputs": [
    {
     "data": {
      "application/vnd.microsoft.datawrangler.viewer.v0+json": {
       "columns": [
        {
         "name": "index",
         "rawType": "object",
         "type": "string"
        },
        {
         "name": "0",
         "rawType": "int64",
         "type": "integer"
        }
       ],
       "ref": "04fd44dd-2c2c-4282-9251-5080741a1d87",
       "rows": [
        [
         "longitude",
         "0"
        ],
        [
         "latitude",
         "0"
        ],
        [
         "housing_median_age",
         "0"
        ],
        [
         "total_rooms",
         "0"
        ],
        [
         "total_bedrooms",
         "0"
        ],
        [
         "population",
         "0"
        ],
        [
         "households",
         "0"
        ],
        [
         "median_income",
         "0"
        ],
        [
         "median_house_value",
         "0"
        ],
        [
         "ocean_proximity",
         "0"
        ],
        [
         "income_cat",
         "0"
        ]
       ],
       "shape": {
        "columns": 1,
        "rows": 11
       }
      },
      "text/plain": [
       "longitude             0\n",
       "latitude              0\n",
       "housing_median_age    0\n",
       "total_rooms           0\n",
       "total_bedrooms        0\n",
       "population            0\n",
       "households            0\n",
       "median_income         0\n",
       "median_house_value    0\n",
       "ocean_proximity       0\n",
       "income_cat            0\n",
       "dtype: int64"
      ]
     },
     "execution_count": 9,
     "metadata": {},
     "output_type": "execute_result"
    }
   ],
   "source": [
    "df.isnull().sum()"
   ]
  },
  {
   "cell_type": "code",
   "execution_count": 10,
   "id": "0e33bd32",
   "metadata": {},
   "outputs": [
    {
     "data": {
      "application/vnd.microsoft.datawrangler.viewer.v0+json": {
       "columns": [
        {
         "name": "ocean_proximity",
         "rawType": "object",
         "type": "string"
        },
        {
         "name": "count",
         "rawType": "int64",
         "type": "integer"
        }
       ],
       "ref": "2a021044-96d2-4564-9038-3853893da55d",
       "rows": [
        [
         "<1H OCEAN",
         "9136"
        ],
        [
         "INLAND",
         "6551"
        ],
        [
         "NEAR OCEAN",
         "2658"
        ],
        [
         "NEAR BAY",
         "2290"
        ],
        [
         "ISLAND",
         "5"
        ]
       ],
       "shape": {
        "columns": 1,
        "rows": 5
       }
      },
      "text/plain": [
       "ocean_proximity\n",
       "<1H OCEAN     9136\n",
       "INLAND        6551\n",
       "NEAR OCEAN    2658\n",
       "NEAR BAY      2290\n",
       "ISLAND           5\n",
       "Name: count, dtype: int64"
      ]
     },
     "execution_count": 10,
     "metadata": {},
     "output_type": "execute_result"
    }
   ],
   "source": [
    "df[\"ocean_proximity\"].value_counts()"
   ]
  },
  {
   "cell_type": "code",
   "execution_count": 11,
   "id": "82beeda2",
   "metadata": {},
   "outputs": [],
   "source": [
    "import matplotlib.pyplot as plt"
   ]
  },
  {
   "cell_type": "code",
   "execution_count": 12,
   "id": "1c070982",
   "metadata": {},
   "outputs": [
    {
     "data": {
      "image/png": "[encoded data removed]",
      "text/plain": [
       "<Figure size 2000x1500 with 9 Axes>"
      ]
     },
     "metadata": {},
     "output_type": "display_data"
    }
   ],
   "source": [
    "df.hist(bins=50, figsize=(20, 15))\n",
    "plt.show()"
   ]
  },
  {
   "cell_type": "code",
   "execution_count": 13,
   "id": "b3355f83",
   "metadata": {},
   "outputs": [],
   "source": [
    "import numpy as np"
   ]
  },
  {
   "cell_type": "code",
   "execution_count": 14,
   "id": "aa07536e",
   "metadata": {},
   "outputs": [],
   "source": [
    "def shuffle_and_split_data(data, test_ratio):\n",
    "    np.random.seed(42)  # For reproducibility\n",
    "    shuffle_indices = np.random.permutation(len(data))\n",
    "    # print(f\"Shuffle indices: {shuffle_indices}\")\n",
    "    test_set_size = int(len(data) * test_ratio)\n",
    "    test_indices = shuffle_indices[:test_set_size]\n",
    "    train_indices = shuffle_indices[test_set_size:]\n",
    "    return data.iloc[train_indices], data.iloc[test_indices]"
   ]
  },
  {
   "cell_type": "code",
   "execution_count": 15,
   "id": "764c6f57",
   "metadata": {},
   "outputs": [
    {
     "data": {
      "text/plain": [
       "(       longitude  latitude  housing_median_age  total_rooms  total_bedrooms  \\\n",
       " 14196    -117.03     32.71                33.0       3126.0           627.0   \n",
       " 8267     -118.16     33.77                49.0       3382.0           787.0   \n",
       " 17445    -120.48     34.66                 4.0       1897.0           331.0   \n",
       " 14265    -117.11     32.69                36.0       1421.0           367.0   \n",
       " 2271     -119.80     36.78                43.0       2382.0           431.0   \n",
       " ...          ...       ...                 ...          ...             ...   \n",
       " 11284    -117.96     33.78                35.0       1330.0           201.0   \n",
       " 11964    -117.43     34.02                33.0       3084.0           570.0   \n",
       " 5390     -118.38     34.03                36.0       2101.0           569.0   \n",
       " 860      -121.96     37.58                15.0       3575.0           597.0   \n",
       " 15795    -122.42     37.77                52.0       4226.0          1315.0   \n",
       " \n",
       "        population  households  median_income  median_house_value  \\\n",
       " 14196      2300.0       623.0         3.2596            103000.0   \n",
       " 8267       1314.0       756.0         3.8125            382100.0   \n",
       " 17445       915.0       336.0         4.1563            172600.0   \n",
       " 14265      1418.0       355.0         1.9425             93400.0   \n",
       " 2271        874.0       380.0         3.5542             96500.0   \n",
       " ...           ...         ...            ...                 ...   \n",
       " 11284       658.0       217.0         6.3700            229200.0   \n",
       " 11964      1753.0       449.0         3.0500             97800.0   \n",
       " 5390       1756.0       527.0         2.9344            222100.0   \n",
       " 860        1777.0       559.0         5.7192            283500.0   \n",
       " 15795      2619.0      1242.0         2.5755            325000.0   \n",
       " \n",
       "       ocean_proximity income_cat  \n",
       " 14196      NEAR OCEAN          3  \n",
       " 8267       NEAR OCEAN          3  \n",
       " 17445      NEAR OCEAN          3  \n",
       " 14265      NEAR OCEAN          2  \n",
       " 2271           INLAND          3  \n",
       " ...               ...        ...  \n",
       " 11284       <1H OCEAN          5  \n",
       " 11964          INLAND          3  \n",
       " 5390        <1H OCEAN          2  \n",
       " 860         <1H OCEAN          4  \n",
       " 15795        NEAR BAY          2  \n",
       " \n",
       " [16512 rows x 11 columns],\n",
       "        longitude  latitude  housing_median_age  total_rooms  total_bedrooms  \\\n",
       " 20046    -119.01     36.06                25.0       1505.0      537.870553   \n",
       " 3024     -119.46     35.14                30.0       2943.0      537.870553   \n",
       " 15663    -122.44     37.80                52.0       3830.0      537.870553   \n",
       " 20484    -118.72     34.28                17.0       3051.0      537.870553   \n",
       " 9814     -121.93     36.62                34.0       2351.0      537.870553   \n",
       " ...          ...       ...                 ...          ...             ...   \n",
       " 15362    -117.22     33.36                16.0       3165.0      482.000000   \n",
       " 16623    -120.83     35.36                28.0       4323.0      886.000000   \n",
       " 18086    -122.05     37.31                25.0       4111.0      538.000000   \n",
       " 2144     -119.76     36.77                36.0       2507.0      466.000000   \n",
       " 3665     -118.37     34.22                17.0       1787.0      463.000000   \n",
       " \n",
       "        population  households  median_income  median_house_value  \\\n",
       " 20046      1392.0       359.0         1.6812             47700.0   \n",
       " 3024       1565.0       584.0         2.5313             45800.0   \n",
       " 15663      1310.0       963.0         3.4801            500001.0   \n",
       " 20484      1705.0       495.0         5.7376            218600.0   \n",
       " 9814       1063.0       428.0         3.7250            278000.0   \n",
       " ...           ...         ...            ...                 ...   \n",
       " 15362      1351.0       452.0         4.6050            263300.0   \n",
       " 16623      1650.0       705.0         2.7266            266800.0   \n",
       " 18086      1585.0       568.0         9.2298            500001.0   \n",
       " 2144       1227.0       474.0         2.7850             72300.0   \n",
       " 3665       1671.0       448.0         3.5521            151500.0   \n",
       " \n",
       "       ocean_proximity income_cat  \n",
       " 20046          INLAND          2  \n",
       " 3024           INLAND          2  \n",
       " 15663        NEAR BAY          3  \n",
       " 20484       <1H OCEAN          4  \n",
       " 9814       NEAR OCEAN          3  \n",
       " ...               ...        ...  \n",
       " 15362       <1H OCEAN          4  \n",
       " 16623      NEAR OCEAN          2  \n",
       " 18086       <1H OCEAN          5  \n",
       " 2144           INLAND          2  \n",
       " 3665        <1H OCEAN          3  \n",
       " \n",
       " [4128 rows x 11 columns])"
      ]
     },
     "execution_count": 15,
     "metadata": {},
     "output_type": "execute_result"
    }
   ],
   "source": [
    "shuffle_and_split_data(df, 0.2)"
   ]
  },
  {
   "cell_type": "code",
   "execution_count": 16,
   "id": "cc110c20",
   "metadata": {},
   "outputs": [],
   "source": [
    "train_set, test_set = shuffle_and_split_data(df, 0.2)"
   ]
  },
  {
   "cell_type": "code",
   "execution_count": 17,
   "id": "65afd269",
   "metadata": {},
   "outputs": [
    {
     "data": {
      "application/vnd.microsoft.datawrangler.viewer.v0+json": {
       "columns": [
        {
         "name": "index",
         "rawType": "int64",
         "type": "integer"
        },
        {
         "name": "longitude",
         "rawType": "float64",
         "type": "float"
        },
        {
         "name": "latitude",
         "rawType": "float64",
         "type": "float"
        },
        {
         "name": "housing_median_age",
         "rawType": "float64",
         "type": "float"
        },
        {
         "name": "total_rooms",
         "rawType": "float64",
         "type": "float"
        },
        {
         "name": "total_bedrooms",
         "rawType": "float64",
         "type": "float"
        },
        {
         "name": "population",
         "rawType": "float64",
         "type": "float"
        },
        {
         "name": "households",
         "rawType": "float64",
         "type": "float"
        },
        {
         "name": "median_income",
         "rawType": "float64",
         "type": "float"
        },
        {
         "name": "median_house_value",
         "rawType": "float64",
         "type": "float"
        },
        {
         "name": "ocean_proximity",
         "rawType": "object",
         "type": "string"
        },
        {
         "name": "income_cat",
         "rawType": "category",
         "type": "unknown"
        }
       ],
       "ref": "23d1d9d0-23c9-4f40-8b0e-c04a09fdb78c",
       "rows": [
        [
         "14196",
         "-117.03",
         "32.71",
         "33.0",
         "3126.0",
         "627.0",
         "2300.0",
         "623.0",
         "3.2596",
         "103000.0",
         "NEAR OCEAN",
         "3"
        ],
        [
         "8267",
         "-118.16",
         "33.77",
         "49.0",
         "3382.0",
         "787.0",
         "1314.0",
         "756.0",
         "3.8125",
         "382100.0",
         "NEAR OCEAN",
         "3"
        ],
        [
         "17445",
         "-120.48",
         "34.66",
         "4.0",
         "1897.0",
         "331.0",
         "915.0",
         "336.0",
         "4.1563",
         "172600.0",
         "NEAR OCEAN",
         "3"
        ],
        [
         "14265",
         "-117.11",
         "32.69",
         "36.0",
         "1421.0",
         "367.0",
         "1418.0",
         "355.0",
         "1.9425",
         "93400.0",
         "NEAR OCEAN",
         "2"
        ],
        [
         "2271",
         "-119.8",
         "36.78",
         "43.0",
         "2382.0",
         "431.0",
         "874.0",
         "380.0",
         "3.5542",
         "96500.0",
         "INLAND",
         "3"
        ]
       ],
       "shape": {
        "columns": 11,
        "rows": 5
       }
      },
      "text/html": [
       "<div>\n",
       "<style scoped>\n",
       "    .dataframe tbody tr th:only-of-type {\n",
       "        vertical-align: middle;\n",
       "    }\n",
       "\n",
       "    .dataframe tbody tr th {\n",
       "        vertical-align: top;\n",
       "    }\n",
       "\n",
       "    .dataframe thead th {\n",
       "        text-align: right;\n",
       "    }\n",
       "</style>\n",
       "<table border=\"1\" class=\"dataframe\">\n",
       "  <thead>\n",
       "    <tr style=\"text-align: right;\">\n",
       "      <th></th>\n",
       "      <th>longitude</th>\n",
       "      <th>latitude</th>\n",
       "      <th>housing_median_age</th>\n",
       "      <th>total_rooms</th>\n",
       "      <th>total_bedrooms</th>\n",
       "      <th>population</th>\n",
       "      <th>households</th>\n",
       "      <th>median_income</th>\n",
       "      <th>median_house_value</th>\n",
       "      <th>ocean_proximity</th>\n",
       "      <th>income_cat</th>\n",
       "    </tr>\n",
       "  </thead>\n",
       "  <tbody>\n",
       "    <tr>\n",
       "      <th>14196</th>\n",
       "      <td>-117.03</td>\n",
       "      <td>32.71</td>\n",
       "      <td>33.0</td>\n",
       "      <td>3126.0</td>\n",
       "      <td>627.0</td>\n",
       "      <td>2300.0</td>\n",
       "      <td>623.0</td>\n",
       "      <td>3.2596</td>\n",
       "      <td>103000.0</td>\n",
       "      <td>NEAR OCEAN</td>\n",
       "      <td>3</td>\n",
       "    </tr>\n",
       "    <tr>\n",
       "      <th>8267</th>\n",
       "      <td>-118.16</td>\n",
       "      <td>33.77</td>\n",
       "      <td>49.0</td>\n",
       "      <td>3382.0</td>\n",
       "      <td>787.0</td>\n",
       "      <td>1314.0</td>\n",
       "      <td>756.0</td>\n",
       "      <td>3.8125</td>\n",
       "      <td>382100.0</td>\n",
       "      <td>NEAR OCEAN</td>\n",
       "      <td>3</td>\n",
       "    </tr>\n",
       "    <tr>\n",
       "      <th>17445</th>\n",
       "      <td>-120.48</td>\n",
       "      <td>34.66</td>\n",
       "      <td>4.0</td>\n",
       "      <td>1897.0</td>\n",
       "      <td>331.0</td>\n",
       "      <td>915.0</td>\n",
       "      <td>336.0</td>\n",
       "      <td>4.1563</td>\n",
       "      <td>172600.0</td>\n",
       "      <td>NEAR OCEAN</td>\n",
       "      <td>3</td>\n",
       "    </tr>\n",
       "    <tr>\n",
       "      <th>14265</th>\n",
       "      <td>-117.11</td>\n",
       "      <td>32.69</td>\n",
       "      <td>36.0</td>\n",
       "      <td>1421.0</td>\n",
       "      <td>367.0</td>\n",
       "      <td>1418.0</td>\n",
       "      <td>355.0</td>\n",
       "      <td>1.9425</td>\n",
       "      <td>93400.0</td>\n",
       "      <td>NEAR OCEAN</td>\n",
       "      <td>2</td>\n",
       "    </tr>\n",
       "    <tr>\n",
       "      <th>2271</th>\n",
       "      <td>-119.80</td>\n",
       "      <td>36.78</td>\n",
       "      <td>43.0</td>\n",
       "      <td>2382.0</td>\n",
       "      <td>431.0</td>\n",
       "      <td>874.0</td>\n",
       "      <td>380.0</td>\n",
       "      <td>3.5542</td>\n",
       "      <td>96500.0</td>\n",
       "      <td>INLAND</td>\n",
       "      <td>3</td>\n",
       "    </tr>\n",
       "  </tbody>\n",
       "</table>\n",
       "</div>"
      ],
      "text/plain": [
       "       longitude  latitude  housing_median_age  total_rooms  total_bedrooms  \\\n",
       "14196    -117.03     32.71                33.0       3126.0           627.0   \n",
       "8267     -118.16     33.77                49.0       3382.0           787.0   \n",
       "17445    -120.48     34.66                 4.0       1897.0           331.0   \n",
       "14265    -117.11     32.69                36.0       1421.0           367.0   \n",
       "2271     -119.80     36.78                43.0       2382.0           431.0   \n",
       "\n",
       "       population  households  median_income  median_house_value  \\\n",
       "14196      2300.0       623.0         3.2596            103000.0   \n",
       "8267       1314.0       756.0         3.8125            382100.0   \n",
       "17445       915.0       336.0         4.1563            172600.0   \n",
       "14265      1418.0       355.0         1.9425             93400.0   \n",
       "2271        874.0       380.0         3.5542             96500.0   \n",
       "\n",
       "      ocean_proximity income_cat  \n",
       "14196      NEAR OCEAN          3  \n",
       "8267       NEAR OCEAN          3  \n",
       "17445      NEAR OCEAN          3  \n",
       "14265      NEAR OCEAN          2  \n",
       "2271           INLAND          3  "
      ]
     },
     "execution_count": 17,
     "metadata": {},
     "output_type": "execute_result"
    }
   ],
   "source": [
    "train_set.head()"
   ]
  },
  {
   "cell_type": "code",
   "execution_count": 18,
   "id": "685cdfee",
   "metadata": {},
   "outputs": [
    {
     "data": {
      "application/vnd.microsoft.datawrangler.viewer.v0+json": {
       "columns": [
        {
         "name": "index",
         "rawType": "int64",
         "type": "integer"
        },
        {
         "name": "longitude",
         "rawType": "float64",
         "type": "float"
        },
        {
         "name": "latitude",
         "rawType": "float64",
         "type": "float"
        },
        {
         "name": "housing_median_age",
         "rawType": "float64",
         "type": "float"
        },
        {
         "name": "total_rooms",
         "rawType": "float64",
         "type": "float"
        },
        {
         "name": "total_bedrooms",
         "rawType": "float64",
         "type": "float"
        },
        {
         "name": "population",
         "rawType": "float64",
         "type": "float"
        },
        {
         "name": "households",
         "rawType": "float64",
         "type": "float"
        },
        {
         "name": "median_income",
         "rawType": "float64",
         "type": "float"
        },
        {
         "name": "median_house_value",
         "rawType": "float64",
         "type": "float"
        },
        {
         "name": "ocean_proximity",
         "rawType": "object",
         "type": "string"
        },
        {
         "name": "income_cat",
         "rawType": "category",
         "type": "unknown"
        }
       ],
       "ref": "f5cb2f42-ee79-4986-a3b5-f48a0e20cd83",
       "rows": [
        [
         "20046",
         "-119.01",
         "36.06",
         "25.0",
         "1505.0",
         "537.8705525375618",
         "1392.0",
         "359.0",
         "1.6812",
         "47700.0",
         "INLAND",
         "2"
        ],
        [
         "3024",
         "-119.46",
         "35.14",
         "30.0",
         "2943.0",
         "537.8705525375618",
         "1565.0",
         "584.0",
         "2.5313",
         "45800.0",
         "INLAND",
         "2"
        ],
        [
         "15663",
         "-122.44",
         "37.8",
         "52.0",
         "3830.0",
         "537.8705525375618",
         "1310.0",
         "963.0",
         "3.4801",
         "500001.0",
         "NEAR BAY",
         "3"
        ],
        [
         "20484",
         "-118.72",
         "34.28",
         "17.0",
         "3051.0",
         "537.8705525375618",
         "1705.0",
         "495.0",
         "5.7376",
         "218600.0",
         "<1H OCEAN",
         "4"
        ],
        [
         "9814",
         "-121.93",
         "36.62",
         "34.0",
         "2351.0",
         "537.8705525375618",
         "1063.0",
         "428.0",
         "3.725",
         "278000.0",
         "NEAR OCEAN",
         "3"
        ]
       ],
       "shape": {
        "columns": 11,
        "rows": 5
       }
      },
      "text/html": [
       "<div>\n",
       "<style scoped>\n",
       "    .dataframe tbody tr th:only-of-type {\n",
       "        vertical-align: middle;\n",
       "    }\n",
       "\n",
       "    .dataframe tbody tr th {\n",
       "        vertical-align: top;\n",
       "    }\n",
       "\n",
       "    .dataframe thead th {\n",
       "        text-align: right;\n",
       "    }\n",
       "</style>\n",
       "<table border=\"1\" class=\"dataframe\">\n",
       "  <thead>\n",
       "    <tr style=\"text-align: right;\">\n",
       "      <th></th>\n",
       "      <th>longitude</th>\n",
       "      <th>latitude</th>\n",
       "      <th>housing_median_age</th>\n",
       "      <th>total_rooms</th>\n",
       "      <th>total_bedrooms</th>\n",
       "      <th>population</th>\n",
       "      <th>households</th>\n",
       "      <th>median_income</th>\n",
       "      <th>median_house_value</th>\n",
       "      <th>ocean_proximity</th>\n",
       "      <th>income_cat</th>\n",
       "    </tr>\n",
       "  </thead>\n",
       "  <tbody>\n",
       "    <tr>\n",
       "      <th>20046</th>\n",
       "      <td>-119.01</td>\n",
       "      <td>36.06</td>\n",
       "      <td>25.0</td>\n",
       "      <td>1505.0</td>\n",
       "      <td>537.870553</td>\n",
       "      <td>1392.0</td>\n",
       "      <td>359.0</td>\n",
       "      <td>1.6812</td>\n",
       "      <td>47700.0</td>\n",
       "      <td>INLAND</td>\n",
       "      <td>2</td>\n",
       "    </tr>\n",
       "    <tr>\n",
       "      <th>3024</th>\n",
       "      <td>-119.46</td>\n",
       "      <td>35.14</td>\n",
       "      <td>30.0</td>\n",
       "      <td>2943.0</td>\n",
       "      <td>537.870553</td>\n",
       "      <td>1565.0</td>\n",
       "      <td>584.0</td>\n",
       "      <td>2.5313</td>\n",
       "      <td>45800.0</td>\n",
       "      <td>INLAND</td>\n",
       "      <td>2</td>\n",
       "    </tr>\n",
       "    <tr>\n",
       "      <th>15663</th>\n",
       "      <td>-122.44</td>\n",
       "      <td>37.80</td>\n",
       "      <td>52.0</td>\n",
       "      <td>3830.0</td>\n",
       "      <td>537.870553</td>\n",
       "      <td>1310.0</td>\n",
       "      <td>963.0</td>\n",
       "      <td>3.4801</td>\n",
       "      <td>500001.0</td>\n",
       "      <td>NEAR BAY</td>\n",
       "      <td>3</td>\n",
       "    </tr>\n",
       "    <tr>\n",
       "      <th>20484</th>\n",
       "      <td>-118.72</td>\n",
       "      <td>34.28</td>\n",
       "      <td>17.0</td>\n",
       "      <td>3051.0</td>\n",
       "      <td>537.870553</td>\n",
       "      <td>1705.0</td>\n",
       "      <td>495.0</td>\n",
       "      <td>5.7376</td>\n",
       "      <td>218600.0</td>\n",
       "      <td>&lt;1H OCEAN</td>\n",
       "      <td>4</td>\n",
       "    </tr>\n",
       "    <tr>\n",
       "      <th>9814</th>\n",
       "      <td>-121.93</td>\n",
       "      <td>36.62</td>\n",
       "      <td>34.0</td>\n",
       "      <td>2351.0</td>\n",
       "      <td>537.870553</td>\n",
       "      <td>1063.0</td>\n",
       "      <td>428.0</td>\n",
       "      <td>3.7250</td>\n",
       "      <td>278000.0</td>\n",
       "      <td>NEAR OCEAN</td>\n",
       "      <td>3</td>\n",
       "    </tr>\n",
       "  </tbody>\n",
       "</table>\n",
       "</div>"
      ],
      "text/plain": [
       "       longitude  latitude  housing_median_age  total_rooms  total_bedrooms  \\\n",
       "20046    -119.01     36.06                25.0       1505.0      537.870553   \n",
       "3024     -119.46     35.14                30.0       2943.0      537.870553   \n",
       "15663    -122.44     37.80                52.0       3830.0      537.870553   \n",
       "20484    -118.72     34.28                17.0       3051.0      537.870553   \n",
       "9814     -121.93     36.62                34.0       2351.0      537.870553   \n",
       "\n",
       "       population  households  median_income  median_house_value  \\\n",
       "20046      1392.0       359.0         1.6812             47700.0   \n",
       "3024       1565.0       584.0         2.5313             45800.0   \n",
       "15663      1310.0       963.0         3.4801            500001.0   \n",
       "20484      1705.0       495.0         5.7376            218600.0   \n",
       "9814       1063.0       428.0         3.7250            278000.0   \n",
       "\n",
       "      ocean_proximity income_cat  \n",
       "20046          INLAND          2  \n",
       "3024           INLAND          2  \n",
       "15663        NEAR BAY          3  \n",
       "20484       <1H OCEAN          4  \n",
       "9814       NEAR OCEAN          3  "
      ]
     },
     "execution_count": 18,
     "metadata": {},
     "output_type": "execute_result"
    }
   ],
   "source": [
    "test_set.head()"
   ]
  },
  {
   "cell_type": "code",
   "execution_count": 19,
   "id": "65766a68",
   "metadata": {},
   "outputs": [],
   "source": [
    "from sklearn.model_selection import StratifiedShuffleSplit"
   ]
  },
  {
   "cell_type": "code",
   "execution_count": 20,
   "id": "8c5a1d56",
   "metadata": {},
   "outputs": [],
   "source": [
    "split = StratifiedShuffleSplit(n_splits=1, test_size=0.2, random_state=42)\n",
    "for train_index, test_index in split.split(df, df[\"income_cat\"]):\n",
    "    strat_train_set = df.loc[train_index]\n",
    "    strat_test_set = df.loc[test_index]"
   ]
  },
  {
   "cell_type": "code",
   "execution_count": 21,
   "id": "b45b531c",
   "metadata": {},
   "outputs": [
    {
     "data": {
      "application/vnd.microsoft.datawrangler.viewer.v0+json": {
       "columns": [
        {
         "name": "index",
         "rawType": "int64",
         "type": "integer"
        },
        {
         "name": "longitude",
         "rawType": "float64",
         "type": "float"
        },
        {
         "name": "latitude",
         "rawType": "float64",
         "type": "float"
        },
        {
         "name": "housing_median_age",
         "rawType": "float64",
         "type": "float"
        },
        {
         "name": "total_rooms",
         "rawType": "float64",
         "type": "float"
        },
        {
         "name": "total_bedrooms",
         "rawType": "float64",
         "type": "float"
        },
        {
         "name": "population",
         "rawType": "float64",
         "type": "float"
        },
        {
         "name": "households",
         "rawType": "float64",
         "type": "float"
        },
        {
         "name": "median_income",
         "rawType": "float64",
         "type": "float"
        },
        {
         "name": "median_house_value",
         "rawType": "float64",
         "type": "float"
        },
        {
         "name": "ocean_proximity",
         "rawType": "object",
         "type": "string"
        },
        {
         "name": "income_cat",
         "rawType": "category",
         "type": "unknown"
        }
       ],
       "ref": "ccaf6d88-cd05-43a1-beec-0530c248c46c",
       "rows": [
        [
         "5241",
         "-118.39",
         "34.12",
         "29.0",
         "6447.0",
         "1012.0",
         "2184.0",
         "960.0",
         "8.2816",
         "500001.0",
         "<1H OCEAN",
         "5"
        ],
        [
         "17352",
         "-120.42",
         "34.89",
         "24.0",
         "2020.0",
         "307.0",
         "855.0",
         "283.0",
         "5.0099",
         "162500.0",
         "<1H OCEAN",
         "4"
        ],
        [
         "3505",
         "-118.45",
         "34.25",
         "36.0",
         "1453.0",
         "270.0",
         "808.0",
         "275.0",
         "4.3839",
         "204600.0",
         "<1H OCEAN",
         "3"
        ],
        [
         "7777",
         "-118.1",
         "33.91",
         "35.0",
         "1653.0",
         "325.0",
         "1072.0",
         "301.0",
         "3.2708",
         "159700.0",
         "<1H OCEAN",
         "3"
        ],
        [
         "14155",
         "-117.07",
         "32.77",
         "38.0",
         "3779.0",
         "614.0",
         "1495.0",
         "614.0",
         "4.3529",
         "184000.0",
         "NEAR OCEAN",
         "3"
        ],
        [
         "7057",
         "-118.04",
         "33.93",
         "35.0",
         "1805.0",
         "387.0",
         "1505.0",
         "366.0",
         "4.1667",
         "151900.0",
         "<1H OCEAN",
         "3"
        ],
        [
         "33",
         "-122.27",
         "37.83",
         "49.0",
         "1655.0",
         "366.0",
         "754.0",
         "329.0",
         "1.375",
         "104900.0",
         "NEAR BAY",
         "1"
        ],
        [
         "17049",
         "-122.26",
         "37.46",
         "26.0",
         "5067.0",
         "750.0",
         "1996.0",
         "728.0",
         "7.0001",
         "500001.0",
         "NEAR OCEAN",
         "5"
        ],
        [
         "18164",
         "-122.03",
         "37.36",
         "16.0",
         "2697.0",
         "803.0",
         "1369.0",
         "723.0",
         "4.4699",
         "367400.0",
         "<1H OCEAN",
         "3"
        ],
        [
         "10444",
         "-117.61",
         "33.43",
         "24.0",
         "2303.0",
         "399.0",
         "851.0",
         "379.0",
         "3.9875",
         "346500.0",
         "NEAR OCEAN",
         "3"
        ],
        [
         "4652",
         "-118.32",
         "34.06",
         "36.0",
         "3239.0",
         "722.0",
         "1383.0",
         "612.0",
         "4.5918",
         "337000.0",
         "<1H OCEAN",
         "4"
        ],
        [
         "16294",
         "-121.23",
         "37.96",
         "44.0",
         "2204.0",
         "473.0",
         "1277.0",
         "435.0",
         "1.5539",
         "59200.0",
         "INLAND",
         "2"
        ],
        [
         "16531",
         "-121.2",
         "37.81",
         "26.0",
         "395.0",
         "74.0",
         "193.0",
         "72.0",
         "7.3718",
         "212500.0",
         "INLAND",
         "5"
        ],
        [
         "18029",
         "-121.91",
         "37.24",
         "24.0",
         "5046.0",
         "1001.0",
         "2449.0",
         "968.0",
         "4.7118",
         "274600.0",
         "<1H OCEAN",
         "4"
        ],
        [
         "3492",
         "-118.48",
         "34.28",
         "35.0",
         "2132.0",
         "368.0",
         "1128.0",
         "341.0",
         "5.3107",
         "227100.0",
         "<1H OCEAN",
         "4"
        ],
        [
         "13279",
         "-117.65",
         "34.1",
         "44.0",
         "1526.0",
         "337.0",
         "831.0",
         "326.0",
         "3.0284",
         "115800.0",
         "INLAND",
         "3"
        ],
        [
         "1108",
         "-121.59",
         "39.82",
         "12.0",
         "1958.0",
         "369.0",
         "875.0",
         "354.0",
         "2.3507",
         "97600.0",
         "INLAND",
         "2"
        ],
        [
         "2839",
         "-118.97",
         "35.41",
         "36.0",
         "1896.0",
         "315.0",
         "937.0",
         "303.0",
         "3.996",
         "85500.0",
         "INLAND",
         "3"
        ],
        [
         "7888",
         "-118.06",
         "33.88",
         "17.0",
         "7187.0",
         "1073.0",
         "3844.0",
         "1068.0",
         "6.5901",
         "337400.0",
         "<1H OCEAN",
         "5"
        ],
        [
         "8658",
         "-118.39",
         "33.85",
         "24.0",
         "4373.0",
         "871.0",
         "1830.0",
         "824.0",
         "5.7128",
         "366200.0",
         "<1H OCEAN",
         "4"
        ],
        [
         "11441",
         "-117.98",
         "33.73",
         "18.0",
         "3833.0",
         "537.8705525375618",
         "2192.0",
         "996.0",
         "3.4679",
         "219700.0",
         "<1H OCEAN",
         "3"
        ],
        [
         "8780",
         "-118.32",
         "33.79",
         "35.0",
         "2924.0",
         "658.0",
         "1675.0",
         "602.0",
         "3.8287",
         "279900.0",
         "<1H OCEAN",
         "3"
        ],
        [
         "17314",
         "-120.27",
         "34.72",
         "14.0",
         "1289.0",
         "277.0",
         "693.0",
         "237.0",
         "3.2569",
         "230800.0",
         "<1H OCEAN",
         "3"
        ],
        [
         "3216",
         "-119.65",
         "36.33",
         "52.0",
         "1257.0",
         "257.0",
         "624.0",
         "243.0",
         "2.3523",
         "59100.0",
         "INLAND",
         "2"
        ],
        [
         "2202",
         "-119.86",
         "36.82",
         "12.0",
         "1488.0",
         "253.0",
         "675.0",
         "223.0",
         "4.7622",
         "89300.0",
         "INLAND",
         "4"
        ],
        [
         "3072",
         "-119.23",
         "35.78",
         "8.0",
         "1612.0",
         "343.0",
         "1230.0",
         "330.0",
         "2.1806",
         "67200.0",
         "INLAND",
         "2"
        ],
        [
         "5878",
         "-118.35",
         "34.16",
         "45.0",
         "1390.0",
         "281.0",
         "538.0",
         "270.0",
         "4.2212",
         "293800.0",
         "<1H OCEAN",
         "3"
        ],
        [
         "19452",
         "-120.94",
         "37.68",
         "4.0",
         "13315.0",
         "2424.0",
         "6420.0",
         "2289.0",
         "4.2471",
         "162100.0",
         "INLAND",
         "3"
        ],
        [
         "3009",
         "-118.99",
         "35.24",
         "40.0",
         "282.0",
         "59.0",
         "213.0",
         "71.0",
         "2.35",
         "91700.0",
         "INLAND",
         "2"
        ],
        [
         "19612",
         "-121.11",
         "37.47",
         "12.0",
         "2263.0",
         "410.0",
         "913.0",
         "330.0",
         "3.5795",
         "145600.0",
         "INLAND",
         "3"
        ],
        [
         "6493",
         "-118.02",
         "34.08",
         "28.0",
         "2769.0",
         "631.0",
         "2452.0",
         "581.0",
         "2.6071",
         "175900.0",
         "INLAND",
         "2"
        ],
        [
         "10072",
         "-120.17",
         "39.33",
         "10.0",
         "614.0",
         "141.0",
         "195.0",
         "95.0",
         "0.9283",
         "116300.0",
         "INLAND",
         "1"
        ],
        [
         "5055",
         "-118.35",
         "34.02",
         "34.0",
         "3978.0",
         "1073.0",
         "2725.0",
         "1035.0",
         "1.7622",
         "167900.0",
         "<1H OCEAN",
         "2"
        ],
        [
         "9472",
         "-123.34",
         "39.5",
         "15.0",
         "2342.0",
         "535.0",
         "1064.0",
         "433.0",
         "1.8967",
         "96600.0",
         "INLAND",
         "2"
        ],
        [
         "19749",
         "-122.24",
         "40.18",
         "39.0",
         "2191.0",
         "493.0",
         "1307.0",
         "499.0",
         "1.6483",
         "60800.0",
         "INLAND",
         "2"
        ],
        [
         "18159",
         "-122.03",
         "37.36",
         "28.0",
         "2490.0",
         "345.0",
         "948.0",
         "361.0",
         "6.4913",
         "411900.0",
         "<1H OCEAN",
         "5"
        ],
        [
         "14778",
         "-117.09",
         "32.58",
         "12.0",
         "2565.0",
         "567.0",
         "1785.0",
         "545.0",
         "3.0273",
         "135300.0",
         "NEAR OCEAN",
         "3"
        ],
        [
         "5859",
         "-118.33",
         "34.18",
         "45.0",
         "1552.0",
         "315.0",
         "785.0",
         "316.0",
         "3.7411",
         "235500.0",
         "<1H OCEAN",
         "3"
        ],
        [
         "12578",
         "-121.44",
         "38.53",
         "37.0",
         "1951.0",
         "432.0",
         "1089.0",
         "411.0",
         "2.3272",
         "80600.0",
         "INLAND",
         "2"
        ],
        [
         "17231",
         "-119.7",
         "34.43",
         "35.0",
         "1402.0",
         "369.0",
         "654.0",
         "385.0",
         "2.6205",
         "318800.0",
         "<1H OCEAN",
         "2"
        ],
        [
         "13952",
         "-117.15",
         "34.22",
         "10.0",
         "1039.0",
         "174.0",
         "317.0",
         "109.0",
         "7.2371",
         "171900.0",
         "INLAND",
         "5"
        ],
        [
         "8607",
         "-118.37",
         "33.87",
         "18.0",
         "2516.0",
         "485.0",
         "1128.0",
         "433.0",
         "5.0114",
         "338600.0",
         "<1H OCEAN",
         "4"
        ],
        [
         "11667",
         "-118.01",
         "33.85",
         "29.0",
         "3061.0",
         "612.0",
         "2396.0",
         "640.0",
         "4.6326",
         "195200.0",
         "<1H OCEAN",
         "4"
        ],
        [
         "1819",
         "-122.32",
         "37.94",
         "47.0",
         "1911.0",
         "283.0",
         "697.0",
         "275.0",
         "6.2712",
         "267700.0",
         "NEAR BAY",
         "5"
        ],
        [
         "10086",
         "-117.96",
         "33.94",
         "34.0",
         "2228.0",
         "399.0",
         "1159.0",
         "378.0",
         "4.8906",
         "228900.0",
         "<1H OCEAN",
         "4"
        ],
        [
         "6355",
         "-117.96",
         "34.14",
         "33.0",
         "1994.0",
         "405.0",
         "993.0",
         "403.0",
         "3.766",
         "163900.0",
         "INLAND",
         "3"
        ],
        [
         "11995",
         "-117.55",
         "34.0",
         "17.0",
         "3583.0",
         "700.0",
         "1587.0",
         "719.0",
         "2.6979",
         "75000.0",
         "INLAND",
         "2"
        ],
        [
         "480",
         "-122.28",
         "37.86",
         "41.0",
         "2214.0",
         "550.0",
         "1213.0",
         "568.0",
         "2.2845",
         "153100.0",
         "NEAR BAY",
         "2"
        ],
        [
         "13446",
         "-117.43",
         "34.07",
         "18.0",
         "2453.0",
         "537.0",
         "1503.0",
         "500.0",
         "2.3768",
         "95300.0",
         "INLAND",
         "2"
        ],
        [
         "15364",
         "-117.21",
         "33.34",
         "10.0",
         "5294.0",
         "817.0",
         "2312.0",
         "810.0",
         "5.4563",
         "325700.0",
         "<1H OCEAN",
         "4"
        ]
       ],
       "shape": {
        "columns": 11,
        "rows": 4128
       }
      },
      "text/html": [
       "<div>\n",
       "<style scoped>\n",
       "    .dataframe tbody tr th:only-of-type {\n",
       "        vertical-align: middle;\n",
       "    }\n",
       "\n",
       "    .dataframe tbody tr th {\n",
       "        vertical-align: top;\n",
       "    }\n",
       "\n",
       "    .dataframe thead th {\n",
       "        text-align: right;\n",
       "    }\n",
       "</style>\n",
       "<table border=\"1\" class=\"dataframe\">\n",
       "  <thead>\n",
       "    <tr style=\"text-align: right;\">\n",
       "      <th></th>\n",
       "      <th>longitude</th>\n",
       "      <th>latitude</th>\n",
       "      <th>housing_median_age</th>\n",
       "      <th>total_rooms</th>\n",
       "      <th>total_bedrooms</th>\n",
       "      <th>population</th>\n",
       "      <th>households</th>\n",
       "      <th>median_income</th>\n",
       "      <th>median_house_value</th>\n",
       "      <th>ocean_proximity</th>\n",
       "      <th>income_cat</th>\n",
       "    </tr>\n",
       "  </thead>\n",
       "  <tbody>\n",
       "    <tr>\n",
       "      <th>5241</th>\n",
       "      <td>-118.39</td>\n",
       "      <td>34.12</td>\n",
       "      <td>29.0</td>\n",
       "      <td>6447.0</td>\n",
       "      <td>1012.0</td>\n",
       "      <td>2184.0</td>\n",
       "      <td>960.0</td>\n",
       "      <td>8.2816</td>\n",
       "      <td>500001.0</td>\n",
       "      <td>&lt;1H OCEAN</td>\n",
       "      <td>5</td>\n",
       "    </tr>\n",
       "    <tr>\n",
       "      <th>17352</th>\n",
       "      <td>-120.42</td>\n",
       "      <td>34.89</td>\n",
       "      <td>24.0</td>\n",
       "      <td>2020.0</td>\n",
       "      <td>307.0</td>\n",
       "      <td>855.0</td>\n",
       "      <td>283.0</td>\n",
       "      <td>5.0099</td>\n",
       "      <td>162500.0</td>\n",
       "      <td>&lt;1H OCEAN</td>\n",
       "      <td>4</td>\n",
       "    </tr>\n",
       "    <tr>\n",
       "      <th>3505</th>\n",
       "      <td>-118.45</td>\n",
       "      <td>34.25</td>\n",
       "      <td>36.0</td>\n",
       "      <td>1453.0</td>\n",
       "      <td>270.0</td>\n",
       "      <td>808.0</td>\n",
       "      <td>275.0</td>\n",
       "      <td>4.3839</td>\n",
       "      <td>204600.0</td>\n",
       "      <td>&lt;1H OCEAN</td>\n",
       "      <td>3</td>\n",
       "    </tr>\n",
       "    <tr>\n",
       "      <th>7777</th>\n",
       "      <td>-118.10</td>\n",
       "      <td>33.91</td>\n",
       "      <td>35.0</td>\n",
       "      <td>1653.0</td>\n",
       "      <td>325.0</td>\n",
       "      <td>1072.0</td>\n",
       "      <td>301.0</td>\n",
       "      <td>3.2708</td>\n",
       "      <td>159700.0</td>\n",
       "      <td>&lt;1H OCEAN</td>\n",
       "      <td>3</td>\n",
       "    </tr>\n",
       "    <tr>\n",
       "      <th>14155</th>\n",
       "      <td>-117.07</td>\n",
       "      <td>32.77</td>\n",
       "      <td>38.0</td>\n",
       "      <td>3779.0</td>\n",
       "      <td>614.0</td>\n",
       "      <td>1495.0</td>\n",
       "      <td>614.0</td>\n",
       "      <td>4.3529</td>\n",
       "      <td>184000.0</td>\n",
       "      <td>NEAR OCEAN</td>\n",
       "      <td>3</td>\n",
       "    </tr>\n",
       "    <tr>\n",
       "      <th>...</th>\n",
       "      <td>...</td>\n",
       "      <td>...</td>\n",
       "      <td>...</td>\n",
       "      <td>...</td>\n",
       "      <td>...</td>\n",
       "      <td>...</td>\n",
       "      <td>...</td>\n",
       "      <td>...</td>\n",
       "      <td>...</td>\n",
       "      <td>...</td>\n",
       "      <td>...</td>\n",
       "    </tr>\n",
       "    <tr>\n",
       "      <th>12182</th>\n",
       "      <td>-117.29</td>\n",
       "      <td>33.72</td>\n",
       "      <td>19.0</td>\n",
       "      <td>2248.0</td>\n",
       "      <td>427.0</td>\n",
       "      <td>1207.0</td>\n",
       "      <td>368.0</td>\n",
       "      <td>2.8170</td>\n",
       "      <td>110000.0</td>\n",
       "      <td>&lt;1H OCEAN</td>\n",
       "      <td>2</td>\n",
       "    </tr>\n",
       "    <tr>\n",
       "      <th>7275</th>\n",
       "      <td>-118.24</td>\n",
       "      <td>33.99</td>\n",
       "      <td>33.0</td>\n",
       "      <td>885.0</td>\n",
       "      <td>294.0</td>\n",
       "      <td>1270.0</td>\n",
       "      <td>282.0</td>\n",
       "      <td>2.1615</td>\n",
       "      <td>118800.0</td>\n",
       "      <td>&lt;1H OCEAN</td>\n",
       "      <td>2</td>\n",
       "    </tr>\n",
       "    <tr>\n",
       "      <th>17223</th>\n",
       "      <td>-119.72</td>\n",
       "      <td>34.44</td>\n",
       "      <td>43.0</td>\n",
       "      <td>1781.0</td>\n",
       "      <td>342.0</td>\n",
       "      <td>663.0</td>\n",
       "      <td>358.0</td>\n",
       "      <td>4.7000</td>\n",
       "      <td>293800.0</td>\n",
       "      <td>&lt;1H OCEAN</td>\n",
       "      <td>4</td>\n",
       "    </tr>\n",
       "    <tr>\n",
       "      <th>10786</th>\n",
       "      <td>-117.91</td>\n",
       "      <td>33.63</td>\n",
       "      <td>30.0</td>\n",
       "      <td>2071.0</td>\n",
       "      <td>412.0</td>\n",
       "      <td>1081.0</td>\n",
       "      <td>412.0</td>\n",
       "      <td>4.9125</td>\n",
       "      <td>335700.0</td>\n",
       "      <td>&lt;1H OCEAN</td>\n",
       "      <td>4</td>\n",
       "    </tr>\n",
       "    <tr>\n",
       "      <th>3965</th>\n",
       "      <td>-118.56</td>\n",
       "      <td>34.19</td>\n",
       "      <td>36.0</td>\n",
       "      <td>2600.0</td>\n",
       "      <td>441.0</td>\n",
       "      <td>1246.0</td>\n",
       "      <td>426.0</td>\n",
       "      <td>4.1111</td>\n",
       "      <td>215600.0</td>\n",
       "      <td>&lt;1H OCEAN</td>\n",
       "      <td>3</td>\n",
       "    </tr>\n",
       "  </tbody>\n",
       "</table>\n",
       "<p>4128 rows × 11 columns</p>\n",
       "</div>"
      ],
      "text/plain": [
       "       longitude  latitude  housing_median_age  total_rooms  total_bedrooms  \\\n",
       "5241     -118.39     34.12                29.0       6447.0          1012.0   \n",
       "17352    -120.42     34.89                24.0       2020.0           307.0   \n",
       "3505     -118.45     34.25                36.0       1453.0           270.0   \n",
       "7777     -118.10     33.91                35.0       1653.0           325.0   \n",
       "14155    -117.07     32.77                38.0       3779.0           614.0   \n",
       "...          ...       ...                 ...          ...             ...   \n",
       "12182    -117.29     33.72                19.0       2248.0           427.0   \n",
       "7275     -118.24     33.99                33.0        885.0           294.0   \n",
       "17223    -119.72     34.44                43.0       1781.0           342.0   \n",
       "10786    -117.91     33.63                30.0       2071.0           412.0   \n",
       "3965     -118.56     34.19                36.0       2600.0           441.0   \n",
       "\n",
       "       population  households  median_income  median_house_value  \\\n",
       "5241       2184.0       960.0         8.2816            500001.0   \n",
       "17352       855.0       283.0         5.0099            162500.0   \n",
       "3505        808.0       275.0         4.3839            204600.0   \n",
       "7777       1072.0       301.0         3.2708            159700.0   \n",
       "14155      1495.0       614.0         4.3529            184000.0   \n",
       "...           ...         ...            ...                 ...   \n",
       "12182      1207.0       368.0         2.8170            110000.0   \n",
       "7275       1270.0       282.0         2.1615            118800.0   \n",
       "17223       663.0       358.0         4.7000            293800.0   \n",
       "10786      1081.0       412.0         4.9125            335700.0   \n",
       "3965       1246.0       426.0         4.1111            215600.0   \n",
       "\n",
       "      ocean_proximity income_cat  \n",
       "5241        <1H OCEAN          5  \n",
       "17352       <1H OCEAN          4  \n",
       "3505        <1H OCEAN          3  \n",
       "7777        <1H OCEAN          3  \n",
       "14155      NEAR OCEAN          3  \n",
       "...               ...        ...  \n",
       "12182       <1H OCEAN          2  \n",
       "7275        <1H OCEAN          2  \n",
       "17223       <1H OCEAN          4  \n",
       "10786       <1H OCEAN          4  \n",
       "3965        <1H OCEAN          3  \n",
       "\n",
       "[4128 rows x 11 columns]"
      ]
     },
     "execution_count": 21,
     "metadata": {},
     "output_type": "execute_result"
    }
   ],
   "source": [
    "strat_test_set"
   ]
  },
  {
   "cell_type": "code",
   "execution_count": 22,
   "id": "38343584",
   "metadata": {},
   "outputs": [
    {
     "data": {
      "application/vnd.microsoft.datawrangler.viewer.v0+json": {
       "columns": [
        {
         "name": "index",
         "rawType": "int64",
         "type": "integer"
        },
        {
         "name": "longitude",
         "rawType": "float64",
         "type": "float"
        },
        {
         "name": "latitude",
         "rawType": "float64",
         "type": "float"
        },
        {
         "name": "housing_median_age",
         "rawType": "float64",
         "type": "float"
        },
        {
         "name": "total_rooms",
         "rawType": "float64",
         "type": "float"
        },
        {
         "name": "total_bedrooms",
         "rawType": "float64",
         "type": "float"
        },
        {
         "name": "population",
         "rawType": "float64",
         "type": "float"
        },
        {
         "name": "households",
         "rawType": "float64",
         "type": "float"
        },
        {
         "name": "median_income",
         "rawType": "float64",
         "type": "float"
        },
        {
         "name": "median_house_value",
         "rawType": "float64",
         "type": "float"
        },
        {
         "name": "ocean_proximity",
         "rawType": "object",
         "type": "string"
        },
        {
         "name": "income_cat",
         "rawType": "category",
         "type": "unknown"
        }
       ],
       "ref": "2d3397c4-c9fc-4779-92bb-533262da973f",
       "rows": [
        [
         "12655",
         "-121.46",
         "38.52",
         "29.0",
         "3873.0",
         "797.0",
         "2237.0",
         "706.0",
         "2.1736",
         "72100.0",
         "INLAND",
         "2"
        ],
        [
         "15502",
         "-117.23",
         "33.09",
         "7.0",
         "5320.0",
         "855.0",
         "2015.0",
         "768.0",
         "6.3373",
         "279600.0",
         "NEAR OCEAN",
         "5"
        ],
        [
         "2908",
         "-119.04",
         "35.37",
         "44.0",
         "1618.0",
         "310.0",
         "667.0",
         "300.0",
         "2.875",
         "82700.0",
         "INLAND",
         "2"
        ],
        [
         "14053",
         "-117.13",
         "32.75",
         "24.0",
         "1877.0",
         "519.0",
         "898.0",
         "483.0",
         "2.2264",
         "112500.0",
         "NEAR OCEAN",
         "2"
        ],
        [
         "20496",
         "-118.7",
         "34.28",
         "27.0",
         "3536.0",
         "646.0",
         "1837.0",
         "580.0",
         "4.4964",
         "238300.0",
         "<1H OCEAN",
         "3"
        ],
        [
         "1481",
         "-122.04",
         "37.96",
         "28.0",
         "1207.0",
         "252.0",
         "724.0",
         "252.0",
         "3.6964",
         "165700.0",
         "NEAR BAY",
         "3"
        ],
        [
         "18125",
         "-122.03",
         "37.33",
         "23.0",
         "4221.0",
         "671.0",
         "1782.0",
         "641.0",
         "7.4863",
         "412300.0",
         "<1H OCEAN",
         "5"
        ],
        [
         "5830",
         "-118.31",
         "34.2",
         "36.0",
         "1692.0",
         "263.0",
         "778.0",
         "278.0",
         "5.0865",
         "349600.0",
         "<1H OCEAN",
         "4"
        ],
        [
         "17989",
         "-121.95",
         "37.27",
         "17.0",
         "1330.0",
         "271.0",
         "408.0",
         "258.0",
         "1.7171",
         "181300.0",
         "<1H OCEAN",
         "2"
        ],
        [
         "4861",
         "-118.28",
         "34.02",
         "29.0",
         "515.0",
         "229.0",
         "2690.0",
         "217.0",
         "0.4999",
         "500001.0",
         "<1H OCEAN",
         "1"
        ],
        [
         "20615",
         "-121.54",
         "39.08",
         "23.0",
         "1076.0",
         "216.0",
         "724.0",
         "197.0",
         "2.3598",
         "57500.0",
         "INLAND",
         "2"
        ],
        [
         "11493",
         "-117.99",
         "33.69",
         "12.0",
         "2480.0",
         "858.0",
         "1441.0",
         "788.0",
         "1.6705",
         "350000.0",
         "<1H OCEAN",
         "2"
        ],
        [
         "12386",
         "-116.39",
         "33.69",
         "10.0",
         "11659.0",
         "2007.0",
         "2186.0",
         "1083.0",
         "6.9833",
         "238800.0",
         "INLAND",
         "5"
        ],
        [
         "2167",
         "-119.83",
         "36.78",
         "30.0",
         "3162.0",
         "640.0",
         "1660.0",
         "639.0",
         "2.8359",
         "80300.0",
         "INLAND",
         "2"
        ],
        [
         "14562",
         "-117.22",
         "32.83",
         "31.0",
         "2558.0",
         "512.0",
         "1164.0",
         "492.0",
         "3.4318",
         "200400.0",
         "NEAR OCEAN",
         "3"
        ],
        [
         "17821",
         "-121.88",
         "37.37",
         "14.0",
         "6016.0",
         "1404.0",
         "3258.0",
         "1316.0",
         "3.5745",
         "333700.0",
         "<1H OCEAN",
         "3"
        ],
        [
         "7667",
         "-118.08",
         "33.93",
         "39.0",
         "1478.0",
         "324.0",
         "1127.0",
         "320.0",
         "3.525",
         "158000.0",
         "<1H OCEAN",
         "3"
        ],
        [
         "10779",
         "-117.91",
         "33.65",
         "17.0",
         "1328.0",
         "377.0",
         "762.0",
         "344.0",
         "2.2222",
         "276800.0",
         "<1H OCEAN",
         "2"
        ],
        [
         "9390",
         "-122.53",
         "37.9",
         "44.0",
         "2846.0",
         "551.0",
         "1232.0",
         "537.0",
         "3.8839",
         "327200.0",
         "NEAR BAY",
         "3"
        ],
        [
         "11063",
         "-117.86",
         "33.79",
         "42.0",
         "1024.0",
         "191.0",
         "483.0",
         "187.0",
         "4.105",
         "194500.0",
         "<1H OCEAN",
         "3"
        ],
        [
         "13860",
         "-117.26",
         "34.48",
         "6.0",
         "4632.0",
         "753.0",
         "1851.0",
         "694.0",
         "4.1933",
         "163100.0",
         "INLAND",
         "3"
        ],
        [
         "1849",
         "-122.28",
         "37.91",
         "48.0",
         "2083.0",
         "298.0",
         "685.0",
         "286.0",
         "7.3089",
         "331200.0",
         "NEAR BAY",
         "5"
        ],
        [
         "11789",
         "-121.23",
         "38.79",
         "45.0",
         "907.0",
         "176.0",
         "463.0",
         "190.0",
         "2.2292",
         "92000.0",
         "INLAND",
         "2"
        ],
        [
         "6127",
         "-117.94",
         "34.1",
         "31.0",
         "1239.0",
         "254.0",
         "929.0",
         "244.0",
         "3.3625",
         "153400.0",
         "<1H OCEAN",
         "3"
        ],
        [
         "11835",
         "-120.96",
         "39.12",
         "24.0",
         "2069.0",
         "436.0",
         "909.0",
         "374.0",
         "2.5326",
         "139100.0",
         "INLAND",
         "2"
        ],
        [
         "11893",
         "-117.35",
         "33.98",
         "31.0",
         "4163.0",
         "1242.0",
         "3928.0",
         "1076.0",
         "1.6943",
         "85900.0",
         "INLAND",
         "2"
        ],
        [
         "20337",
         "-119.03",
         "34.24",
         "25.0",
         "3655.0",
         "545.0",
         "1776.0",
         "544.0",
         "5.687",
         "238100.0",
         "<1H OCEAN",
         "4"
        ],
        [
         "15022",
         "-117.0",
         "32.77",
         "30.0",
         "1802.0",
         "401.0",
         "776.0",
         "386.0",
         "2.8125",
         "173500.0",
         "<1H OCEAN",
         "2"
        ],
        [
         "16634",
         "-120.84",
         "35.31",
         "23.0",
         "3100.0",
         "603.0",
         "1515.0",
         "609.0",
         "2.8493",
         "196100.0",
         "NEAR OCEAN",
         "2"
        ],
        [
         "4328",
         "-118.33",
         "34.08",
         "50.0",
         "2989.0",
         "832.0",
         "1345.0",
         "775.0",
         "3.2426",
         "442900.0",
         "<1H OCEAN",
         "3"
        ],
        [
         "11646",
         "-118.05",
         "33.81",
         "26.0",
         "2523.0",
         "437.0",
         "1377.0",
         "450.0",
         "5.2542",
         "234600.0",
         "<1H OCEAN",
         "4"
        ],
        [
         "6161",
         "-117.94",
         "34.08",
         "32.0",
         "2704.0",
         "514.0",
         "1669.0",
         "497.0",
         "4.4653",
         "195400.0",
         "<1H OCEAN",
         "3"
        ],
        [
         "20439",
         "-118.8",
         "34.27",
         "12.0",
         "3330.0",
         "600.0",
         "1577.0",
         "584.0",
         "4.6985",
         "264100.0",
         "<1H OCEAN",
         "4"
        ],
        [
         "18057",
         "-122.0",
         "37.27",
         "33.0",
         "1664.0",
         "271.0",
         "759.0",
         "272.0",
         "5.7876",
         "415800.0",
         "<1H OCEAN",
         "4"
        ],
        [
         "17604",
         "-121.89",
         "37.3",
         "47.0",
         "2355.0",
         "426.0",
         "961.0",
         "428.0",
         "5.3955",
         "282300.0",
         "<1H OCEAN",
         "4"
        ],
        [
         "14359",
         "-117.22",
         "32.74",
         "52.0",
         "1260.0",
         "202.0",
         "555.0",
         "209.0",
         "7.2758",
         "345200.0",
         "NEAR OCEAN",
         "5"
        ],
        [
         "12479",
         "-121.49",
         "38.59",
         "20.0",
         "463.0",
         "180.0",
         "486.0",
         "190.0",
         "1.0313",
         "85000.0",
         "INLAND",
         "1"
        ],
        [
         "8954",
         "-118.39",
         "34.02",
         "38.0",
         "2447.0",
         "636.0",
         "1312.0",
         "574.0",
         "3.5909",
         "279400.0",
         "<1H OCEAN",
         "3"
        ],
        [
         "2454",
         "-119.56",
         "36.53",
         "19.0",
         "2746.0",
         "495.0",
         "1670.0",
         "518.0",
         "3.2019",
         "95700.0",
         "INLAND",
         "3"
        ],
        [
         "6482",
         "-118.02",
         "34.09",
         "32.0",
         "1747.0",
         "399.0",
         "1199.0",
         "402.0",
         "3.4286",
         "191800.0",
         "INLAND",
         "3"
        ],
        [
         "3941",
         "-118.59",
         "34.21",
         "34.0",
         "2389.0",
         "521.0",
         "1560.0",
         "514.0",
         "4.8333",
         "225400.0",
         "<1H OCEAN",
         "4"
        ],
        [
         "12308",
         "-116.8",
         "33.52",
         "3.0",
         "830.0",
         "145.0",
         "272.0",
         "104.0",
         "3.8281",
         "163500.0",
         "INLAND",
         "3"
        ],
        [
         "8058",
         "-118.19",
         "33.85",
         "45.0",
         "1167.0",
         "302.0",
         "773.0",
         "287.0",
         "3.2798",
         "150300.0",
         "NEAR OCEAN",
         "3"
        ],
        [
         "14610",
         "-117.18",
         "32.8",
         "10.0",
         "3821.0",
         "631.0",
         "1605.0",
         "609.0",
         "5.5454",
         "217100.0",
         "NEAR OCEAN",
         "4"
        ],
        [
         "10858",
         "-117.86",
         "33.71",
         "36.0",
         "191.0",
         "42.0",
         "208.0",
         "37.0",
         "3.375",
         "157500.0",
         "<1H OCEAN",
         "3"
        ],
        [
         "7010",
         "-118.08",
         "33.97",
         "38.0",
         "1026.0",
         "190.0",
         "789.0",
         "193.0",
         "4.2",
         "163200.0",
         "<1H OCEAN",
         "3"
        ],
        [
         "11875",
         "-117.36",
         "34.0",
         "19.0",
         "4592.0",
         "895.0",
         "2769.0",
         "838.0",
         "3.3622",
         "105100.0",
         "INLAND",
         "3"
        ],
        [
         "1642",
         "-121.78",
         "37.97",
         "4.0",
         "17032.0",
         "2546.0",
         "7653.0",
         "2359.0",
         "5.5601",
         "213700.0",
         "INLAND",
         "4"
        ],
        [
         "16453",
         "-121.27",
         "38.13",
         "40.0",
         "2402.0",
         "509.0",
         "1197.0",
         "486.0",
         "2.1771",
         "98200.0",
         "INLAND",
         "2"
        ],
        [
         "20485",
         "-118.67",
         "34.28",
         "21.0",
         "4059.0",
         "598.0",
         "2133.0",
         "634.0",
         "5.6949",
         "235300.0",
         "<1H OCEAN",
         "4"
        ]
       ],
       "shape": {
        "columns": 11,
        "rows": 16512
       }
      },
      "text/html": [
       "<div>\n",
       "<style scoped>\n",
       "    .dataframe tbody tr th:only-of-type {\n",
       "        vertical-align: middle;\n",
       "    }\n",
       "\n",
       "    .dataframe tbody tr th {\n",
       "        vertical-align: top;\n",
       "    }\n",
       "\n",
       "    .dataframe thead th {\n",
       "        text-align: right;\n",
       "    }\n",
       "</style>\n",
       "<table border=\"1\" class=\"dataframe\">\n",
       "  <thead>\n",
       "    <tr style=\"text-align: right;\">\n",
       "      <th></th>\n",
       "      <th>longitude</th>\n",
       "      <th>latitude</th>\n",
       "      <th>housing_median_age</th>\n",
       "      <th>total_rooms</th>\n",
       "      <th>total_bedrooms</th>\n",
       "      <th>population</th>\n",
       "      <th>households</th>\n",
       "      <th>median_income</th>\n",
       "      <th>median_house_value</th>\n",
       "      <th>ocean_proximity</th>\n",
       "      <th>income_cat</th>\n",
       "    </tr>\n",
       "  </thead>\n",
       "  <tbody>\n",
       "    <tr>\n",
       "      <th>12655</th>\n",
       "      <td>-121.46</td>\n",
       "      <td>38.52</td>\n",
       "      <td>29.0</td>\n",
       "      <td>3873.0</td>\n",
       "      <td>797.0</td>\n",
       "      <td>2237.0</td>\n",
       "      <td>706.0</td>\n",
       "      <td>2.1736</td>\n",
       "      <td>72100.0</td>\n",
       "      <td>INLAND</td>\n",
       "      <td>2</td>\n",
       "    </tr>\n",
       "    <tr>\n",
       "      <th>15502</th>\n",
       "      <td>-117.23</td>\n",
       "      <td>33.09</td>\n",
       "      <td>7.0</td>\n",
       "      <td>5320.0</td>\n",
       "      <td>855.0</td>\n",
       "      <td>2015.0</td>\n",
       "      <td>768.0</td>\n",
       "      <td>6.3373</td>\n",
       "      <td>279600.0</td>\n",
       "      <td>NEAR OCEAN</td>\n",
       "      <td>5</td>\n",
       "    </tr>\n",
       "    <tr>\n",
       "      <th>2908</th>\n",
       "      <td>-119.04</td>\n",
       "      <td>35.37</td>\n",
       "      <td>44.0</td>\n",
       "      <td>1618.0</td>\n",
       "      <td>310.0</td>\n",
       "      <td>667.0</td>\n",
       "      <td>300.0</td>\n",
       "      <td>2.8750</td>\n",
       "      <td>82700.0</td>\n",
       "      <td>INLAND</td>\n",
       "      <td>2</td>\n",
       "    </tr>\n",
       "    <tr>\n",
       "      <th>14053</th>\n",
       "      <td>-117.13</td>\n",
       "      <td>32.75</td>\n",
       "      <td>24.0</td>\n",
       "      <td>1877.0</td>\n",
       "      <td>519.0</td>\n",
       "      <td>898.0</td>\n",
       "      <td>483.0</td>\n",
       "      <td>2.2264</td>\n",
       "      <td>112500.0</td>\n",
       "      <td>NEAR OCEAN</td>\n",
       "      <td>2</td>\n",
       "    </tr>\n",
       "    <tr>\n",
       "      <th>20496</th>\n",
       "      <td>-118.70</td>\n",
       "      <td>34.28</td>\n",
       "      <td>27.0</td>\n",
       "      <td>3536.0</td>\n",
       "      <td>646.0</td>\n",
       "      <td>1837.0</td>\n",
       "      <td>580.0</td>\n",
       "      <td>4.4964</td>\n",
       "      <td>238300.0</td>\n",
       "      <td>&lt;1H OCEAN</td>\n",
       "      <td>3</td>\n",
       "    </tr>\n",
       "    <tr>\n",
       "      <th>...</th>\n",
       "      <td>...</td>\n",
       "      <td>...</td>\n",
       "      <td>...</td>\n",
       "      <td>...</td>\n",
       "      <td>...</td>\n",
       "      <td>...</td>\n",
       "      <td>...</td>\n",
       "      <td>...</td>\n",
       "      <td>...</td>\n",
       "      <td>...</td>\n",
       "      <td>...</td>\n",
       "    </tr>\n",
       "    <tr>\n",
       "      <th>15174</th>\n",
       "      <td>-117.07</td>\n",
       "      <td>33.03</td>\n",
       "      <td>14.0</td>\n",
       "      <td>6665.0</td>\n",
       "      <td>1231.0</td>\n",
       "      <td>2026.0</td>\n",
       "      <td>1001.0</td>\n",
       "      <td>5.0900</td>\n",
       "      <td>268500.0</td>\n",
       "      <td>&lt;1H OCEAN</td>\n",
       "      <td>4</td>\n",
       "    </tr>\n",
       "    <tr>\n",
       "      <th>12661</th>\n",
       "      <td>-121.42</td>\n",
       "      <td>38.51</td>\n",
       "      <td>15.0</td>\n",
       "      <td>7901.0</td>\n",
       "      <td>1422.0</td>\n",
       "      <td>4769.0</td>\n",
       "      <td>1418.0</td>\n",
       "      <td>2.8139</td>\n",
       "      <td>90400.0</td>\n",
       "      <td>INLAND</td>\n",
       "      <td>2</td>\n",
       "    </tr>\n",
       "    <tr>\n",
       "      <th>19263</th>\n",
       "      <td>-122.72</td>\n",
       "      <td>38.44</td>\n",
       "      <td>48.0</td>\n",
       "      <td>707.0</td>\n",
       "      <td>166.0</td>\n",
       "      <td>458.0</td>\n",
       "      <td>172.0</td>\n",
       "      <td>3.1797</td>\n",
       "      <td>140400.0</td>\n",
       "      <td>&lt;1H OCEAN</td>\n",
       "      <td>3</td>\n",
       "    </tr>\n",
       "    <tr>\n",
       "      <th>19140</th>\n",
       "      <td>-122.70</td>\n",
       "      <td>38.31</td>\n",
       "      <td>14.0</td>\n",
       "      <td>3155.0</td>\n",
       "      <td>580.0</td>\n",
       "      <td>1208.0</td>\n",
       "      <td>501.0</td>\n",
       "      <td>4.1964</td>\n",
       "      <td>258100.0</td>\n",
       "      <td>&lt;1H OCEAN</td>\n",
       "      <td>3</td>\n",
       "    </tr>\n",
       "    <tr>\n",
       "      <th>19773</th>\n",
       "      <td>-122.14</td>\n",
       "      <td>39.97</td>\n",
       "      <td>27.0</td>\n",
       "      <td>1079.0</td>\n",
       "      <td>222.0</td>\n",
       "      <td>625.0</td>\n",
       "      <td>197.0</td>\n",
       "      <td>3.1319</td>\n",
       "      <td>62700.0</td>\n",
       "      <td>INLAND</td>\n",
       "      <td>3</td>\n",
       "    </tr>\n",
       "  </tbody>\n",
       "</table>\n",
       "<p>16512 rows × 11 columns</p>\n",
       "</div>"
      ],
      "text/plain": [
       "       longitude  latitude  housing_median_age  total_rooms  total_bedrooms  \\\n",
       "12655    -121.46     38.52                29.0       3873.0           797.0   \n",
       "15502    -117.23     33.09                 7.0       5320.0           855.0   \n",
       "2908     -119.04     35.37                44.0       1618.0           310.0   \n",
       "14053    -117.13     32.75                24.0       1877.0           519.0   \n",
       "20496    -118.70     34.28                27.0       3536.0           646.0   \n",
       "...          ...       ...                 ...          ...             ...   \n",
       "15174    -117.07     33.03                14.0       6665.0          1231.0   \n",
       "12661    -121.42     38.51                15.0       7901.0          1422.0   \n",
       "19263    -122.72     38.44                48.0        707.0           166.0   \n",
       "19140    -122.70     38.31                14.0       3155.0           580.0   \n",
       "19773    -122.14     39.97                27.0       1079.0           222.0   \n",
       "\n",
       "       population  households  median_income  median_house_value  \\\n",
       "12655      2237.0       706.0         2.1736             72100.0   \n",
       "15502      2015.0       768.0         6.3373            279600.0   \n",
       "2908        667.0       300.0         2.8750             82700.0   \n",
       "14053       898.0       483.0         2.2264            112500.0   \n",
       "20496      1837.0       580.0         4.4964            238300.0   \n",
       "...           ...         ...            ...                 ...   \n",
       "15174      2026.0      1001.0         5.0900            268500.0   \n",
       "12661      4769.0      1418.0         2.8139             90400.0   \n",
       "19263       458.0       172.0         3.1797            140400.0   \n",
       "19140      1208.0       501.0         4.1964            258100.0   \n",
       "19773       625.0       197.0         3.1319             62700.0   \n",
       "\n",
       "      ocean_proximity income_cat  \n",
       "12655          INLAND          2  \n",
       "15502      NEAR OCEAN          5  \n",
       "2908           INLAND          2  \n",
       "14053      NEAR OCEAN          2  \n",
       "20496       <1H OCEAN          3  \n",
       "...               ...        ...  \n",
       "15174       <1H OCEAN          4  \n",
       "12661          INLAND          2  \n",
       "19263       <1H OCEAN          3  \n",
       "19140       <1H OCEAN          3  \n",
       "19773          INLAND          3  \n",
       "\n",
       "[16512 rows x 11 columns]"
      ]
     },
     "execution_count": 22,
     "metadata": {},
     "output_type": "execute_result"
    }
   ],
   "source": [
    "strat_train_set"
   ]
  },
  {
   "cell_type": "code",
   "execution_count": 23,
   "id": "1b521ee2",
   "metadata": {},
   "outputs": [
    {
     "data": {
      "text/plain": [
       "Text(0.5, 1.0, 'Income Category Distribution')"
      ]
     },
     "execution_count": 23,
     "metadata": {},
     "output_type": "execute_result"
    },
    {
     "data": {
      "image/png": "[encoded data removed]",
      "text/plain": [
       "<Figure size 640x480 with 1 Axes>"
      ]
     },
     "metadata": {},
     "output_type": "display_data"
    }
   ],
   "source": [
    "import matplotlib.pyplot as plt\n",
    "\n",
    "strat_train_set[\"income_cat\"].value_counts().sort_index().plot.bar(rot=0, grid=True)\n",
    "plt.xlabel(\"Income Category\")\n",
    "plt.ylabel(\"Number of Districts\")\n",
    "plt.title(\"Income Category Distribution\")"
   ]
  },
  {
   "cell_type": "code",
   "execution_count": 24,
   "id": "60cb2893",
   "metadata": {},
   "outputs": [
    {
     "data": {
      "text/plain": [
       "Text(0.5, 1.0, 'Income Category Distribution')"
      ]
     },
     "execution_count": 24,
     "metadata": {},
     "output_type": "execute_result"
    },
    {
     "data": {
      "image/png": "[encoded data removed]",
      "text/plain": [
       "<Figure size 640x480 with 1 Axes>"
      ]
     },
     "metadata": {},
     "output_type": "display_data"
    }
   ],
   "source": [
    "strat_test_set[\"income_cat\"].value_counts().sort_index().plot.bar(rot=0, grid=True)\n",
    "plt.xlabel(\"Income Category\")\n",
    "plt.ylabel(\"Number of Districts\")\n",
    "plt.title(\"Income Category Distribution\")"
   ]
  },
  {
   "cell_type": "code",
   "execution_count": null,
   "id": "59da8050",
   "metadata": {},
   "outputs": [],
   "source": []
  }
 ],
 "metadata": {
  "kernelspec": {
   "display_name": "dataS",
   "language": "python",
   "name": "python3"
  },
  "language_info": {
   "codemirror_mode": {
    "name": "ipython",
    "version": 3
   },
   "file_extension": ".py",
   "mimetype": "text/x-python",
   "name": "python",
   "nbconvert_exporter": "python",
   "pygments_lexer": "ipython3",
   "version": "3.13.5"
  }
 },
 "nbformat": 4,
 "nbformat_minor": 5
}
