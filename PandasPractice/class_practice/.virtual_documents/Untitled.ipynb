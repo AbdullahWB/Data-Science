import pandas as pd


import matplotlib.pyplot as plt


df = pd.read_csv('supermarket_sales.csv')


df


sales_per_branch = df.groupby('Branch').agg({'Total':'sum', 'Invoice ID': 'count'})
sales_per_branch.columns = ['Total Sales', 'Number of Transactions']


sales_per_branch


customer_demographics = df.groupby(['Gender', 'Customer type']).size().unstack()


customer_demographics


product_line_analysis = df.groupby('Product line').agg({'Total': 'sum', 'gross margin percentage': 'mean'})


product_line_analysis


unit_price_impact = df[['Unit price', 'Total']].corr()


unit_price_impact


average_quantity = df['Quantity'].mean()


average_quantity


tax_contributions = df.groupby('Branch')['Tax 5%'].sum()


tax_contributions


df['DateTime'] = pd.to_datetime(df['Date'] + ' ' + df['Time']) # want to more explain TODO:


daily_sales = df.groupby(df['DateTime'].dt.date)['Total'].sum()


daily_sales


payment_methods = df['Payment'].value_counts()


payment_methods


ratings_correlation = df[['Rating', 'Total']].corr()


ratings_correlation


gross_margin_analysis = df.groupby('Product line')['gross margin percentage'].mean()


gross_margin_analysis


cogs_analysis = df.groupby('Product line').agg({'cogs': 'sum', 'Total': 'sum'})


cogs_analysis


Q1 = df['Total'].quantile(0.25)
Q3 = df['Total'].quantile(0.75)
IQR = Q3 - Q1


outliners = df[(df['Total']<(Q1 - 1.5 * IQR)) | (df['Total'] > (Q3 + 1.5 * IQR))]


outliners



