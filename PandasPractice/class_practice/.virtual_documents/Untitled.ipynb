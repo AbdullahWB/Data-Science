import pandas as pd


import matplotlib.pyplot as plt


data = pd.read_csv('data.csv')


data


mean_age = data['Age'].mean()


data['Age'].median()


data['Age'].mode()


mean_salary = data["Salary"].mean()


data["Salary"].median()


data["Salary"].mode()


data.isnull()


data['Age'] = data['Age'].fillna(mean_age)
data['Salary'] = data['Salary'].fillna(mean_salary)


data.isnull()


data



data[['Age']] = data[['Age']].round(2)


data[['Salary']] = data[['Salary']].round(2)


data


plt.hist(data['Age'], bins=5, edgecolor = 'black')
plt.xlabel("Age")
plt.ylabel("Frequency of Age")


def is_leap_year(year):
    if year%4 == 0:
        if year%100 == 0:
            if year % 400 == 0:
                return True
            else:
                return False
    else: return False


if is_leap_year(2000):
    print("Yes")



