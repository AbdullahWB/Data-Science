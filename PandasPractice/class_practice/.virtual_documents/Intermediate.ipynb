import pandas as pd


import matplotlib.pyplot as plt


df = pd.read_csv('supermarket_sales.csv')


df


df['DateTime'] = pd.to_datetime(df['Date']+' '+df['Time'])

daily_sales = df.groupby(df['DateTime'].dt.date)['Total'].sum()

plt.figure(figsize=(10,5))
plt.plot(daily_sales.index, daily_sales.values, marker='o')
plt.title('Daily Sales Trend')
plt.xlabel('Date')
plt.ylabel('Total Sales')
plt.grid()
plt.show()


pyment_methods = df['Payment'].value_counts()

plt.figure(figsize=(8,5))
pyment_methods.plot(kind='bar') 
plt.title('Payment Method Distribution')
plt.xlabel('Payment Method')
plt.ylabel('Number of Transactions')
plt.xticks(rotation=45)
plt.grid(axis='y')
plt.show()


gender_counts = df['Gender'].value_counts()

plt.figure(figsize=(8,5))
gender_counts.plot(kind='pie',autopct='%1.1f%%', startangle=90)
plt.title('Customer Gender Dis')
plt.ylabel('')
plt.show()


customer_type_counts = df['Customer type'].value_counts()

plt.figure(figsize=(8,5))
customer_type_counts.plot(kind='bar')
plt.title('Customer Type Distribution')
plt.xlabel('Customer Type')
plt.ylabel('Number of Customers')
plt.xticks(rotation=0)
plt.show()



