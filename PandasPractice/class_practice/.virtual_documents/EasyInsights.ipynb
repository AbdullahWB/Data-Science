import pandas as pd


df = pd.read_csv("supermarket_sales.csv")


df


total_sales = df['Total'].sum()
total_sales


avg_unit_price = df['Unit price'].mean()
avg_unit_price


unique_customers = df['Invoice ID'].nunique()
unique_customers


max_rating = df['Rating'].max()
max_rating


min_rating = df['Rating'].min()
min_rating


total_quantity = df['Quantity'].sum()
total_quantity


most_common_pay = df['Payment'].mode()[0]
most_common_pay


gender_counts = df['Gender'].value_counts()
gender_counts


customer_type_counts = df['Customer type'].value_counts()
customer_type_counts



