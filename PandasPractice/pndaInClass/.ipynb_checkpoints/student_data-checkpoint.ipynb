{
 "cells": [
  {
   "cell_type": "code",
   "execution_count": 2,
   "id": "995cd3b1-4045-4f81-91e0-fccc51a7f802",
   "metadata": {},
   "outputs": [],
   "source": [
    "import pandas as pd"
   ]
  },
  {
   "cell_type": "code",
   "execution_count": 3,
   "id": "36863842-6e6e-46d5-bc64-49eab95ce728",
   "metadata": {},
   "outputs": [],
   "source": [
    "import matplotlib.pyplot as plt"
   ]
  },
  {
   "cell_type": "code",
   "execution_count": 17,
   "id": "9f9d43f0-e2fe-471a-9964-9e5cbb71f3a5",
   "metadata": {},
   "outputs": [],
   "source": [
    "data = {\n",
    "    'StudentId': [1,2,3,4,5,6],\n",
    "    'Name': ['Mohammad', 'Abdullah', 'Najifa', 'Dina', 'Tasnim','Kynat'],\n",
    "    'Age': [30,22,21,19,None,None],\n",
    "    'Gender':['M', 'M', 'F', 'F', 'F','F'],\n",
    "    'Program': ['CS','MH', 'PH', 'CH', 'BG',None],\n",
    "    'RegistrationData': ['2023-09-01' for i in range(6)],\n",
    "    'Status':['A','A','D','G','A',None]\n",
    "}"
   ]
  },
  {
   "cell_type": "code",
   "execution_count": 19,
   "id": "bebf08dc-2e74-48e6-96a4-983fb1b69bf9",
   "metadata": {},
   "outputs": [],
   "source": [
    "df = pd.DataFrame(data)"
   ]
  },
  {
   "cell_type": "code",
   "execution_count": 21,
   "id": "cdab256d-b548-49f4-aa1b-41f2584812e8",
   "metadata": {},
   "outputs": [
    {
     "data": {
      "text/html": [
       "<div>\n",
       "<style scoped>\n",
       "    .dataframe tbody tr th:only-of-type {\n",
       "        vertical-align: middle;\n",
       "    }\n",
       "\n",
       "    .dataframe tbody tr th {\n",
       "        vertical-align: top;\n",
       "    }\n",
       "\n",
       "    .dataframe thead th {\n",
       "        text-align: right;\n",
       "    }\n",
       "</style>\n",
       "<table border=\"1\" class=\"dataframe\">\n",
       "  <thead>\n",
       "    <tr style=\"text-align: right;\">\n",
       "      <th></th>\n",
       "      <th>StudentId</th>\n",
       "      <th>Name</th>\n",
       "      <th>Age</th>\n",
       "      <th>Gender</th>\n",
       "      <th>Program</th>\n",
       "      <th>RegistrationData</th>\n",
       "      <th>Status</th>\n",
       "    </tr>\n",
       "  </thead>\n",
       "  <tbody>\n",
       "    <tr>\n",
       "      <th>0</th>\n",
       "      <td>1</td>\n",
       "      <td>Mohammad</td>\n",
       "      <td>30.0</td>\n",
       "      <td>M</td>\n",
       "      <td>CS</td>\n",
       "      <td>2023-09-01</td>\n",
       "      <td>A</td>\n",
       "    </tr>\n",
       "    <tr>\n",
       "      <th>1</th>\n",
       "      <td>2</td>\n",
       "      <td>Abdullah</td>\n",
       "      <td>22.0</td>\n",
       "      <td>M</td>\n",
       "      <td>MH</td>\n",
       "      <td>2023-09-01</td>\n",
       "      <td>A</td>\n",
       "    </tr>\n",
       "    <tr>\n",
       "      <th>2</th>\n",
       "      <td>3</td>\n",
       "      <td>Najifa</td>\n",
       "      <td>21.0</td>\n",
       "      <td>F</td>\n",
       "      <td>PH</td>\n",
       "      <td>2023-09-01</td>\n",
       "      <td>D</td>\n",
       "    </tr>\n",
       "    <tr>\n",
       "      <th>3</th>\n",
       "      <td>4</td>\n",
       "      <td>Dina</td>\n",
       "      <td>19.0</td>\n",
       "      <td>F</td>\n",
       "      <td>CH</td>\n",
       "      <td>2023-09-01</td>\n",
       "      <td>G</td>\n",
       "    </tr>\n",
       "    <tr>\n",
       "      <th>4</th>\n",
       "      <td>5</td>\n",
       "      <td>Tasnim</td>\n",
       "      <td>NaN</td>\n",
       "      <td>F</td>\n",
       "      <td>BG</td>\n",
       "      <td>2023-09-01</td>\n",
       "      <td>A</td>\n",
       "    </tr>\n",
       "    <tr>\n",
       "      <th>5</th>\n",
       "      <td>6</td>\n",
       "      <td>Kynat</td>\n",
       "      <td>NaN</td>\n",
       "      <td>F</td>\n",
       "      <td>None</td>\n",
       "      <td>2023-09-01</td>\n",
       "      <td>None</td>\n",
       "    </tr>\n",
       "  </tbody>\n",
       "</table>\n",
       "</div>"
      ],
      "text/plain": [
       "   StudentId      Name   Age Gender Program RegistrationData Status\n",
       "0          1  Mohammad  30.0      M      CS       2023-09-01      A\n",
       "1          2  Abdullah  22.0      M      MH       2023-09-01      A\n",
       "2          3    Najifa  21.0      F      PH       2023-09-01      D\n",
       "3          4      Dina  19.0      F      CH       2023-09-01      G\n",
       "4          5    Tasnim   NaN      F      BG       2023-09-01      A\n",
       "5          6     Kynat   NaN      F    None       2023-09-01   None"
      ]
     },
     "execution_count": 21,
     "metadata": {},
     "output_type": "execute_result"
    }
   ],
   "source": [
    "df"
   ]
  },
  {
   "cell_type": "code",
   "execution_count": 23,
   "id": "d74bf869-b6e3-48d7-a779-3b5970cf5103",
   "metadata": {},
   "outputs": [],
   "source": [
    "df.to_csv('Student_RD', index=False)"
   ]
  },
  {
   "cell_type": "code",
   "execution_count": 25,
   "id": "66da7ec7-28c7-4fa4-9b87-9d12e8d7b8b4",
   "metadata": {},
   "outputs": [],
   "source": [
    "mean_age = df['Age'].mean()"
   ]
  },
  {
   "cell_type": "code",
   "execution_count": 27,
   "id": "5c1f562a-a27b-4f54-9715-b7798215b207",
   "metadata": {},
   "outputs": [],
   "source": [
    "df['Age'] = df['Age'].fillna(mean_age)"
   ]
  },
  {
   "cell_type": "code",
   "execution_count": 29,
   "id": "89246ec2-5689-453d-9d17-be807bd246a6",
   "metadata": {},
   "outputs": [
    {
     "data": {
      "text/html": [
       "<div>\n",
       "<style scoped>\n",
       "    .dataframe tbody tr th:only-of-type {\n",
       "        vertical-align: middle;\n",
       "    }\n",
       "\n",
       "    .dataframe tbody tr th {\n",
       "        vertical-align: top;\n",
       "    }\n",
       "\n",
       "    .dataframe thead th {\n",
       "        text-align: right;\n",
       "    }\n",
       "</style>\n",
       "<table border=\"1\" class=\"dataframe\">\n",
       "  <thead>\n",
       "    <tr style=\"text-align: right;\">\n",
       "      <th></th>\n",
       "      <th>StudentId</th>\n",
       "      <th>Name</th>\n",
       "      <th>Age</th>\n",
       "      <th>Gender</th>\n",
       "      <th>Program</th>\n",
       "      <th>RegistrationData</th>\n",
       "      <th>Status</th>\n",
       "    </tr>\n",
       "  </thead>\n",
       "  <tbody>\n",
       "    <tr>\n",
       "      <th>0</th>\n",
       "      <td>1</td>\n",
       "      <td>Mohammad</td>\n",
       "      <td>30.0</td>\n",
       "      <td>M</td>\n",
       "      <td>CS</td>\n",
       "      <td>2023-09-01</td>\n",
       "      <td>A</td>\n",
       "    </tr>\n",
       "    <tr>\n",
       "      <th>1</th>\n",
       "      <td>2</td>\n",
       "      <td>Abdullah</td>\n",
       "      <td>22.0</td>\n",
       "      <td>M</td>\n",
       "      <td>MH</td>\n",
       "      <td>2023-09-01</td>\n",
       "      <td>A</td>\n",
       "    </tr>\n",
       "    <tr>\n",
       "      <th>2</th>\n",
       "      <td>3</td>\n",
       "      <td>Najifa</td>\n",
       "      <td>21.0</td>\n",
       "      <td>F</td>\n",
       "      <td>PH</td>\n",
       "      <td>2023-09-01</td>\n",
       "      <td>D</td>\n",
       "    </tr>\n",
       "    <tr>\n",
       "      <th>3</th>\n",
       "      <td>4</td>\n",
       "      <td>Dina</td>\n",
       "      <td>19.0</td>\n",
       "      <td>F</td>\n",
       "      <td>CH</td>\n",
       "      <td>2023-09-01</td>\n",
       "      <td>G</td>\n",
       "    </tr>\n",
       "    <tr>\n",
       "      <th>4</th>\n",
       "      <td>5</td>\n",
       "      <td>Tasnim</td>\n",
       "      <td>23.0</td>\n",
       "      <td>F</td>\n",
       "      <td>BG</td>\n",
       "      <td>2023-09-01</td>\n",
       "      <td>A</td>\n",
       "    </tr>\n",
       "    <tr>\n",
       "      <th>5</th>\n",
       "      <td>6</td>\n",
       "      <td>Kynat</td>\n",
       "      <td>23.0</td>\n",
       "      <td>F</td>\n",
       "      <td>None</td>\n",
       "      <td>2023-09-01</td>\n",
       "      <td>None</td>\n",
       "    </tr>\n",
       "  </tbody>\n",
       "</table>\n",
       "</div>"
      ],
      "text/plain": [
       "   StudentId      Name   Age Gender Program RegistrationData Status\n",
       "0          1  Mohammad  30.0      M      CS       2023-09-01      A\n",
       "1          2  Abdullah  22.0      M      MH       2023-09-01      A\n",
       "2          3    Najifa  21.0      F      PH       2023-09-01      D\n",
       "3          4      Dina  19.0      F      CH       2023-09-01      G\n",
       "4          5    Tasnim  23.0      F      BG       2023-09-01      A\n",
       "5          6     Kynat  23.0      F    None       2023-09-01   None"
      ]
     },
     "execution_count": 29,
     "metadata": {},
     "output_type": "execute_result"
    }
   ],
   "source": [
    "df"
   ]
  },
  {
   "cell_type": "code",
   "execution_count": 31,
   "id": "968b1e97-77fd-4d46-94bd-7d3ff42a4f15",
   "metadata": {},
   "outputs": [
    {
     "data": {
      "text/html": [
       "<div>\n",
       "<style scoped>\n",
       "    .dataframe tbody tr th:only-of-type {\n",
       "        vertical-align: middle;\n",
       "    }\n",
       "\n",
       "    .dataframe tbody tr th {\n",
       "        vertical-align: top;\n",
       "    }\n",
       "\n",
       "    .dataframe thead th {\n",
       "        text-align: right;\n",
       "    }\n",
       "</style>\n",
       "<table border=\"1\" class=\"dataframe\">\n",
       "  <thead>\n",
       "    <tr style=\"text-align: right;\">\n",
       "      <th></th>\n",
       "      <th>StudentId</th>\n",
       "      <th>Name</th>\n",
       "      <th>Age</th>\n",
       "      <th>Gender</th>\n",
       "      <th>Program</th>\n",
       "      <th>RegistrationData</th>\n",
       "      <th>Status</th>\n",
       "    </tr>\n",
       "  </thead>\n",
       "  <tbody>\n",
       "    <tr>\n",
       "      <th>0</th>\n",
       "      <td>False</td>\n",
       "      <td>False</td>\n",
       "      <td>False</td>\n",
       "      <td>False</td>\n",
       "      <td>False</td>\n",
       "      <td>False</td>\n",
       "      <td>False</td>\n",
       "    </tr>\n",
       "    <tr>\n",
       "      <th>1</th>\n",
       "      <td>False</td>\n",
       "      <td>False</td>\n",
       "      <td>False</td>\n",
       "      <td>False</td>\n",
       "      <td>False</td>\n",
       "      <td>False</td>\n",
       "      <td>False</td>\n",
       "    </tr>\n",
       "    <tr>\n",
       "      <th>2</th>\n",
       "      <td>False</td>\n",
       "      <td>False</td>\n",
       "      <td>False</td>\n",
       "      <td>False</td>\n",
       "      <td>False</td>\n",
       "      <td>False</td>\n",
       "      <td>False</td>\n",
       "    </tr>\n",
       "    <tr>\n",
       "      <th>3</th>\n",
       "      <td>False</td>\n",
       "      <td>False</td>\n",
       "      <td>False</td>\n",
       "      <td>False</td>\n",
       "      <td>False</td>\n",
       "      <td>False</td>\n",
       "      <td>False</td>\n",
       "    </tr>\n",
       "    <tr>\n",
       "      <th>4</th>\n",
       "      <td>False</td>\n",
       "      <td>False</td>\n",
       "      <td>False</td>\n",
       "      <td>False</td>\n",
       "      <td>False</td>\n",
       "      <td>False</td>\n",
       "      <td>False</td>\n",
       "    </tr>\n",
       "    <tr>\n",
       "      <th>5</th>\n",
       "      <td>False</td>\n",
       "      <td>False</td>\n",
       "      <td>False</td>\n",
       "      <td>False</td>\n",
       "      <td>True</td>\n",
       "      <td>False</td>\n",
       "      <td>True</td>\n",
       "    </tr>\n",
       "  </tbody>\n",
       "</table>\n",
       "</div>"
      ],
      "text/plain": [
       "   StudentId   Name    Age  Gender  Program  RegistrationData  Status\n",
       "0      False  False  False   False    False             False   False\n",
       "1      False  False  False   False    False             False   False\n",
       "2      False  False  False   False    False             False   False\n",
       "3      False  False  False   False    False             False   False\n",
       "4      False  False  False   False    False             False   False\n",
       "5      False  False  False   False     True             False    True"
      ]
     },
     "execution_count": 31,
     "metadata": {},
     "output_type": "execute_result"
    }
   ],
   "source": [
    "df.isnull()"
   ]
  },
  {
   "cell_type": "code",
   "execution_count": 33,
   "id": "b4beaaaa-c0d4-4d56-aaf0-aae3370e4f46",
   "metadata": {},
   "outputs": [
    {
     "name": "stdout",
     "output_type": "stream",
     "text": [
      "<class 'pandas.core.frame.DataFrame'>\n",
      "RangeIndex: 6 entries, 0 to 5\n",
      "Data columns (total 7 columns):\n",
      " #   Column            Non-Null Count  Dtype  \n",
      "---  ------            --------------  -----  \n",
      " 0   StudentId         6 non-null      int64  \n",
      " 1   Name              6 non-null      object \n",
      " 2   Age               6 non-null      float64\n",
      " 3   Gender            6 non-null      object \n",
      " 4   Program           5 non-null      object \n",
      " 5   RegistrationData  6 non-null      object \n",
      " 6   Status            5 non-null      object \n",
      "dtypes: float64(1), int64(1), object(5)\n",
      "memory usage: 468.0+ bytes\n"
     ]
    }
   ],
   "source": [
    "df.info()"
   ]
  },
  {
   "cell_type": "code",
   "execution_count": 35,
   "id": "8b822bce-a421-40bb-91fc-be97353a69f6",
   "metadata": {},
   "outputs": [
    {
     "data": {
      "text/html": [
       "<div>\n",
       "<style scoped>\n",
       "    .dataframe tbody tr th:only-of-type {\n",
       "        vertical-align: middle;\n",
       "    }\n",
       "\n",
       "    .dataframe tbody tr th {\n",
       "        vertical-align: top;\n",
       "    }\n",
       "\n",
       "    .dataframe thead th {\n",
       "        text-align: right;\n",
       "    }\n",
       "</style>\n",
       "<table border=\"1\" class=\"dataframe\">\n",
       "  <thead>\n",
       "    <tr style=\"text-align: right;\">\n",
       "      <th></th>\n",
       "      <th>StudentId</th>\n",
       "      <th>Name</th>\n",
       "      <th>Age</th>\n",
       "      <th>Gender</th>\n",
       "      <th>Program</th>\n",
       "      <th>RegistrationData</th>\n",
       "      <th>Status</th>\n",
       "    </tr>\n",
       "  </thead>\n",
       "  <tbody>\n",
       "    <tr>\n",
       "      <th>0</th>\n",
       "      <td>1</td>\n",
       "      <td>Mohammad</td>\n",
       "      <td>30.0</td>\n",
       "      <td>M</td>\n",
       "      <td>CS</td>\n",
       "      <td>2023-09-01</td>\n",
       "      <td>A</td>\n",
       "    </tr>\n",
       "    <tr>\n",
       "      <th>1</th>\n",
       "      <td>2</td>\n",
       "      <td>Abdullah</td>\n",
       "      <td>22.0</td>\n",
       "      <td>M</td>\n",
       "      <td>MH</td>\n",
       "      <td>2023-09-01</td>\n",
       "      <td>A</td>\n",
       "    </tr>\n",
       "    <tr>\n",
       "      <th>2</th>\n",
       "      <td>3</td>\n",
       "      <td>Najifa</td>\n",
       "      <td>21.0</td>\n",
       "      <td>F</td>\n",
       "      <td>PH</td>\n",
       "      <td>2023-09-01</td>\n",
       "      <td>D</td>\n",
       "    </tr>\n",
       "    <tr>\n",
       "      <th>3</th>\n",
       "      <td>4</td>\n",
       "      <td>Dina</td>\n",
       "      <td>19.0</td>\n",
       "      <td>F</td>\n",
       "      <td>CH</td>\n",
       "      <td>2023-09-01</td>\n",
       "      <td>G</td>\n",
       "    </tr>\n",
       "    <tr>\n",
       "      <th>4</th>\n",
       "      <td>5</td>\n",
       "      <td>Tasnim</td>\n",
       "      <td>23.0</td>\n",
       "      <td>F</td>\n",
       "      <td>BG</td>\n",
       "      <td>2023-09-01</td>\n",
       "      <td>A</td>\n",
       "    </tr>\n",
       "  </tbody>\n",
       "</table>\n",
       "</div>"
      ],
      "text/plain": [
       "   StudentId      Name   Age Gender Program RegistrationData Status\n",
       "0          1  Mohammad  30.0      M      CS       2023-09-01      A\n",
       "1          2  Abdullah  22.0      M      MH       2023-09-01      A\n",
       "2          3    Najifa  21.0      F      PH       2023-09-01      D\n",
       "3          4      Dina  19.0      F      CH       2023-09-01      G\n",
       "4          5    Tasnim  23.0      F      BG       2023-09-01      A"
      ]
     },
     "execution_count": 35,
     "metadata": {},
     "output_type": "execute_result"
    }
   ],
   "source": [
    "df.head()"
   ]
  },
  {
   "cell_type": "code",
   "execution_count": 41,
   "id": "c9bc3e88-284f-4306-8071-dde046c3aa46",
   "metadata": {},
   "outputs": [
    {
     "data": {
      "text/html": [
       "<div>\n",
       "<style scoped>\n",
       "    .dataframe tbody tr th:only-of-type {\n",
       "        vertical-align: middle;\n",
       "    }\n",
       "\n",
       "    .dataframe tbody tr th {\n",
       "        vertical-align: top;\n",
       "    }\n",
       "\n",
       "    .dataframe thead th {\n",
       "        text-align: right;\n",
       "    }\n",
       "</style>\n",
       "<table border=\"1\" class=\"dataframe\">\n",
       "  <thead>\n",
       "    <tr style=\"text-align: right;\">\n",
       "      <th></th>\n",
       "      <th>StudentId</th>\n",
       "      <th>Name</th>\n",
       "      <th>Age</th>\n",
       "      <th>Gender</th>\n",
       "      <th>Program</th>\n",
       "      <th>RegistrationData</th>\n",
       "      <th>Status</th>\n",
       "    </tr>\n",
       "  </thead>\n",
       "  <tbody>\n",
       "    <tr>\n",
       "      <th>3</th>\n",
       "      <td>4</td>\n",
       "      <td>Dina</td>\n",
       "      <td>19.0</td>\n",
       "      <td>F</td>\n",
       "      <td>CH</td>\n",
       "      <td>2023-09-01</td>\n",
       "      <td>G</td>\n",
       "    </tr>\n",
       "    <tr>\n",
       "      <th>4</th>\n",
       "      <td>5</td>\n",
       "      <td>Tasnim</td>\n",
       "      <td>23.0</td>\n",
       "      <td>F</td>\n",
       "      <td>BG</td>\n",
       "      <td>2023-09-01</td>\n",
       "      <td>A</td>\n",
       "    </tr>\n",
       "    <tr>\n",
       "      <th>5</th>\n",
       "      <td>6</td>\n",
       "      <td>Kynat</td>\n",
       "      <td>23.0</td>\n",
       "      <td>F</td>\n",
       "      <td>None</td>\n",
       "      <td>2023-09-01</td>\n",
       "      <td>None</td>\n",
       "    </tr>\n",
       "  </tbody>\n",
       "</table>\n",
       "</div>"
      ],
      "text/plain": [
       "   StudentId    Name   Age Gender Program RegistrationData Status\n",
       "3          4    Dina  19.0      F      CH       2023-09-01      G\n",
       "4          5  Tasnim  23.0      F      BG       2023-09-01      A\n",
       "5          6   Kynat  23.0      F    None       2023-09-01   None"
      ]
     },
     "execution_count": 41,
     "metadata": {},
     "output_type": "execute_result"
    }
   ],
   "source": [
    "df.tail(-3)"
   ]
  },
  {
   "cell_type": "code",
   "execution_count": 43,
   "id": "715af258-8c7f-4077-9acd-0bf9dfb0e770",
   "metadata": {},
   "outputs": [
    {
     "data": {
      "text/html": [
       "<div>\n",
       "<style scoped>\n",
       "    .dataframe tbody tr th:only-of-type {\n",
       "        vertical-align: middle;\n",
       "    }\n",
       "\n",
       "    .dataframe tbody tr th {\n",
       "        vertical-align: top;\n",
       "    }\n",
       "\n",
       "    .dataframe thead th {\n",
       "        text-align: right;\n",
       "    }\n",
       "</style>\n",
       "<table border=\"1\" class=\"dataframe\">\n",
       "  <thead>\n",
       "    <tr style=\"text-align: right;\">\n",
       "      <th></th>\n",
       "      <th>StudentId</th>\n",
       "      <th>Age</th>\n",
       "    </tr>\n",
       "  </thead>\n",
       "  <tbody>\n",
       "    <tr>\n",
       "      <th>count</th>\n",
       "      <td>6.000000</td>\n",
       "      <td>6.000000</td>\n",
       "    </tr>\n",
       "    <tr>\n",
       "      <th>mean</th>\n",
       "      <td>3.500000</td>\n",
       "      <td>23.000000</td>\n",
       "    </tr>\n",
       "    <tr>\n",
       "      <th>std</th>\n",
       "      <td>1.870829</td>\n",
       "      <td>3.741657</td>\n",
       "    </tr>\n",
       "    <tr>\n",
       "      <th>min</th>\n",
       "      <td>1.000000</td>\n",
       "      <td>19.000000</td>\n",
       "    </tr>\n",
       "    <tr>\n",
       "      <th>25%</th>\n",
       "      <td>2.250000</td>\n",
       "      <td>21.250000</td>\n",
       "    </tr>\n",
       "    <tr>\n",
       "      <th>50%</th>\n",
       "      <td>3.500000</td>\n",
       "      <td>22.500000</td>\n",
       "    </tr>\n",
       "    <tr>\n",
       "      <th>75%</th>\n",
       "      <td>4.750000</td>\n",
       "      <td>23.000000</td>\n",
       "    </tr>\n",
       "    <tr>\n",
       "      <th>max</th>\n",
       "      <td>6.000000</td>\n",
       "      <td>30.000000</td>\n",
       "    </tr>\n",
       "  </tbody>\n",
       "</table>\n",
       "</div>"
      ],
      "text/plain": [
       "       StudentId        Age\n",
       "count   6.000000   6.000000\n",
       "mean    3.500000  23.000000\n",
       "std     1.870829   3.741657\n",
       "min     1.000000  19.000000\n",
       "25%     2.250000  21.250000\n",
       "50%     3.500000  22.500000\n",
       "75%     4.750000  23.000000\n",
       "max     6.000000  30.000000"
      ]
     },
     "execution_count": 43,
     "metadata": {},
     "output_type": "execute_result"
    }
   ],
   "source": [
    "df.describe()"
   ]
  },
  {
   "cell_type": "code",
   "execution_count": 47,
   "id": "f39a1e04-d9b0-44fe-896a-9fc7613c39cd",
   "metadata": {},
   "outputs": [
    {
     "data": {
      "image/png": "[encoded data removed]",
      "text/plain": [
       "<Figure size 800x500 with 1 Axes>"
      ]
     },
     "metadata": {},
     "output_type": "display_data"
    }
   ],
   "source": [
    "plt.figure(figsize=(8, 5))\n",
    "ages = df['Age'].dropna()  # Remove None values\n",
    "plt.hist(ages, bins=5, color='skyblue', edgecolor='black')\n",
    "plt.title('Distribution of Student Ages')\n",
    "plt.xlabel('Age')\n",
    "plt.ylabel('Frequency')\n",
    "plt.grid(True, alpha=0.3)\n",
    "plt.show()"
   ]
  },
  {
   "cell_type": "code",
   "execution_count": 49,
   "id": "d85f5ded-0c9b-455e-87a5-24e1df7167dd",
   "metadata": {},
   "outputs": [
    {
     "data": {
      "image/png": "[encoded data removed]",
      "text/plain": [
       "<Figure size 800x500 with 1 Axes>"
      ]
     },
     "metadata": {},
     "output_type": "display_data"
    }
   ],
   "source": [
    "plt.figure(figsize=(8, 5))\n",
    "gender_counts = df['Gender'].value_counts()\n",
    "plt.bar(gender_counts.index, gender_counts.values, color=['blue', 'pink'])\n",
    "plt.title('Gender Distribution')\n",
    "plt.xlabel('Gender')\n",
    "plt.ylabel('Count')\n",
    "plt.show()"
   ]
  },
  {
   "cell_type": "code",
   "execution_count": 51,
   "id": "bb9e938d-a59d-4cd9-8e02-81ee1d439163",
   "metadata": {},
   "outputs": [
    {
     "data": {
      "image/png": "[encoded data removed]",
      "text/plain": [
       "<Figure size 800x500 with 1 Axes>"
      ]
     },
     "metadata": {},
     "output_type": "display_data"
    }
   ],
   "source": [
    "plt.figure(figsize=(8, 5))\n",
    "program_counts = df['Program'].fillna('Unknown').value_counts()  # Replace None with 'Unknown'\n",
    "plt.bar(program_counts.index, program_counts.values, color='lightgreen', edgecolor='black')\n",
    "plt.title('Distribution of Programs')\n",
    "plt.xlabel('Program')\n",
    "plt.ylabel('Count')\n",
    "plt.xticks(rotation=45)\n",
    "plt.show()"
   ]
  },
  {
   "cell_type": "code",
   "execution_count": 53,
   "id": "971d14d2-9ef2-4e4b-8476-910f33fb0037",
   "metadata": {},
   "outputs": [
    {
     "data": {
      "image/png": "[encoded data removed]",
      "text/plain": [
       "<Figure size 800x500 with 1 Axes>"
      ]
     },
     "metadata": {},
     "output_type": "display_data"
    }
   ],
   "source": [
    "plt.figure(figsize=(8, 5))\n",
    "status_counts = df['Status'].fillna('Unknown').value_counts()  # Replace None with 'Unknown'\n",
    "plt.pie(status_counts.values, labels=status_counts.index, autopct='%1.1f%%', colors=['gold', 'lightcoral', 'lightskyblue', 'gray'])\n",
    "plt.title('Student Status Distribution')\n",
    "plt.show()"
   ]
  },
  {
   "cell_type": "code",
   "execution_count": 55,
   "id": "b4ed5dee-6b7a-4a11-8c51-00fa39625d54",
   "metadata": {},
   "outputs": [
    {
     "data": {
      "image/png": "[encoded data removed]",
      "text/plain": [
       "<Figure size 1000x600 with 1 Axes>"
      ]
     },
     "metadata": {},
     "output_type": "display_data"
    }
   ],
   "source": [
    "plt.figure(figsize=(10, 6))\n",
    "df_filled = df.copy()\n",
    "df_filled['Age'] = df_filled['Age'].fillna(0)  # Replace None with 0 for visualization\n",
    "plt.bar(df_filled['Name'], df_filled['Age'], color='purple')\n",
    "plt.title('Student Ages by Name')\n",
    "plt.xlabel('Name')\n",
    "plt.ylabel('Age')\n",
    "plt.xticks(rotation=45)\n",
    "plt.show()"
   ]
  },
  {
   "cell_type": "code",
   "execution_count": null,
   "id": "98622316-274f-4e04-9ba9-2137b395baaa",
   "metadata": {},
   "outputs": [],
   "source": []
  }
 ],
 "metadata": {
  "kernelspec": {
   "display_name": "Python [conda env:base] *",
   "language": "python",
   "name": "conda-base-py"
  },
  "language_info": {
   "codemirror_mode": {
    "name": "ipython",
    "version": 3
   },
   "file_extension": ".py",
   "mimetype": "text/x-python",
   "name": "python",
   "nbconvert_exporter": "python",
   "pygments_lexer": "ipython3",
   "version": "3.12.7"
  }
 },
 "nbformat": 4,
 "nbformat_minor": 5
}
