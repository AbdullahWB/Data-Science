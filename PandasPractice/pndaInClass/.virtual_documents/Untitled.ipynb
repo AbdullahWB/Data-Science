import pandas as pd


import matplotlib.pyplot as plt


data = {
    'StudentId': [1,2,3,4,5],
    'Name': ['Mohammad', 'Abdullah', 'Najifa', 'Dina', 'Tasnim'],
    'Age': [30,22,21,19,None],
    'Gender':['M', 'M', 'F', 'F', 'F'],
    'Program': ['CS','MH', 'PH', 'CH', 'BG'],
    'RegistrationData': ['2023-09-01' for i in range(5)],
    'Status':['A','A','D','G','A']
}


df = pd.DataFrame(data)


df


df.to_csv('Student_RD', index=False)


mean_age = df['Age'].mean()


df['Age'] = df['Age'].fillna(mean_age)


df



