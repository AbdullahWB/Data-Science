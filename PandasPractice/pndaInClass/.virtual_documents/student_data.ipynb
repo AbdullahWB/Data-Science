import pandas as pd


import matplotlib.pyplot as plt


data = {
    'StudentId': [1,2,3,4,5,6],
    'Name': ['Mohammad', 'Abdullah', 'Najifa', 'Dina', 'Tasnim','Kynat'],
    'Age': [30,22,21,19,None,None],
    'Gender':['M', 'M', 'F', 'F', 'F','F'],
    'Program': ['CS','MH', 'PH', 'CH', 'BG',None],
    'RegistrationData': ['2023-09-01' for i in range(6)],
    'Status':['A','A','D','G','A',None]
}


df = pd.DataFrame(data)


df


df.to_csv('Student_RD', index=False)


mean_age = df['Age'].mean()


df['Age'] = df['Age'].fillna(mean_age)


df


df.isnull()


df.info()


df.head()


df.tail(-3)


df.describe()


plt.figure(figsize=(8, 5))
ages = df['Age'].dropna()  # Remove None values
plt.hist(ages, bins=5, color='skyblue', edgecolor='black')
plt.title('Distribution of Student Ages')
plt.xlabel('Age')
plt.ylabel('Frequency')
plt.grid(True, alpha=0.3)
plt.show()


plt.figure(figsize=(8, 5))
gender_counts = df['Gender'].value_counts()
plt.bar(gender_counts.index, gender_counts.values, color=['blue', 'pink'])
plt.title('Gender Distribution')
plt.xlabel('Gender')
plt.ylabel('Count')
plt.show()


plt.figure(figsize=(8, 5))
program_counts = df['Program'].fillna('Unknown').value_counts()  # Replace None with 'Unknown'
plt.bar(program_counts.index, program_counts.values, color='lightgreen', edgecolor='black')
plt.title('Distribution of Programs')
plt.xlabel('Program')
plt.ylabel('Count')
plt.xticks(rotation=45)
plt.show()


plt.figure(figsize=(8, 5))
status_counts = df['Status'].fillna('Unknown').value_counts()  # Replace None with 'Unknown'
plt.pie(status_counts.values, labels=status_counts.index, autopct='%1.1f%%', colors=['gold', 'lightcoral', 'lightskyblue', 'gray'])
plt.title('Student Status Distribution')
plt.show()


plt.figure(figsize=(10, 6))
df_filled = df.copy()
df_filled['Age'] = df_filled['Age'].fillna(0)  # Replace None with 0 for visualization
plt.bar(df_filled['Name'], df_filled['Age'], color='purple')
plt.title('Student Ages by Name')
plt.xlabel('Name')
plt.ylabel('Age')
plt.xticks(rotation=45)
plt.show()



