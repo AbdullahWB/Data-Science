import pandas as pd


data = [['Mohammad', 34], ['Abdullah', 98], ['Najifa', 99], ['Dina', 88]]


data


pd.DataFrame(data, columns=['Name', 'Marks'])


data = {'a':[1,2,3], 'b':[10,20,30]}


data


df = pd.DataFrame(data)


df


import numpy as np


arr = np.array([[1,2],[10,20]])


df = pd.DataFrame(arr, columns=['A','B'])


df


data = pd.read_excel('Data.xlsx')


data


data = pd.read_csv("data.csv")


data


df = pd.read_json('data.json')


df


df = pd.read_csv("https://raw.githubusercontent.com/mwaskom/seaborn-data/master/tips.csv")


df


df.head()


df.tail()


df.info()


df.describe()


df.columns


df.shape



