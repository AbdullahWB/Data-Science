import pandas as pd


df = pd.read_csv("data.csv")


df


df = df[df['IMDb']>6.0]


df


df.to_csv('new_data.csv', index = False)


df3 = pd.read_json("data.json")


df





df = pd.json_normalize(df3)


df



