import pandas as pd


s = pd.Series([71,83,73,77,90,98,33,45,66])


s


type(s)


s2 = pd.Series([71,83,73,77,90,98,33,45,66], index = ['mohammad', 'abdullah', 'ali', 'choton', 'sijan', 'dina', 'edul', 'pappu', 'hanan'])


s2


s2['dina']


data = {
    "name": ["Alice", "Bob", "Charlie"],
    "age": [25, 30, 35],
    "city": ["Delhi", "Mumbai", "Bangalore"]
}


pd.DataFrame(data)


df = pd.DataFrame(data)


df


df.index


df.columns



