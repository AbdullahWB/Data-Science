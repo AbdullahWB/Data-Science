import pandas as pd


df = pd.read_csv('data_cleaning_sample.csv')


df


df.isnull()


df.isnull().sum()


df.dropna()


df.dropna(axis=1)


df.fillna(0)


df['Age'].fillna(df['Age'].mean())


df


df.fillna(method='bfill')


df.fillna(method='ffill')


df.duplicated()


df.drop_duplicates()


df.duplicated(subset=['Name', 'Age'])


df['Name'].str.lower()


df["City"].str.contains("delhi", case=False)


df["Email"].str.split("@")


type(df["Email"].str.split("@")[0])


df["Email"].str.split("@")[0]


df2 = df.dropna().copy()


df2['Age'] = df2['Age'].astype(int)


df["Date"] = pd.to_datetime(df["Join Date"], format='%d-%m-%Y', utc=True)


df2


df2.info()


df2


df2['Age Group'] = df2['Age'].apply(lambda x: 'Adult' if x >= 25 else 'Minor')


df2


def isMinor(x):
    return "Adult" if x >= 25 else "Minor"
df2["Age Group"] = df2["Age"].apply(isMinor)


df2


gender_map = {"M": "Male", "F":"Female", "O": "Ohter"}
df2["Gender"] = df2["Gender"].map(gender_map)


df2


df2['City'] = df2["City"].replace({'Mumbai': 'New Mumbai', 'New York': 'York'})


df2



