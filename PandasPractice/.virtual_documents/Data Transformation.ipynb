import pandas as pd


df = pd.read_csv('movie_data.csv')


df


df.isnull()


df.sort_values('Year')


df.sort_values('Year', ascending=False)


df.sort_values(['Year', 'IMDb'])


df2 = df.sort_values(['Year', 'IMDb']).copy()


df2.reset_index(drop=True, inplace=True)


df2


df2.sort_index(ascending=False)


df2['Rank'] = df2['IMDb'].rank(ascending=True, method='dense')


df2


df2 = df2[["Film", "Year", "Actor", "Genre", "IMDb", "BoxOffice"]]


df2


cols = ['Actor'] + [col for col in df2.columns if col != 'Actor']


df2 = df2[cols]


df2



