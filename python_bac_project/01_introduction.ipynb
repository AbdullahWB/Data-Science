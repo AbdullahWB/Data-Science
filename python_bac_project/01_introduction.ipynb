{
 "cells": [
  {
   "cell_type": "code",
   "execution_count": 2,
   "id": "c1dc7666-68f3-4523-9ddf-95713fc57acf",
   "metadata": {},
   "outputs": [],
   "source": [
    "import json"
   ]
  },
  {
   "cell_type": "code",
   "execution_count": 3,
   "id": "fb3f1f19-0b17-43bb-97b5-e1c3fa3ff793",
   "metadata": {},
   "outputs": [],
   "source": [
    "def load_data(fileName):\n",
    "    with open(fileName, \"r\") as f:\n",
    "        data = json.load(f)\n",
    "    return data"
   ]
  },
  {
   "cell_type": "code",
   "execution_count": 4,
   "id": "1ab29e9c-5099-4a41-8041-6aba7e2ed7e1",
   "metadata": {},
   "outputs": [],
   "source": [
    "data = load_data(\"data.json\")"
   ]
  },
  {
   "cell_type": "code",
   "execution_count": 5,
   "id": "d07d7aa1-86f8-4394-9bec-4a18f64b55f1",
   "metadata": {},
   "outputs": [
    {
     "data": {
      "text/plain": [
       "{'users': [{'id': 1, 'name': 'Amit', 'friends': [2, 3], 'liked_pages': [101]},\n",
       "  {'id': 2, 'name': 'Priya', 'friends': [1, 4], 'liked_pages': [102]},\n",
       "  {'id': 3, 'name': 'Rahul', 'friends': [1], 'liked_pages': [101, 103]},\n",
       "  {'id': 4, 'name': 'Sara', 'friends': [2], 'liked_pages': [104]}],\n",
       " 'pages': [{'id': 101, 'name': 'Python Developers'},\n",
       "  {'id': 102, 'name': 'Data Science Enthusiasts'},\n",
       "  {'id': 103, 'name': 'AI & ML Community'},\n",
       "  {'id': 104, 'name': 'Web Dev Hub'}]}"
      ]
     },
     "execution_count": 5,
     "metadata": {},
     "output_type": "execute_result"
    }
   ],
   "source": [
    "data"
   ]
  },
  {
   "cell_type": "code",
   "execution_count": 15,
   "id": "3b041440-6c1d-497e-8b25-69e6556c25d3",
   "metadata": {},
   "outputs": [],
   "source": [
    "def display_user(data):\n",
    "    print(\"User and their connection\")\n",
    "    for user in data[\"users\"]:\n",
    "        print(f\"{user['id']}: {user['name']} is friends with: {user['friends']} and liked pages are {user['liked_pages']}\")\n",
    "    print(\"Pages Information\\n\")\n",
    "    for page in data['pages']:\n",
    "        print(f\"{page['id']}: {page['name']}\")"
   ]
  },
  {
   "cell_type": "code",
   "execution_count": 17,
   "id": "3ea2e1f0-f2ff-4a84-9fe6-544c2f300f8d",
   "metadata": {},
   "outputs": [
    {
     "name": "stdout",
     "output_type": "stream",
     "text": [
      "User and their connection\n",
      "1: Amit is friends with: [2, 3] and liked pages are [101]\n",
      "2: Priya is friends with: [1, 4] and liked pages are [102]\n",
      "3: Rahul is friends with: [1] and liked pages are [101, 103]\n",
      "4: Sara is friends with: [2] and liked pages are [104]\n",
      "Pages Information\n",
      "\n",
      "101: Python Developers\n",
      "102: Data Science Enthusiasts\n",
      "103: AI & ML Community\n",
      "104: Web Dev Hub\n"
     ]
    }
   ],
   "source": [
    "display_user(data)"
   ]
  },
  {
   "cell_type": "code",
   "execution_count": null,
   "id": "8d154b08-d480-40ef-a931-9f6269c3bd10",
   "metadata": {},
   "outputs": [],
   "source": []
  }
 ],
 "metadata": {
  "kernelspec": {
   "display_name": "Python [conda env:base] *",
   "language": "python",
   "name": "conda-base-py"
  },
  "language_info": {
   "codemirror_mode": {
    "name": "ipython",
    "version": 3
   },
   "file_extension": ".py",
   "mimetype": "text/x-python",
   "name": "python",
   "nbconvert_exporter": "python",
   "pygments_lexer": "ipython3",
   "version": "3.12.7"
  }
 },
 "nbformat": 4,
 "nbformat_minor": 5
}
