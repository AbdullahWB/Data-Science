import json


def clean_data(data):
    data["users"] = [user for user in data["users"] if user["user"].strip()]
    return data


text = "\u200b\u200b\u200bHello\u200b\u200b"
print(text)



