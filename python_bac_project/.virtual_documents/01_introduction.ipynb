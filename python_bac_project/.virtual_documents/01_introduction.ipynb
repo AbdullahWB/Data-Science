import json


def load_data(fileName):
    with open(fileName, "r") as f:
        data = json.load(f)
    return data


data = load_data("data.json")


data


def display_user(data):
    print("User and their connection")
    for user in data["users"]:
        print(f"{user['id']}: {user['name']} is friends with: {user['friends']} and liked pages are {user['liked_pages']}")
    print("Pages Information")
    for page in data['pages']:
        print(f"{page['id']}: {page['name']}")


display_user(data)



