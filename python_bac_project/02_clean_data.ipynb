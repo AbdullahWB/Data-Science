{
 "cells": [
  {
   "cell_type": "code",
   "execution_count": 1,
   "id": "7ae33dc8-8de4-4966-a7cb-39bc4745a925",
   "metadata": {},
   "outputs": [],
   "source": [
    "import json"
   ]
  },
  {
   "cell_type": "code",
   "execution_count": 19,
   "id": "3f66e844-2d4f-4501-b72e-d520e3bba92e",
   "metadata": {},
   "outputs": [
    {
     "name": "stdout",
     "output_type": "stream",
     "text": [
      "data hase been cleaned successfully\n"
     ]
    }
   ],
   "source": [
    "def clean_data(data):\n",
    "    # remove non-user\n",
    "    data[\"users\"] = [user for user in data[\"users\"] if user[\"name\"].strip()]\n",
    "    # remove duplicate \n",
    "    for user in data[\"users\"]:\n",
    "        user[\"friends\"] = list(set(user[\"friends\"]))\n",
    "    # remove inactive users\n",
    "    data['users'] = [user for user in data['users'] if user['friends'] or user['liked_pages']]\n",
    "    # remove duplicate pages\n",
    "    unique_pages = {}\n",
    "    for page in data['pages']:\n",
    "        unique_pages[page['id']] = page\n",
    "    data['pages'] = list(unique_pages.values()) \n",
    "    return data\n",
    "\n",
    "data = json.load(open(\"data2.json\"))\n",
    "data = clean_data(data)\n",
    "json.dump(data, open(\"cleaned_data2.json\", \"w\"), indent=4)\n",
    "print(\"data hase been cleaned successfully\")"
   ]
  },
  {
   "cell_type": "code",
   "execution_count": 3,
   "id": "71815710-178e-442f-9acf-bc5f879d5186",
   "metadata": {},
   "outputs": [
    {
     "name": "stdout",
     "output_type": "stream",
     "text": [
      "​​​Hello​​\n"
     ]
    }
   ],
   "source": [
    "# text = \"\\u200b\\u200b\\u200bHello\\u200b\\u200b\"\n",
    "# print(text)"
   ]
  },
  {
   "cell_type": "code",
   "execution_count": null,
   "id": "335d96d2-a64a-4fe7-9a61-cc96d3041c75",
   "metadata": {},
   "outputs": [],
   "source": []
  }
 ],
 "metadata": {
  "kernelspec": {
   "display_name": "Python [conda env:base] *",
   "language": "python",
   "name": "conda-base-py"
  },
  "language_info": {
   "codemirror_mode": {
    "name": "ipython",
    "version": 3
   },
   "file_extension": ".py",
   "mimetype": "text/x-python",
   "name": "python",
   "nbconvert_exporter": "python",
   "pygments_lexer": "ipython3",
   "version": "3.12.7"
  }
 },
 "nbformat": 4,
 "nbformat_minor": 5
}
