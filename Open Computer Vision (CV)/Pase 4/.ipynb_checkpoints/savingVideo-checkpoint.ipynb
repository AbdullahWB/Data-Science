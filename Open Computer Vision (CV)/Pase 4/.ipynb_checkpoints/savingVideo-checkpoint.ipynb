{
 "cells": [
  {
   "cell_type": "code",
   "execution_count": 1,
   "id": "1c753a01-d7fb-4c1b-8481-601637cef94a",
   "metadata": {},
   "outputs": [],
   "source": [
    "import cv2"
   ]
  },
  {
   "cell_type": "code",
   "execution_count": 4,
   "id": "fd1cb7a2-b5ea-4edf-89ba-79d40c2f057a",
   "metadata": {},
   "outputs": [],
   "source": [
    "camera = cv2.VideoCapture(0)\n",
    "\n",
    "frame_width = int(camera.get(cv2.CAP_PROP_FRAME_WIDTH))\n",
    "fream_hieght = int(camera.get(cv2.CAP_PROP_FRAME_HEIGHT))\n",
    "\n",
    "codec = cv2.VideoWriter_fourcc(*'XVID')\n",
    "recorded = cv2.VideoWriter(\"My Videos\", codec, 20, (frame_width, fream_hieght))\n",
    "\n",
    "while True:\n",
    "    success, image = camera.read()\n",
    "\n",
    "    if not success:\n",
    "        break\n",
    "\n",
    "    recorded.write(image)\n",
    "    cv2.imshow(\"Recording live\", image)\n",
    "\n",
    "    if cv2.waitKey(1) & 0xFF == ord('q'):\n",
    "        break\n",
    "\n",
    "camera.release()\n",
    "recorded.release()\n",
    "cv2.destroyAllWindows()"
   ]
  },
  {
   "cell_type": "code",
   "execution_count": null,
   "id": "baa116cf-d198-44c0-96ab-f6fbde413f32",
   "metadata": {},
   "outputs": [],
   "source": []
  }
 ],
 "metadata": {
  "kernelspec": {
   "display_name": "Python 3 (ipykernel)",
   "language": "python",
   "name": "python3"
  },
  "language_info": {
   "codemirror_mode": {
    "name": "ipython",
    "version": 3
   },
   "file_extension": ".py",
   "mimetype": "text/x-python",
   "name": "python",
   "nbconvert_exporter": "python",
   "pygments_lexer": "ipython3",
   "version": "3.13.5"
  }
 },
 "nbformat": 4,
 "nbformat_minor": 5
}
