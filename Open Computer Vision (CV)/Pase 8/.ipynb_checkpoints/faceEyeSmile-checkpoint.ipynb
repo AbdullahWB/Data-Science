{
 "cells": [
  {
   "cell_type": "code",
   "execution_count": 1,
   "id": "249dc80d-99a3-4b44-89a5-c3a8456c5ef3",
   "metadata": {},
   "outputs": [],
   "source": [
    "import cv2"
   ]
  },
  {
   "cell_type": "code",
   "execution_count": 2,
   "id": "3ab5a51a-59b9-4b84-8b87-b1c7f7e9fce9",
   "metadata": {},
   "outputs": [],
   "source": [
    "face_cascade = cv2.CascadeClassifier(\"haarcascade_frontalface_default.xml\")\n",
    "eye_cascade = cv2.CascadeClassifier(\"haarcascade_eye.xml\")\n",
    "smile_cascade = cv2.CascadeClassifier(\"haarcascade_smile.xml\") "
   ]
  },
  {
   "cell_type": "code",
   "execution_count": 3,
   "id": "e0efe0b6-f325-4d6f-a663-c25e12f59899",
   "metadata": {},
   "outputs": [
    {
     "name": "stdout",
     "output_type": "stream",
     "text": [
      "Webcam feed active. Press 'q' to quit.\n",
      "Program terminated.\n"
     ]
    }
   ],
   "source": [
    "# Check if cascades loaded successfully\n",
    "if face_cascade.empty():\n",
    "    print(\"Error: Could not load face cascade. Make sure 'haarcascade_frontalface_default.xml' is in the correct path.\")\n",
    "    exit()\n",
    "if eye_cascade.empty():\n",
    "    print(\"Error: Could not load eye cascade. Make sure 'haarcascade_eye.xml' is in the correct path.\")\n",
    "    exit()\n",
    "if smile_cascade.empty():\n",
    "    print(\"Error: Could not load smile cascade. Make sure 'haarcascade_smile.xml' is in the correct path.\")\n",
    "    exit()\n",
    "\n",
    "cap = cv2.VideoCapture(0)\n",
    "\n",
    "if not cap.isOpened():\n",
    "    print(\"Error: Could not open webcam. Please ensure it's connected and not in use.\")\n",
    "    exit()\n",
    "\n",
    "print(\"Webcam feed active. Press 'q' to quit.\")\n",
    "\n",
    "while True:\n",
    "    ret, frame = cap.read()\n",
    "\n",
    "    if not ret:\n",
    "        print(\"Failed to grab frame. Exiting...\")\n",
    "        break\n",
    "\n",
    "    gray = cv2.cvtColor(frame, cv2.COLOR_BGR2GRAY)\n",
    "\n",
    "    faces = face_cascade.detectMultiScale(gray, 1.1, 5)\n",
    "\n",
    "    for (x, y, w, h) in faces:\n",
    "        cv2.rectangle(frame, (x, y), (x + w, y + h), (0, 255, 0), 2) \n",
    "\n",
    "        roi_gray = gray[y:y + h, x:x + w]\n",
    "        roi_color = frame[y:y + h, x:x + w] \n",
    "\n",
    "        eyes = eye_cascade.detectMultiScale(roi_gray, 1.1, 10)\n",
    "        \n",
    "        if len(eyes) > 0:\n",
    "            for (ex, ey, ew, eh) in eyes:\n",
    "                cv2.circle(roi_color, (ex + ew // 2, ey + eh // 2), ew // 2, (0, 255, 0), 2)\n",
    "            \n",
    "            cv2.putText(frame, \"Eyes Detected\", (x, y - 30), cv2.FONT_HERSHEY_SIMPLEX, 0.6, (0, 0, 255), 2, cv2.LINE_AA) \n",
    "\n",
    "        smiles = smile_cascade.detectMultiScale(roi_gray, 1.7, 22) \n",
    "\n",
    "        if len(smiles) > 0:\n",
    "            for (sx, sy, sw, sh) in smiles:\n",
    "                cv2.rectangle(roi_color, (sx, sy), (sx + sw, sy + sh), (255, 0, 0), 2)\n",
    "            \n",
    "            cv2.putText(frame, \"Smile Detected\", (x, y - 10), cv2.FONT_HERSHEY_SIMPLEX, 0.6, (0, 255, 255), 2, cv2.LINE_AA) # Yellow text\n",
    "\n",
    "    cv2.imshow(\"Smart Face Detection\", frame)\n",
    "\n",
    "    if cv2.waitKey(1) & 0xFF == ord('q'):\n",
    "        break\n",
    "\n",
    "cap.release()\n",
    "cv2.destroyAllWindows()\n",
    "print(\"Program terminated.\")"
   ]
  },
  {
   "cell_type": "code",
   "execution_count": null,
   "id": "36bc0912-aa3f-4784-84cd-62467cc001ec",
   "metadata": {},
   "outputs": [],
   "source": []
  }
 ],
 "metadata": {
  "kernelspec": {
   "display_name": "Python 3 (ipykernel)",
   "language": "python",
   "name": "python3"
  },
  "language_info": {
   "codemirror_mode": {
    "name": "ipython",
    "version": 3
   },
   "file_extension": ".py",
   "mimetype": "text/x-python",
   "name": "python",
   "nbconvert_exporter": "python",
   "pygments_lexer": "ipython3",
   "version": "3.13.5"
  }
 },
 "nbformat": 4,
 "nbformat_minor": 5
}
