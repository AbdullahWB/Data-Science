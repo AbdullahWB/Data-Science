{
 "cells": [
  {
   "cell_type": "code",
   "execution_count": 1,
   "id": "f46cb7c6-3e49-432e-bdda-d8e73fdc9efe",
   "metadata": {},
   "outputs": [],
   "source": [
    "import cv2\n",
    "import matplotlib.pyplot as plt"
   ]
  },
  {
   "cell_type": "code",
   "execution_count": 5,
   "id": "8bb80745-966a-4f54-9055-bafc843f3b6b",
   "metadata": {},
   "outputs": [
    {
     "name": "stdout",
     "output_type": "stream",
     "text": [
      "ok\n"
     ]
    }
   ],
   "source": [
    "image = cv2.imread(\"tanjiro.jpg\")\n",
    "if image is not None:\n",
    "    print(\"ok\")\n",
    "else:\n",
    "    print(\"i am ok\")"
   ]
  },
  {
   "cell_type": "code",
   "execution_count": 7,
   "id": "7a881cf3-7578-4994-93d8-cde8d7d1e30b",
   "metadata": {},
   "outputs": [
    {
     "name": "stdout",
     "output_type": "stream",
     "text": [
      "540 810 3\n"
     ]
    }
   ],
   "source": [
    "h, w, c = image.shape\n",
    "print(h,w,c)"
   ]
  },
  {
   "cell_type": "code",
   "execution_count": null,
   "id": "c2bc0c78-9b97-4bbf-a616-abcacb0bdf5e",
   "metadata": {},
   "outputs": [],
   "source": []
  }
 ],
 "metadata": {
  "kernelspec": {
   "display_name": "Python 3 (ipykernel)",
   "language": "python",
   "name": "python3"
  },
  "language_info": {
   "codemirror_mode": {
    "name": "ipython",
    "version": 3
   },
   "file_extension": ".py",
   "mimetype": "text/x-python",
   "name": "python",
   "nbconvert_exporter": "python",
   "pygments_lexer": "ipython3",
   "version": "3.13.5"
  }
 },
 "nbformat": 4,
 "nbformat_minor": 5
}
