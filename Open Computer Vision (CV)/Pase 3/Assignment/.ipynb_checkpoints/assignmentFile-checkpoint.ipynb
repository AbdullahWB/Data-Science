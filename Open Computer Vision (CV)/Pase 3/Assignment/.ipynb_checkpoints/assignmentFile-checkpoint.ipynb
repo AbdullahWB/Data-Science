{
 "cells": [
  {
   "cell_type": "code",
   "execution_count": 1,
   "id": "7e4ca804-1dd0-4c44-b33f-e2c6ae463a3a",
   "metadata": {},
   "outputs": [],
   "source": [
    "import cv2\n",
    "import matplotlib.pyplot as plt\n",
    "import numpy as np"
   ]
  },
  {
   "cell_type": "code",
   "execution_count": null,
   "id": "2334e6f8-1614-4290-b8aa-5184116e23a6",
   "metadata": {},
   "outputs": [],
   "source": [
    "class Image:\n",
    "    def __init__(self, ImageName):\n",
    "        self.ImageName = ImageName\n",
    "\n",
    "    def LoadImage(self):\n",
    "        BgrImage = cv2.imread(self.ImageName)\n",
    "        image = cv2.cvtColor(BgrImage, cv2.COLOR_BGR2RGB)\n",
    "        return image\n",
    "\n",
    "    def ShowImage(self):\n",
    "        image = self.LoadImage()\n",
    "        plt.imshow(image)\n",
    "\n",
    "    def RectangleImage(self, pt1, pt2, color, thick):\n",
    "        image = self.LoadImage()\n",
    "        cv2.rectangle(image, pt1, pt2, color, thick)\n",
    "        plt.imshow(image)\n",
    "\n",
    "    def CircleImage(self, pt1, pt2, color, thick):\n",
    "        image = self.LoadImage()\n",
    "        cv2.circle(image, pt1, pt2, color, thick)\n",
    "        plt.imshow(image)\n",
    "\n",
    "    def AddText(self, text, pt1, scale, color, thick):\n",
    "        image = self.LoadImage()\n",
    "        cv2.putText(image, text, pt1, cv2.FONT_HERSHEY_COMPLEX, scale, color, thick)\n",
    "        plt.imshow(plt_image_rgb) \n",
    "\n",
    "    def FlippedImage(self):\n",
    "        image = self.LoadImage()\n",
    "        flipped_h = cv2.flip(image, 1)\n",
    "        flipped_v = cv2.flip(image, 0)\n",
    "        flipped_b = cv2.flip(image, -1)\n",
    "        \n",
    "        fig, axes = plt.subplots(2, 2, figsize=(10, 8)) \n",
    "        fig.suptitle('Image Transformations', fontsize=16)\n",
    "        axes = axes.flatten()\n",
    "        axes[0].imshow(image)\n",
    "        axes[0].set_title(\"Original Image\")\n",
    "        axes[0].axis('off') \\\n",
    "        \n",
    "        axes[1].imshow(flipped_h)\n",
    "        axes[1].set_title(\"Flipped Horizontally\")\n",
    "        axes[1].axis('off')\n",
    "        \n",
    "        axes[2].imshow(flipped_v)\n",
    "        axes[2].set_title(\"Flipped Vertically\")\n",
    "        axes[2].axis('off')\n",
    "        \n",
    "        axes[3].imshow(flipped_b)\n",
    "        axes[3].set_title(\"Flipped Both Ways\")\n",
    "        axes[3].axis('off')\n",
    "        \n",
    "        plt.tight_layout(rect=[0, 0.03, 1, 0.95]) # Adjust rect to make space for suptitle\n",
    "        plt.show()\n",
    "\n",
    "    "
   ]
  }
 ],
 "metadata": {
  "kernelspec": {
   "display_name": "Python 3 (ipykernel)",
   "language": "python",
   "name": "python3"
  },
  "language_info": {
   "codemirror_mode": {
    "name": "ipython",
    "version": 3
   },
   "file_extension": ".py",
   "mimetype": "text/x-python",
   "name": "python",
   "nbconvert_exporter": "python",
   "pygments_lexer": "ipython3",
   "version": "3.13.5"
  }
 },
 "nbformat": 4,
 "nbformat_minor": 5
}
