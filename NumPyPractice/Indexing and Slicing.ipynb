{
 "cells": [
  {
   "cell_type": "code",
   "execution_count": 1,
   "id": "7ae07cec-a9ae-437f-be5f-874253b6d229",
   "metadata": {},
   "outputs": [],
   "source": [
    "import numpy as np"
   ]
  },
  {
   "cell_type": "code",
   "execution_count": 2,
   "id": "38bdaa97-6419-40d8-bd30-187327333e13",
   "metadata": {},
   "outputs": [],
   "source": [
    "arr = np.array([[1,2,3],[4,5,6],[7,8,9],[0,1,2]])"
   ]
  },
  {
   "cell_type": "code",
   "execution_count": 3,
   "id": "ad2fbfa1-e36e-42d4-b85e-f7782a556e1e",
   "metadata": {},
   "outputs": [
    {
     "data": {
      "text/plain": [
       "array([[1, 2, 3],\n",
       "       [4, 5, 6],\n",
       "       [7, 8, 9],\n",
       "       [0, 1, 2]])"
      ]
     },
     "execution_count": 3,
     "metadata": {},
     "output_type": "execute_result"
    }
   ],
   "source": [
    "arr"
   ]
  },
  {
   "cell_type": "code",
   "execution_count": 4,
   "id": "aaeeb394-e40d-45aa-9d6a-cd28ff0de2b5",
   "metadata": {},
   "outputs": [
    {
     "data": {
      "text/plain": [
       "array([1, 2, 3, 4, 5, 6, 7, 8, 9, 0, 1, 2])"
      ]
     },
     "execution_count": 4,
     "metadata": {},
     "output_type": "execute_result"
    }
   ],
   "source": [
    "flat = arr.flatten()\n",
    "flat"
   ]
  },
  {
   "cell_type": "code",
   "execution_count": 5,
   "id": "d2656f5f-8364-40d7-a1b4-ecedeaf7c1de",
   "metadata": {},
   "outputs": [
    {
     "data": {
      "text/plain": [
       "1"
      ]
     },
     "execution_count": 5,
     "metadata": {},
     "output_type": "execute_result"
    }
   ],
   "source": [
    "flat[0]"
   ]
  },
  {
   "cell_type": "code",
   "execution_count": 6,
   "id": "23794a4b-d3e1-46ae-84c5-c3c69679b611",
   "metadata": {},
   "outputs": [
    {
     "data": {
      "text/plain": [
       "array([2, 3])"
      ]
     },
     "execution_count": 6,
     "metadata": {},
     "output_type": "execute_result"
    }
   ],
   "source": [
    "flat[1:3]"
   ]
  },
  {
   "cell_type": "code",
   "execution_count": 7,
   "id": "a8f25eb3-37e5-48fb-8cf7-72a47704ddab",
   "metadata": {},
   "outputs": [
    {
     "data": {
      "text/plain": [
       "array([1, 2, 3, 4, 5, 6, 7, 8, 9, 0, 1, 2])"
      ]
     },
     "execution_count": 7,
     "metadata": {},
     "output_type": "execute_result"
    }
   ],
   "source": [
    "flat[:]"
   ]
  },
  {
   "cell_type": "code",
   "execution_count": 8,
   "id": "90ceb45e-336e-4878-b47c-41bfa6022bd7",
   "metadata": {},
   "outputs": [
    {
     "data": {
      "text/plain": [
       "array([1, 2, 3, 4, 5])"
      ]
     },
     "execution_count": 8,
     "metadata": {},
     "output_type": "execute_result"
    }
   ],
   "source": [
    "flat[:5]"
   ]
  },
  {
   "cell_type": "code",
   "execution_count": 9,
   "id": "a8640ca9-1e3f-4cd9-8858-8d9787e7b21b",
   "metadata": {},
   "outputs": [
    {
     "data": {
      "text/plain": [
       "array([4, 5, 6, 7, 8, 9, 0, 1, 2])"
      ]
     },
     "execution_count": 9,
     "metadata": {},
     "output_type": "execute_result"
    }
   ],
   "source": [
    "flat[3:]"
   ]
  },
  {
   "cell_type": "code",
   "execution_count": 10,
   "id": "9b43f3b8-2490-43b4-a110-2c0eea224887",
   "metadata": {},
   "outputs": [
    {
     "data": {
      "text/plain": [
       "array([1, 2, 3, 4, 5, 6, 7, 8, 9, 0, 1, 2])"
      ]
     },
     "execution_count": 10,
     "metadata": {},
     "output_type": "execute_result"
    }
   ],
   "source": [
    "flat[0:13]"
   ]
  },
  {
   "cell_type": "code",
   "execution_count": 11,
   "id": "e18f7b7a-508c-48f7-80d7-a67d89cc20e6",
   "metadata": {},
   "outputs": [],
   "source": [
    "a = flat[:6]"
   ]
  },
  {
   "cell_type": "code",
   "execution_count": 12,
   "id": "e63e5700-fb34-4b9e-af89-0f7d9bfda0e9",
   "metadata": {},
   "outputs": [
    {
     "data": {
      "text/plain": [
       "array([1, 2, 3, 4, 5, 6])"
      ]
     },
     "execution_count": 12,
     "metadata": {},
     "output_type": "execute_result"
    }
   ],
   "source": [
    "a"
   ]
  },
  {
   "cell_type": "code",
   "execution_count": 13,
   "id": "552811e6-cb94-404e-bc72-b13d2d06c84e",
   "metadata": {},
   "outputs": [],
   "source": [
    "a[1] = 44"
   ]
  },
  {
   "cell_type": "code",
   "execution_count": 14,
   "id": "32034078-c971-4721-a785-4260e38164b7",
   "metadata": {},
   "outputs": [
    {
     "data": {
      "text/plain": [
       "array([ 1, 44,  3,  4,  5,  6])"
      ]
     },
     "execution_count": 14,
     "metadata": {},
     "output_type": "execute_result"
    }
   ],
   "source": [
    "a"
   ]
  },
  {
   "cell_type": "code",
   "execution_count": 15,
   "id": "2a50dd79-ff50-483a-8ad8-caa5aa9c484f",
   "metadata": {},
   "outputs": [
    {
     "data": {
      "text/plain": [
       "array([ 1, 44,  3,  4,  5,  6,  7,  8,  9,  0,  1,  2])"
      ]
     },
     "execution_count": 15,
     "metadata": {},
     "output_type": "execute_result"
    }
   ],
   "source": [
    "flat"
   ]
  },
  {
   "cell_type": "code",
   "execution_count": 16,
   "id": "5e84bc4c-1e11-47cf-8399-16bf94a67cc9",
   "metadata": {},
   "outputs": [
    {
     "data": {
      "text/plain": [
       "[3, 4, 5, 6, 7, 8, 9, 0, 1, 2]"
      ]
     },
     "execution_count": 16,
     "metadata": {},
     "output_type": "execute_result"
    }
   ],
   "source": [
    "list1 = [3,  4,  5,  6,  7,  8,  9,  0,  1,  2]\n",
    "list1"
   ]
  },
  {
   "cell_type": "code",
   "execution_count": 17,
   "id": "a7c7c1fa-9605-4a19-9bb1-8b7956cbb047",
   "metadata": {},
   "outputs": [
    {
     "data": {
      "text/plain": [
       "[3, 4, 5, 6, 7]"
      ]
     },
     "execution_count": 17,
     "metadata": {},
     "output_type": "execute_result"
    }
   ],
   "source": [
    "list2 = list1[0:5]\n",
    "list2\n"
   ]
  },
  {
   "cell_type": "code",
   "execution_count": 18,
   "id": "771c154c-59fc-4de6-8d18-b47c4813244a",
   "metadata": {},
   "outputs": [
    {
     "data": {
      "text/plain": [
       "[3, 10, 5, 6, 7]"
      ]
     },
     "execution_count": 18,
     "metadata": {},
     "output_type": "execute_result"
    }
   ],
   "source": [
    "list2[1] = 10\n",
    "list2\n"
   ]
  },
  {
   "cell_type": "code",
   "execution_count": 19,
   "id": "6df4d08f-37e2-42d4-b729-dc79f2f5dce7",
   "metadata": {},
   "outputs": [
    {
     "data": {
      "text/plain": [
       "[3, 4, 5, 6, 7, 8, 9, 0, 1, 2]"
      ]
     },
     "execution_count": 19,
     "metadata": {},
     "output_type": "execute_result"
    }
   ],
   "source": [
    "\n",
    "list1"
   ]
  },
  {
   "cell_type": "code",
   "execution_count": 20,
   "id": "af0fcd60-1096-40c2-8d7b-2e4517321254",
   "metadata": {},
   "outputs": [
    {
     "data": {
      "text/plain": [
       "array([[1, 2, 3],\n",
       "       [4, 5, 6],\n",
       "       [7, 8, 9],\n",
       "       [0, 1, 2]])"
      ]
     },
     "execution_count": 20,
     "metadata": {},
     "output_type": "execute_result"
    }
   ],
   "source": [
    "arr"
   ]
  },
  {
   "cell_type": "code",
   "execution_count": 21,
   "id": "d9170d93-d046-4cf5-b4c1-260456b57c30",
   "metadata": {},
   "outputs": [
    {
     "data": {
      "text/plain": [
       "array([ 1, 44,  3,  4,  5,  6,  7,  8,  9,  0,  1,  2])"
      ]
     },
     "execution_count": 21,
     "metadata": {},
     "output_type": "execute_result"
    }
   ],
   "source": [
    "flat"
   ]
  },
  {
   "cell_type": "code",
   "execution_count": 22,
   "id": "630e577b-a972-4659-8fe9-b9a04dc394bc",
   "metadata": {},
   "outputs": [
    {
     "data": {
      "text/plain": [
       "array([ 1, 44,  3,  4,  5,  6,  7,  8,  9,  0,  1,  2])"
      ]
     },
     "execution_count": 22,
     "metadata": {},
     "output_type": "execute_result"
    }
   ],
   "source": [
    "import numpy as np\n",
    "arr = np.array([[1,2,3],[4,5,6],[7,8,9],[0,1,2]])\n",
    "flat = arr.flatten()\n",
    "a = flat[:6]\n",
    "a[1] = 44\n",
    "flat"
   ]
  },
  {
   "cell_type": "code",
   "execution_count": 23,
   "id": "1b629605-cb27-4fd3-abd5-22805542be53",
   "metadata": {},
   "outputs": [
    {
     "data": {
      "text/plain": [
       "array([[4, 5, 6],\n",
       "       [7, 8, 9],\n",
       "       [0, 1, 2]])"
      ]
     },
     "execution_count": 23,
     "metadata": {},
     "output_type": "execute_result"
    }
   ],
   "source": [
    "arr[[1, 2, 3]]"
   ]
  },
  {
   "cell_type": "code",
   "execution_count": 24,
   "id": "c9601fa2-ed8c-42c8-ad32-85f6fb0dd8ca",
   "metadata": {},
   "outputs": [],
   "source": [
    "arr = np.array([ 1, 44,  3,  4,  5,  6,  7,  8,  9,  0,  1,  2])"
   ]
  },
  {
   "cell_type": "code",
   "execution_count": 25,
   "id": "a3e879ae-75b8-4cc6-8ca2-bca44c03e6b8",
   "metadata": {},
   "outputs": [
    {
     "data": {
      "text/plain": [
       "array([44,  3,  4])"
      ]
     },
     "execution_count": 25,
     "metadata": {},
     "output_type": "execute_result"
    }
   ],
   "source": [
    "arr[[1, 2, 3]]"
   ]
  },
  {
   "cell_type": "code",
   "execution_count": 26,
   "id": "e748317e-7f09-4925-b554-345753560b18",
   "metadata": {},
   "outputs": [
    {
     "data": {
      "text/plain": [
       "array([44,  7,  8,  9])"
      ]
     },
     "execution_count": 26,
     "metadata": {},
     "output_type": "execute_result"
    }
   ],
   "source": [
    "arr[arr>6]"
   ]
  },
  {
   "cell_type": "code",
   "execution_count": 27,
   "id": "29258227-8a53-40d9-8fec-c51e6cf9067c",
   "metadata": {},
   "outputs": [],
   "source": [
    "newNum = np.array([1,2,3,4,5,6])"
   ]
  },
  {
   "cell_type": "code",
   "execution_count": 58,
   "id": "175091fa-3354-4fed-a10b-6f8a7b6cf504",
   "metadata": {},
   "outputs": [
    {
     "data": {
      "text/plain": [
       "[1, 3, 5]"
      ]
     },
     "execution_count": 58,
     "metadata": {},
     "output_type": "execute_result"
    }
   ],
   "source": [
    "idx = [x for x in range(1,6) if x%2 != 0]\n",
    "idx"
   ]
  },
  {
   "cell_type": "code",
   "execution_count": 60,
   "id": "60ba2c40-c52f-4064-b02f-4caf468d68e4",
   "metadata": {},
   "outputs": [
    {
     "name": "stdout",
     "output_type": "stream",
     "text": [
      "[2 4 6]\n"
     ]
    }
   ],
   "source": [
    "print(newNum[idx])"
   ]
  },
  {
   "cell_type": "code",
   "execution_count": 62,
   "id": "033ebe6b-f540-46d5-ad8c-358d7db5ae6a",
   "metadata": {},
   "outputs": [],
   "source": [
    "newMatrix = np.array([1,2,3,4,5,6,7,8,9])"
   ]
  },
  {
   "cell_type": "code",
   "execution_count": 66,
   "id": "28bac163-df30-4564-a761-ee6887d85258",
   "metadata": {},
   "outputs": [
    {
     "data": {
      "text/plain": [
       "array([[1, 2, 3],\n",
       "       [4, 5, 6],\n",
       "       [7, 8, 9]])"
      ]
     },
     "execution_count": 66,
     "metadata": {},
     "output_type": "execute_result"
    }
   ],
   "source": [
    "reshaped = newMatrix.reshape((3,3))\n",
    "reshaped"
   ]
  },
  {
   "cell_type": "code",
   "execution_count": 74,
   "id": "2739925b-694f-4a68-b8cf-f5e008fdc13e",
   "metadata": {},
   "outputs": [
    {
     "data": {
      "text/plain": [
       "array([[[1.],\n",
       "        [0.],\n",
       "        [0.]],\n",
       "\n",
       "       [[0.],\n",
       "        [1.],\n",
       "        [0.]],\n",
       "\n",
       "       [[0.],\n",
       "        [0.],\n",
       "        [1.]]])"
      ]
     },
     "execution_count": 74,
     "metadata": {},
     "output_type": "execute_result"
    }
   ],
   "source": [
    "a= np.eye(3)\n",
    "# a.shape\n",
    "b = a.reshape(3,3,1)\n",
    "b\n"
   ]
  },
  {
   "cell_type": "code",
   "execution_count": 76,
   "id": "43d4cafb-e2fe-4d6a-af40-dd874a2cb1d8",
   "metadata": {},
   "outputs": [
    {
     "data": {
      "text/plain": [
       "array([[1., 0., 0., 0.],\n",
       "       [0., 1., 0., 0.],\n",
       "       [0., 0., 1., 0.],\n",
       "       [0., 0., 0., 1.]])"
      ]
     },
     "execution_count": 76,
     "metadata": {},
     "output_type": "execute_result"
    }
   ],
   "source": [
    "ab = np.eye(4)\n",
    "ab"
   ]
  },
  {
   "cell_type": "code",
   "execution_count": 79,
   "id": "f5ddd4c4-81ff-48b2-b63f-a55208fd797e",
   "metadata": {},
   "outputs": [
    {
     "data": {
      "text/plain": [
       "array([[[68, 63, 68],\n",
       "        [73, 43,  3],\n",
       "        [10, 72, 46],\n",
       "        [15, 83, 46]],\n",
       "\n",
       "       [[90,  9, 36],\n",
       "        [30, 40, 42],\n",
       "        [98,  7, 46],\n",
       "        [22, 36, 39]],\n",
       "\n",
       "       [[43, 49, 95],\n",
       "        [94, 46, 34],\n",
       "        [29, 78, 98],\n",
       "        [99, 21, 32]],\n",
       "\n",
       "       [[47, 36, 86],\n",
       "        [69, 20,  6],\n",
       "        [85, 63, 61],\n",
       "        [74, 35, 98]]])"
      ]
     },
     "execution_count": 79,
     "metadata": {},
     "output_type": "execute_result"
    }
   ],
   "source": [
    "import random\n",
    "\n",
    "matArr = np.random.randint(100, size=(4, 4, 3))\n",
    "matArr"
   ]
  },
  {
   "cell_type": "code",
   "execution_count": 88,
   "id": "44bbaf79-f002-4420-accf-95cdb9737142",
   "metadata": {},
   "outputs": [],
   "source": [
    "newMatt = [matArr > 50]"
   ]
  },
  {
   "cell_type": "code",
   "execution_count": 90,
   "id": "45d5eca7-ee5b-4c08-9929-bcf40abcf218",
   "metadata": {},
   "outputs": [
    {
     "data": {
      "text/plain": [
       "[array([[[ True,  True,  True],\n",
       "         [ True, False, False],\n",
       "         [False,  True, False],\n",
       "         [False,  True, False]],\n",
       " \n",
       "        [[ True, False, False],\n",
       "         [False, False, False],\n",
       "         [ True, False, False],\n",
       "         [False, False, False]],\n",
       " \n",
       "        [[False, False,  True],\n",
       "         [ True, False, False],\n",
       "         [False,  True,  True],\n",
       "         [ True, False, False]],\n",
       " \n",
       "        [[False, False,  True],\n",
       "         [ True, False, False],\n",
       "         [ True,  True,  True],\n",
       "         [ True, False,  True]]])]"
      ]
     },
     "execution_count": 90,
     "metadata": {},
     "output_type": "execute_result"
    }
   ],
   "source": [
    "newMatt"
   ]
  },
  {
   "cell_type": "code",
   "execution_count": null,
   "id": "a1e5cba1-ddfe-46dd-8f83-64702ee277f8",
   "metadata": {},
   "outputs": [],
   "source": []
  }
 ],
 "metadata": {
  "kernelspec": {
   "display_name": "Python [conda env:base] *",
   "language": "python",
   "name": "conda-base-py"
  },
  "language_info": {
   "codemirror_mode": {
    "name": "ipython",
    "version": 3
   },
   "file_extension": ".py",
   "mimetype": "text/x-python",
   "name": "python",
   "nbconvert_exporter": "python",
   "pygments_lexer": "ipython3",
   "version": "3.12.7"
  }
 },
 "nbformat": 4,
 "nbformat_minor": 5
}
