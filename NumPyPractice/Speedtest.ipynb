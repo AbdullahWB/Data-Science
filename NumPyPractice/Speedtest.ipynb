{
 "cells": [
  {
   "cell_type": "code",
   "execution_count": 1,
   "id": "4e8d2961-343b-456d-8065-c307cf765eff",
   "metadata": {},
   "outputs": [],
   "source": [
    "import numpy as np"
   ]
  },
  {
   "cell_type": "code",
   "execution_count": 2,
   "id": "26821cd0-aea9-4571-8da9-84bd03b9022c",
   "metadata": {},
   "outputs": [
    {
     "data": {
      "text/plain": [
       "[(1, 6), (2, 7), (3, 8)]"
      ]
     },
     "execution_count": 2,
     "metadata": {},
     "output_type": "execute_result"
    }
   ],
   "source": [
    "l1 = [1, 2, 3]\n",
    "l2 = [6, 7, 8]\n",
    "list(zip(l1, l2))"
   ]
  },
  {
   "cell_type": "code",
   "execution_count": 3,
   "id": "5dedc2c1-a4f1-4ab0-8534-1e9f8dbd27f4",
   "metadata": {},
   "outputs": [],
   "source": [
    "import time"
   ]
  },
  {
   "cell_type": "code",
   "execution_count": 4,
   "id": "07a711b4-5f5a-4423-a177-1fdcce763771",
   "metadata": {},
   "outputs": [],
   "source": [
    "size = 1_000_000"
   ]
  },
  {
   "cell_type": "code",
   "execution_count": 5,
   "id": "2b0c7332-3353-48a6-b203-c87c38a4f0b7",
   "metadata": {},
   "outputs": [],
   "source": [
    "l1 = list(range(size))"
   ]
  },
  {
   "cell_type": "code",
   "execution_count": 6,
   "id": "d6c14990-4c0c-4945-9231-6f2e6eb1b2ca",
   "metadata": {},
   "outputs": [],
   "source": [
    "l2 = list(range(size))"
   ]
  },
  {
   "cell_type": "code",
   "execution_count": 7,
   "id": "30ace8da-98fb-417b-bd70-d7d4c94a6b8b",
   "metadata": {},
   "outputs": [],
   "source": [
    "start = time.time()"
   ]
  },
  {
   "cell_type": "code",
   "execution_count": 8,
   "id": "e3fb5703-cadd-49ce-989c-58b8681c68b3",
   "metadata": {},
   "outputs": [],
   "source": [
    "add = [x + y for x,y in zip(l1, l2)]"
   ]
  },
  {
   "cell_type": "code",
   "execution_count": 9,
   "id": "f5498aa0-846a-4e67-bbd2-4f5df1a6d236",
   "metadata": {},
   "outputs": [],
   "source": [
    "end = time.time()"
   ]
  },
  {
   "cell_type": "code",
   "execution_count": 10,
   "id": "bbaa0e18-f1aa-4d54-93b1-cf7c7c53a421",
   "metadata": {},
   "outputs": [
    {
     "name": "stdout",
     "output_type": "stream",
     "text": [
      "0.11841654777526855\n"
     ]
    }
   ],
   "source": [
    "print(end - start)"
   ]
  },
  {
   "cell_type": "code",
   "execution_count": 25,
   "id": "67e4792c-82a5-47b2-aa38-d8bba06ed1aa",
   "metadata": {},
   "outputs": [
    {
     "name": "stdout",
     "output_type": "stream",
     "text": [
      "0.1580057144165039\n"
     ]
    }
   ],
   "source": [
    "import numpy as np\n",
    "import time\n",
    "\n",
    "size = 1_000_000_00\n",
    "l1 = np.array(list(range(size)))\n",
    "l2 = np.array(list(range(size)))\n",
    "start = time.time()\n",
    "add = l1 + l2\n",
    "end = time.time()\n",
    "print(end - start)"
   ]
  },
  {
   "cell_type": "code",
   "execution_count": 5,
   "id": "582cd97b-0caa-4735-9973-434bb1fb2c53",
   "metadata": {},
   "outputs": [
    {
     "name": "stdout",
     "output_type": "stream",
     "text": [
      "Python list size: 8056000 bytes\n",
      "NumPy array size: 4000 bytes\n"
     ]
    }
   ],
   "source": [
    "import sys\n",
    "\n",
    "list_data = list(range(1000))\n",
    "numpy_data = np.array(list_data)\n",
    "\n",
    "print(\"Python list size:\", sys.getsizeof(list_data) * len(list_data), \"bytes\")\n",
    "print(\"NumPy array size:\", numpy_data.nbytes, \"bytes\")"
   ]
  },
  {
   "cell_type": "code",
   "execution_count": 19,
   "id": "e8d9bc8c-080f-4561-8d3d-e670d2f7ccfe",
   "metadata": {},
   "outputs": [
    {
     "name": "stdout",
     "output_type": "stream",
     "text": [
      "0.0010025501251220703\n"
     ]
    }
   ],
   "source": [
    "import time\n",
    "list1 = list(range(1000))\n",
    "arr1 = np.array(list1)\n",
    "# startL = time.time()\n",
    "# Python list (loop-based)\n",
    "list_squares = [x ** 2 for x in list1]\n",
    "# endL = time.time()\n",
    "startN = time.time()\n",
    "# NumPy (vectorized)\n",
    "numpy_squares = arr1 ** 2\n",
    "endN = time.time()\n",
    "\n",
    "# print(endL - startL)\n",
    "print(endN - startN)"
   ]
  },
  {
   "cell_type": "code",
   "execution_count": null,
   "id": "d453ea0f-1202-4dc6-bb31-6386569f2bff",
   "metadata": {},
   "outputs": [],
   "source": []
  }
 ],
 "metadata": {
  "kernelspec": {
   "display_name": "Python [conda env:base] *",
   "language": "python",
   "name": "conda-base-py"
  },
  "language_info": {
   "codemirror_mode": {
    "name": "ipython",
    "version": 3
   },
   "file_extension": ".py",
   "mimetype": "text/x-python",
   "name": "python",
   "nbconvert_exporter": "python",
   "pygments_lexer": "ipython3",
   "version": "3.12.7"
  }
 },
 "nbformat": 4,
 "nbformat_minor": 5
}
