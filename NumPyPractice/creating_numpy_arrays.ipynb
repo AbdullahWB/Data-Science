{
 "cells": [
  {
   "cell_type": "code",
   "execution_count": 1,
   "id": "532e9bd1-d44a-4254-87f4-763c23ac2aac",
   "metadata": {},
   "outputs": [],
   "source": [
    "import numpy as np"
   ]
  },
  {
   "cell_type": "code",
   "execution_count": 2,
   "id": "820cc829-2ddc-49e2-b252-e6a439e636f3",
   "metadata": {},
   "outputs": [
    {
     "data": {
      "text/plain": [
       "array([1, 2, 3])"
      ]
     },
     "execution_count": 2,
     "metadata": {},
     "output_type": "execute_result"
    }
   ],
   "source": [
    "arr = np.array([1,2,3])\n",
    "arr"
   ]
  },
  {
   "cell_type": "code",
   "execution_count": 3,
   "id": "24b4870a-854e-40df-99d5-4f01f13e16b4",
   "metadata": {},
   "outputs": [
    {
     "data": {
      "text/plain": [
       "array([[0., 0., 0.],\n",
       "       [0., 0., 0.],\n",
       "       [0., 0., 0.]])"
      ]
     },
     "execution_count": 3,
     "metadata": {},
     "output_type": "execute_result"
    }
   ],
   "source": [
    "np.zeros((3,3))"
   ]
  },
  {
   "cell_type": "code",
   "execution_count": 4,
   "id": "676de0e0-31eb-42b1-ac0f-9e6f39e59782",
   "metadata": {},
   "outputs": [
    {
     "data": {
      "text/plain": [
       "array([0, 0])"
      ]
     },
     "execution_count": 4,
     "metadata": {},
     "output_type": "execute_result"
    }
   ],
   "source": [
    "np.zeros_like((3,3))"
   ]
  },
  {
   "cell_type": "code",
   "execution_count": 5,
   "id": "6c21b83e-ebaf-4134-a5d0-1a228bed483b",
   "metadata": {},
   "outputs": [
    {
     "data": {
      "text/plain": [
       "array([[1., 1., 1.],\n",
       "       [1., 1., 1.],\n",
       "       [1., 1., 1.]])"
      ]
     },
     "execution_count": 5,
     "metadata": {},
     "output_type": "execute_result"
    }
   ],
   "source": [
    "np.ones((3,3))"
   ]
  },
  {
   "cell_type": "code",
   "execution_count": 6,
   "id": "0bacd8d2-7555-4268-a4fa-5dbbc29b568e",
   "metadata": {},
   "outputs": [
    {
     "data": {
      "text/plain": [
       "array([[9, 9, 9],\n",
       "       [9, 9, 9],\n",
       "       [9, 9, 9]])"
      ]
     },
     "execution_count": 6,
     "metadata": {},
     "output_type": "execute_result"
    }
   ],
   "source": [
    "np.full((3,3),9)"
   ]
  },
  {
   "cell_type": "code",
   "execution_count": 7,
   "id": "8664b972-319e-49ce-8f2b-a8e548d42329",
   "metadata": {},
   "outputs": [
    {
     "data": {
      "text/plain": [
       "array([[1., 0., 0., 0., 0., 0.],\n",
       "       [0., 1., 0., 0., 0., 0.],\n",
       "       [0., 0., 1., 0., 0., 0.],\n",
       "       [0., 0., 0., 1., 0., 0.],\n",
       "       [0., 0., 0., 0., 1., 0.],\n",
       "       [0., 0., 0., 0., 0., 1.]])"
      ]
     },
     "execution_count": 7,
     "metadata": {},
     "output_type": "execute_result"
    }
   ],
   "source": [
    "np.eye(6)"
   ]
  },
  {
   "cell_type": "code",
   "execution_count": 8,
   "id": "e52c8d3b-7379-4e27-ba72-cd9018efc155",
   "metadata": {},
   "outputs": [
    {
     "data": {
      "text/plain": [
       "array([ 1, 11, 21, 31, 41, 51, 61, 71, 81, 91])"
      ]
     },
     "execution_count": 8,
     "metadata": {},
     "output_type": "execute_result"
    }
   ],
   "source": [
    "np.arange(1,100, 10)"
   ]
  },
  {
   "cell_type": "code",
   "execution_count": 9,
   "id": "862b5c5e-7aba-4e54-aa0d-4001ecbed135",
   "metadata": {},
   "outputs": [
    {
     "data": {
      "text/plain": [
       "array([    0.        ,  1111.11111111,  2222.22222222,  3333.33333333,\n",
       "        4444.44444444,  5555.55555556,  6666.66666667,  7777.77777778,\n",
       "        8888.88888889, 10000.        ])"
      ]
     },
     "execution_count": 9,
     "metadata": {},
     "output_type": "execute_result"
    }
   ],
   "source": [
    "np.linspace(0,10000,10)"
   ]
  },
  {
   "cell_type": "code",
   "execution_count": 10,
   "id": "4e7befdc-8e39-4712-97b3-26b787bac85e",
   "metadata": {},
   "outputs": [],
   "source": [
    "myArr = np.array([[1,2,3],[4,5,6],[7,8,9],[0,1,2]])"
   ]
  },
  {
   "cell_type": "code",
   "execution_count": 11,
   "id": "e117eb04-83ab-4e4b-8af5-2c7a0d6ba039",
   "metadata": {},
   "outputs": [
    {
     "data": {
      "text/plain": [
       "array([[1, 2, 3],\n",
       "       [4, 5, 6],\n",
       "       [7, 8, 9],\n",
       "       [0, 1, 2]])"
      ]
     },
     "execution_count": 11,
     "metadata": {},
     "output_type": "execute_result"
    }
   ],
   "source": [
    "myArr"
   ]
  },
  {
   "cell_type": "code",
   "execution_count": 12,
   "id": "b622f935-3834-4c3c-8879-2a12a264c052",
   "metadata": {},
   "outputs": [
    {
     "name": "stdout",
     "output_type": "stream",
     "text": [
      "Shape:  (4, 3)\n"
     ]
    }
   ],
   "source": [
    "print(\"Shape: \", myArr.shape)"
   ]
  },
  {
   "cell_type": "code",
   "execution_count": 13,
   "id": "9a496fea-3dcb-4c2c-bb58-8f6de0e70be6",
   "metadata": {},
   "outputs": [
    {
     "name": "stdout",
     "output_type": "stream",
     "text": [
      "Size:  12\n"
     ]
    }
   ],
   "source": [
    "print(\"Size: \", myArr.size)"
   ]
  },
  {
   "cell_type": "code",
   "execution_count": 14,
   "id": "48c88d05-1ddf-425e-8711-15a81b9d57f9",
   "metadata": {},
   "outputs": [
    {
     "name": "stdout",
     "output_type": "stream",
     "text": [
      "Dimensions:  2\n"
     ]
    }
   ],
   "source": [
    "print(\"Dimensions: \", myArr.ndim)"
   ]
  },
  {
   "cell_type": "code",
   "execution_count": 15,
   "id": "6eac81e2-3ca7-4c40-a8ac-4df72d99eddd",
   "metadata": {},
   "outputs": [
    {
     "name": "stdout",
     "output_type": "stream",
     "text": [
      "Data type:  int32\n"
     ]
    }
   ],
   "source": [
    "print(\"Data type: \", myArr.dtype)"
   ]
  },
  {
   "cell_type": "code",
   "execution_count": 16,
   "id": "4429857a-bd11-4637-94ab-0d24ad1a39c9",
   "metadata": {},
   "outputs": [
    {
     "data": {
      "text/plain": [
       "array([[1, 2, 3],\n",
       "       [4, 5, 6],\n",
       "       [7, 8, 9],\n",
       "       [0, 1, 2]], dtype=int64)"
      ]
     },
     "execution_count": 16,
     "metadata": {},
     "output_type": "execute_result"
    }
   ],
   "source": [
    "myArr = np.array([[1,2,3],[4,5,6],[7,8,9],[0,1,2]], dtype = \"int64\")\n",
    "myArr"
   ]
  },
  {
   "cell_type": "code",
   "execution_count": 17,
   "id": "0ffe9bef-3b2b-43ec-b26e-bebc149751ca",
   "metadata": {},
   "outputs": [
    {
     "data": {
      "text/plain": [
       "array([[1., 2., 3.],\n",
       "       [4., 5., 6.],\n",
       "       [7., 8., 9.],\n",
       "       [0., 1., 2.]])"
      ]
     },
     "execution_count": 17,
     "metadata": {},
     "output_type": "execute_result"
    }
   ],
   "source": [
    "myArr = np.array([[1,2,3],[4,5,6],[7,8,9],[0,1,2]], dtype = \"float64\")\n",
    "myArr"
   ]
  },
  {
   "cell_type": "code",
   "execution_count": 18,
   "id": "bf521de6-5f37-4b17-9c7a-9cbeb482877a",
   "metadata": {},
   "outputs": [
    {
     "data": {
      "text/plain": [
       "array([[1., 2., 3., 4.],\n",
       "       [5., 6., 7., 8.],\n",
       "       [9., 0., 1., 2.]])"
      ]
     },
     "execution_count": 18,
     "metadata": {},
     "output_type": "execute_result"
    }
   ],
   "source": [
    "reshaped = myArr.reshape((3,4))\n",
    "reshaped"
   ]
  },
  {
   "cell_type": "code",
   "execution_count": 19,
   "id": "c8e12f5d-9260-4845-9f53-09086f1ed3e3",
   "metadata": {},
   "outputs": [
    {
     "data": {
      "text/plain": [
       "array([1., 2., 3., 4., 5., 6., 7., 8., 9., 0., 1., 2.])"
      ]
     },
     "execution_count": 19,
     "metadata": {},
     "output_type": "execute_result"
    }
   ],
   "source": [
    "myArr.flatten()"
   ]
  },
  {
   "cell_type": "code",
   "execution_count": 42,
   "id": "f753241c-9123-409c-9d7a-67189e06fbeb",
   "metadata": {},
   "outputs": [
    {
     "data": {
      "text/plain": [
       "array([[9, 7, 9],\n",
       "       [0, 6, 2],\n",
       "       [9, 6, 5]])"
      ]
     },
     "execution_count": 42,
     "metadata": {},
     "output_type": "execute_result"
    }
   ],
   "source": [
    "import random\n",
    "\n",
    "matArr = np.random.randint(10, size=(3, 3))\n",
    "matArr"
   ]
  },
  {
   "cell_type": "code",
   "execution_count": 44,
   "id": "ba103135-6eb8-43bb-b1b0-a42f68ddc2e0",
   "metadata": {},
   "outputs": [
    {
     "data": {
      "text/plain": [
       "array([1.1, 2.2, 3.3])"
      ]
     },
     "execution_count": 44,
     "metadata": {},
     "output_type": "execute_result"
    }
   ],
   "source": [
    "floatArr = np.array([1.1,2.2,3.3])\n",
    "floatArr"
   ]
  },
  {
   "cell_type": "code",
   "execution_count": 49,
   "id": "0ff57bcd-488e-40f6-b738-00e9aa6c2ec8",
   "metadata": {},
   "outputs": [],
   "source": [
    "floatArr = np.array([1.1,2.2,3.3], dtype = \"int32\")"
   ]
  },
  {
   "cell_type": "code",
   "execution_count": 51,
   "id": "1e476070-fdf6-4e7e-ba39-1940ccaeebff",
   "metadata": {},
   "outputs": [
    {
     "data": {
      "text/plain": [
       "array([1, 2, 3])"
      ]
     },
     "execution_count": 51,
     "metadata": {},
     "output_type": "execute_result"
    }
   ],
   "source": [
    "floatArr"
   ]
  },
  {
   "cell_type": "code",
   "execution_count": 78,
   "id": "2d53159a-189d-45c2-90a0-7e7f960a84f5",
   "metadata": {},
   "outputs": [],
   "source": [
    "listLike = np.array([1, 2, 1.5, False], dtype = \"int64\")"
   ]
  },
  {
   "cell_type": "code",
   "execution_count": 67,
   "id": "558b1bba-68e1-4cbf-8ea2-29ad802d5c3b",
   "metadata": {},
   "outputs": [
    {
     "data": {
      "text/plain": [
       "array(['1', '2', '1.5', 'False'], dtype='<U6')"
      ]
     },
     "execution_count": 67,
     "metadata": {},
     "output_type": "execute_result"
    }
   ],
   "source": [
    "listLike"
   ]
  },
  {
   "cell_type": "code",
   "execution_count": 63,
   "id": "c787a780-8520-4c25-938d-27dbb69ff89d",
   "metadata": {},
   "outputs": [
    {
     "name": "stdout",
     "output_type": "stream",
     "text": [
      "Data type:  <U6\n"
     ]
    }
   ],
   "source": [
    "strList = np.array([\"Ab vai\"])\n",
    "print(\"Data type: \", strList.dtype)"
   ]
  },
  {
   "cell_type": "code",
   "execution_count": null,
   "id": "303b4a95-5654-4ac0-a71f-030d89634011",
   "metadata": {},
   "outputs": [],
   "source": []
  }
 ],
 "metadata": {
  "kernelspec": {
   "display_name": "Python [conda env:base] *",
   "language": "python",
   "name": "conda-base-py"
  },
  "language_info": {
   "codemirror_mode": {
    "name": "ipython",
    "version": 3
   },
   "file_extension": ".py",
   "mimetype": "text/x-python",
   "name": "python",
   "nbconvert_exporter": "python",
   "pygments_lexer": "ipython3",
   "version": "3.12.7"
  }
 },
 "nbformat": 4,
 "nbformat_minor": 5
}
