import numpy as np


arr = np.array([[[1, 2, 3], [4, 5, 6], [7, 8, 9]],
                [[10, 11, 12], [13, 14, 15], [16, 17, 18]]])
print(arr.shape)


print(arr[0, 1, 2])


arr


arr[0, : , :]


arr[0, 0:1, :]


arr[arr>10]


arr[[0,1],:,:]


arr2 = np.arange(15).reshape((3,5))
arr2


arr2.T


np.dot(arr2.T,arr2)


arr2


arr2.swapaxes(0,1)


sample = np.random.standard_normal(size=(4,4))


sample


from random import normalvariate


n = 1_000_000


%timeit sample = [normalvariate(0,1) for _ in range(n)]


%timeit np.random.standard_normal(n)


st = np.random.standard_normal(7)*5
st


remainder, whole_part = np.modf(st)



remainder


whole_part



