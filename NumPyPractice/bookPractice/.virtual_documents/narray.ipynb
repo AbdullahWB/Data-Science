import numpy as np


n = np.empty((5,4,3))


np.asarray([1,2])


li = [1,2,3,4]
li2 = np.asarray(li)


np.zeros_like(li2)


np.eye(3,4, dtype=np.int32)


arr = np.arange(10)
arr


np.sqrt(arr)


np.exp(arr)



