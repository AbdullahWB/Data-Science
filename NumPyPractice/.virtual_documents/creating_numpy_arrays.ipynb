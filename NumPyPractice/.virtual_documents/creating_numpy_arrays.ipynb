import numpy as np


arr = np.array([1,2,3])
arr


np.zeros((3,3))


np.zeros_like((3,3))


np.ones((3,3))


np.full((3,3),9)


np.eye(6)


np.arange(1,100, 10)


np.linspace(0,10000,10)


myArr = np.array([[1,2,3],[4,5,6],[7,8,9],[0,1,2]])


myArr


print("Shape: ", myArr.shape)


print("Size: ", myArr.size)


print("Dimensions: ", myArr.ndim)


print("Data type: ", myArr.dtype)


myArr = np.array([[1,2,3],[4,5,6],[7,8,9],[0,1,2]], dtype = "int64")
myArr


myArr = np.array([[1,2,3],[4,5,6],[7,8,9],[0,1,2]], dtype = "float64")
myArr


reshaped = myArr.reshape((3,4))
reshaped


myArr.flatten()


import random

matArr = np.random.randint(10, size=(3, 3))
matArr


floatArr = np.array([1.1,2.2,3.3])
floatArr


floatArr = np.array([1.1,2.2,3.3], dtype = "int32")


floatArr


listLike = np.array([1, 2, 1.5, False], dtype = "int64")


listLike


strList = np.array(["Ab vai"])
print("Data type: ", strList.dtype)



