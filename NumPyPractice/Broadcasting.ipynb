{
 "cells": [
  {
   "cell_type": "code",
   "execution_count": 1,
   "id": "60b423b5-8bb4-4efc-9536-e87e16169698",
   "metadata": {},
   "outputs": [],
   "source": [
    "import numpy as np "
   ]
  },
  {
   "cell_type": "code",
   "execution_count": 3,
   "id": "b9a14d5c-66e2-4592-8f39-aef879916449",
   "metadata": {},
   "outputs": [
    {
     "data": {
      "text/plain": [
       "array([ 1,  4,  9, 16, 25, 36])"
      ]
     },
     "execution_count": 3,
     "metadata": {},
     "output_type": "execute_result"
    }
   ],
   "source": [
    "arr = np.array([1,2,3,4,5,6])\n",
    "result = arr ** 2\n",
    "result "
   ]
  },
  {
   "cell_type": "code",
   "execution_count": 5,
   "id": "625eab61-f685-49bd-bd3f-97ade18a21c2",
   "metadata": {},
   "outputs": [
    {
     "data": {
      "text/plain": [
       "array([11, 14, 19, 26, 35, 46])"
      ]
     },
     "execution_count": 5,
     "metadata": {},
     "output_type": "execute_result"
    }
   ],
   "source": [
    "result + 10"
   ]
  },
  {
   "cell_type": "code",
   "execution_count": 13,
   "id": "8d411d3e-7463-4a38-8df7-599fb2a059e1",
   "metadata": {},
   "outputs": [
    {
     "data": {
      "text/plain": [
       "array([1, 2, 3, 4, 5, 6])"
      ]
     },
     "execution_count": 13,
     "metadata": {},
     "output_type": "execute_result"
    }
   ],
   "source": [
    "arr2 = np.array([11, 14, 19, 26, 35, 46])\n",
    "arr"
   ]
  },
  {
   "cell_type": "code",
   "execution_count": 15,
   "id": "44beaf3b-f9f0-416a-b41d-1aea6b0cf68d",
   "metadata": {},
   "outputs": [],
   "source": [
    "reult = arr + arr2"
   ]
  },
  {
   "cell_type": "code",
   "execution_count": 19,
   "id": "edffa5a6-186c-413a-800f-b1ffe5074a3e",
   "metadata": {},
   "outputs": [
    {
     "data": {
      "text/plain": [
       "array([12, 16, 22, 30, 40, 52])"
      ]
     },
     "execution_count": 19,
     "metadata": {},
     "output_type": "execute_result"
    }
   ],
   "source": [
    "reult"
   ]
  },
  {
   "cell_type": "code",
   "execution_count": 21,
   "id": "e730f726-7bdb-45b2-a86c-60d9cd0e6843",
   "metadata": {},
   "outputs": [],
   "source": [
    "arr2d = np.array([[1,2,3],[4,5,6]])\n",
    "arr1d = np.array([1,2,3])\n",
    "r = arr2d + arr1d"
   ]
  },
  {
   "cell_type": "code",
   "execution_count": 23,
   "id": "4a6b1ffa-1e13-4e53-a0c6-cfcfe2b18a7f",
   "metadata": {},
   "outputs": [
    {
     "data": {
      "text/plain": [
       "array([[2, 4, 6],\n",
       "       [5, 7, 9]])"
      ]
     },
     "execution_count": 23,
     "metadata": {},
     "output_type": "execute_result"
    }
   ],
   "source": [
    "r"
   ]
  },
  {
   "cell_type": "code",
   "execution_count": 38,
   "id": "3afd967d-47f0-4ad2-af26-018605d8be21",
   "metadata": {},
   "outputs": [],
   "source": [
    "data = np.array([[10, 20, 30],\n",
    "                 [15, 25, 35],\n",
    "                 [20, 30, 40],\n",
    "                 [25, 35, 45],\n",
    "                 [30, 40, 50]])"
   ]
  },
  {
   "cell_type": "code",
   "execution_count": 40,
   "id": "d0482dd2-2d93-4020-a2d9-f748c5329b69",
   "metadata": {},
   "outputs": [],
   "source": [
    "mean = data.mean(axis = 0)\n",
    "std = data.std(axis=0)"
   ]
  },
  {
   "cell_type": "code",
   "execution_count": 44,
   "id": "1a4798eb-418a-4052-a49e-1cfdb2db6625",
   "metadata": {},
   "outputs": [
    {
     "data": {
      "text/plain": [
       "array([7.07106781, 7.07106781, 7.07106781])"
      ]
     },
     "execution_count": 44,
     "metadata": {},
     "output_type": "execute_result"
    }
   ],
   "source": [
    "std"
   ]
  },
  {
   "cell_type": "code",
   "execution_count": 46,
   "id": "c37ba2e9-0bca-4c0c-ace4-cb636843c67b",
   "metadata": {},
   "outputs": [
    {
     "data": {
      "text/plain": [
       "array([[-1.41421356, -1.41421356, -1.41421356],\n",
       "       [-0.70710678, -0.70710678, -0.70710678],\n",
       "       [ 0.        ,  0.        ,  0.        ],\n",
       "       [ 0.70710678,  0.70710678,  0.70710678],\n",
       "       [ 1.41421356,  1.41421356,  1.41421356]])"
      ]
     },
     "execution_count": 46,
     "metadata": {},
     "output_type": "execute_result"
    }
   ],
   "source": [
    "normalized_data = (data - mean) / std\n",
    "normalized_data"
   ]
  },
  {
   "cell_type": "code",
   "execution_count": null,
   "id": "b1f25351-89e0-4b75-8310-b9fdea6da6ff",
   "metadata": {},
   "outputs": [],
   "source": []
  }
 ],
 "metadata": {
  "kernelspec": {
   "display_name": "Python [conda env:base] *",
   "language": "python",
   "name": "conda-base-py"
  },
  "language_info": {
   "codemirror_mode": {
    "name": "ipython",
    "version": 3
   },
   "file_extension": ".py",
   "mimetype": "text/x-python",
   "name": "python",
   "nbconvert_exporter": "python",
   "pygments_lexer": "ipython3",
   "version": "3.12.7"
  }
 },
 "nbformat": 4,
 "nbformat_minor": 5
}
