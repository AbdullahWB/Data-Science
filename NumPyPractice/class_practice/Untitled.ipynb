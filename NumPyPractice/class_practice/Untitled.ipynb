{
 "cells": [
  {
   "cell_type": "code",
   "execution_count": 1,
   "id": "8a37290e-0d23-4649-ba32-1d75bcdd02fd",
   "metadata": {},
   "outputs": [
    {
     "name": "stdout",
     "output_type": "stream",
     "text": [
      "Matrix A:\n",
      " [[1 2 3]\n",
      " [4 5 6]\n",
      " [7 8 9]]\n",
      "\n",
      "Matrix B:\n",
      " [[10 11]\n",
      " [12 13]\n",
      " [14 15]]\n",
      "\n",
      "Resultant Matrix:\n",
      " [[ 76  82]\n",
      " [184 199]\n",
      " [292 316]]\n",
      "\n",
      "Shape of Resultant Matrix: (3, 2)\n"
     ]
    }
   ],
   "source": [
    "import numpy as np\n",
    "# Create two matrices\n",
    "matrix_a = np.array([[1, 2, 3], [4, 5, 6], [7, 8, 9]])\n",
    "matrix_b = np.array([[10, 11], [12, 13], [14, 15]])\n",
    "# Perform matrix multiplication\n",
    "result_matrix = np.dot(matrix_a, matrix_b) # or matrix_a @ matrix_b\n",
    "# Print the result\n",
    "print(\"Matrix A:\\n\", matrix_a)\n",
    "print(\"\\nMatrix B:\\n\", matrix_b)\n",
    "print(\"\\nResultant Matrix:\\n\", result_matrix)\n",
    "print(\"\\nShape of Resultant Matrix:\", result_matrix.shape)"
   ]
  },
  {
   "cell_type": "code",
   "execution_count": 2,
   "id": "d3b2d4e7-c752-43da-989b-ff0c47b28ee5",
   "metadata": {},
   "outputs": [
    {
     "name": "stdout",
     "output_type": "stream",
     "text": [
      "Data:\n",
      " [ 1  2  3  4  5  6  7  8  9 10]\n",
      "\n",
      "Mean: 5.5\n",
      "\n",
      "Median: 5.5\n",
      "\n",
      "Standard Deviation: 2.8722813232690143\n",
      "\n",
      "Variance: 8.25\n"
     ]
    }
   ],
   "source": [
    "import numpy as np\n",
    "# Create a NumPy array\n",
    "data = np.array([1, 2, 3, 4, 5, 6, 7, 8, 9, 10])\n",
    "# Calculate statistics\n",
    "mean = np.mean(data)\n",
    "median = np.median(data)\n",
    "std_dev = np.std(data)\n",
    "variance = np.var(data)\n",
    "# Print the results\n",
    "print(\"Data:\\n\", data)\n",
    "print(\"\\nMean:\", mean)\n",
    "print(\"\\nMedian:\", median)\n",
    "print(\"\\nStandard Deviation:\", std_dev)\n",
    "print(\"\\nVariance:\", variance)"
   ]
  },
  {
   "cell_type": "code",
   "execution_count": 3,
   "id": "73388dc9-e9fb-4d81-ae32-565e0dfb7936",
   "metadata": {},
   "outputs": [
    {
     "data": {
      "image/png": "[encoded data removed]",
      "text/plain": [
       "<Figure size 640x480 with 1 Axes>"
      ]
     },
     "metadata": {},
     "output_type": "display_data"
    }
   ],
   "source": [
    "import numpy as np\n",
    "import matplotlib.pyplot as plt\n",
    "# Generate random data\n",
    "data = np.random.rand(1000) # 1000 random numbers between 0 and 1\n",
    "# Create a histogram\n",
    "plt.hist(data, bins=30, color='skyblue', edgecolor='black')\n",
    "plt.title(\"Histogram of Random Data\")\n",
    "plt.xlabel(\"Value\")\n",
    "plt.ylabel(\"Frequency\")\n",
    "plt.show()"
   ]
  },
  {
   "cell_type": "code",
   "execution_count": 4,
   "id": "fcd7e4e0-943d-4341-9c6a-0bd692f19968",
   "metadata": {},
   "outputs": [
    {
     "name": "stdout",
     "output_type": "stream",
     "text": [
      "Original Array:\n",
      " [ 0  1  2  3  4  5  6  7  8  9 10 11]\n",
      "\n",
      "Reshaped Array:\n",
      " [[ 0  1  2  3]\n",
      " [ 4  5  6  7]\n",
      " [ 8  9 10 11]]\n"
     ]
    }
   ],
   "source": [
    "import numpy as np\n",
    "# Create a 1D array\n",
    "data = np.arange(12) # Array from 0 to 11\n",
    "# Reshape the array\n",
    "try:\n",
    "    reshaped_data = data.reshape(3, 4) # Reshape to 3x4\n",
    "    print(\"Original Array:\\n\", data)\n",
    "    print(\"\\nReshaped Array:\\n\", reshaped_data)\n",
    "except ValueError as e:\n",
    "    print(\"Reshaping not possible:\", e)"
   ]
  },
  {
   "cell_type": "code",
   "execution_count": 5,
   "id": "324c2a4c-3869-47a3-bc02-d6712e852f5c",
   "metadata": {},
   "outputs": [
    {
     "name": "stdout",
     "output_type": "stream",
     "text": [
      "Original Array:\n",
      " [ 1  2  3  4  5  6  7  8  9 10]\n",
      "\n",
      "Filtered Array (elements > 5):\n",
      " [ 6  7  8  9 10]\n"
     ]
    }
   ],
   "source": [
    "import numpy as np\n",
    "# Create a NumPy array\n",
    "data = np.array([1, 2, 3, 4, 5, 6, 7, 8, 9, 10])\n",
    "# Filter the array (elements greater than 5)\n",
    "filtered_data = data[data > 5]\n",
    "# Print the results\n",
    "print(\"Original Array:\\n\", data)\n",
    "print(\"\\nFiltered Array (elements > 5):\\n\", filtered_data)"
   ]
  },
  {
   "cell_type": "code",
   "execution_count": 6,
   "id": "9bfcbda9-41e7-404b-abb2-8e2676dc9514",
   "metadata": {},
   "outputs": [
    {
     "name": "stdout",
     "output_type": "stream",
     "text": [
      "Original Array:\n",
      " [1 2 3 4 5]\n",
      "\n",
      "Modified Array (after broadcasting):\n",
      " [11 12 13 14 15]\n"
     ]
    }
   ],
   "source": [
    "import numpy as np\n",
    "# Create a NumPy array\n",
    "data = np.array([1, 2, 3, 4, 5])\n",
    "# Add a scalar to the array (broadcasting)\n",
    "modified_data = data + 10\n",
    "# Print the results\n",
    "print(\"Original Array:\\n\", data)\n",
    "print(\"\\nModified Array (after broadcasting):\\n\", modified_data)"
   ]
  },
  {
   "cell_type": "code",
   "execution_count": 7,
   "id": "0b6a6ffa-0eb8-4987-9d74-ad312199386b",
   "metadata": {},
   "outputs": [
    {
     "name": "stdout",
     "output_type": "stream",
     "text": [
      "Original Array:\n",
      " [[1 2 3]\n",
      " [4 5 6]]\n",
      "\n",
      "Loaded Array:\n",
      " [[1. 2. 3.]\n",
      " [4. 5. 6.]]\n",
      "\n",
      "Arrays are equal: True\n"
     ]
    }
   ],
   "source": [
    "import numpy as np\n",
    "# Create a NumPy array\n",
    "data = np.array([[1, 2, 3], [4, 5, 6]])\n",
    "# Save the array to a file\n",
    "np.savetxt(\"my_array.txt\", data) # or np.save(\"my_array.npy\", data)\n",
    "# Load the array from the file\n",
    "loaded_data = np.loadtxt(\"my_array.txt\") # or np.load(\"my_array.npy\")\n",
    "# Print the results\n",
    "print(\"Original Array:\\n\", data)\n",
    "print(\"\\nLoaded Array:\\n\", loaded_data)\n",
    "# Verify that the arrays are the same\n",
    "print(\"\\nArrays are equal:\", np.array_equal(data, loaded_data))"
   ]
  },
  {
   "cell_type": "code",
   "execution_count": 8,
   "id": "d50c788f-4362-483d-a94b-906dc103140f",
   "metadata": {},
   "outputs": [
    {
     "name": "stdout",
     "output_type": "stream",
     "text": [
      "Shape: (5, 3, 3)\n"
     ]
    },
    {
     "data": {
      "text/plain": [
       "array([[[ 28,  56,  56],\n",
       "        [ 56,  85,  85],\n",
       "        [ 85, 113, 113]],\n",
       "\n",
       "       [[170, 198, 141],\n",
       "        [198, 226, 170],\n",
       "        [226, 255, 198]],\n",
       "\n",
       "       [[ 56, 113, 226],\n",
       "        [113, 141, 255],\n",
       "        [170, 198,   0]],\n",
       "\n",
       "       [[226, 255,  28],\n",
       "        [ 28,  56,  56],\n",
       "        [ 85, 113, 113]],\n",
       "\n",
       "       [[113, 141, 141],\n",
       "        [170, 198, 170],\n",
       "        [255, 255,  28]]], dtype=uint8)"
      ]
     },
     "execution_count": 8,
     "metadata": {},
     "output_type": "execute_result"
    }
   ],
   "source": [
    "import numpy as np\n",
    "import matplotlib.pyplot as plt\n",
    "\n",
    "newArr = np.array([[[1,2,2],[2,3,3],[3,4,4]],[[6,7,5],[7,8,6],[8,9,7]],[[2,4,8],[4,5,9],[6,7,0]],[[8,9,1],[1,2,2],[3,4,4]],[[4,5,5],[6,7,6],[9,9,1]]])\n",
    "print(\"Shape:\", newArr.shape)\n",
    "\n",
    "max_val = np.max(newArr)\n",
    "min_val = np.min(newArr)\n",
    "scaled_arr = ((newArr - min_val) / (max_val - min_val) * 255).astype(np.uint8)\n",
    "scaled_arr"
   ]
  },
  {
   "cell_type": "code",
   "execution_count": 9,
   "id": "144ebc94-7b76-43d8-8227-e6e7398fef7a",
   "metadata": {},
   "outputs": [
    {
     "name": "stdout",
     "output_type": "stream",
     "text": [
      "RGB Shape: (5, 3, 3, 3)\n"
     ]
    },
    {
     "data": {
      "image/png": "[encoded data removed]",
      "text/plain": [
       "<Figure size 1500x300 with 5 Axes>"
      ]
     },
     "metadata": {},
     "output_type": "display_data"
    }
   ],
   "source": [
    "rgb_arr = np.repeat(scaled_arr[:, :, :, np.newaxis], 3, axis=3)\n",
    "print(\"RGB Shape:\", rgb_arr.shape)\n",
    "\n",
    "fig, axes = plt.subplots(1, 5, figsize=(15, 3))\n",
    "for i in range(5):\n",
    "    axes[i].imshow(rgb_arr[i])\n",
    "    axes[i].set_title(f\"Image {i+1}\")\n",
    "    axes[i].axis('off')\n",
    "plt.show()"
   ]
  },
  {
   "cell_type": "code",
   "execution_count": 10,
   "id": "e107b446-18b5-4b9d-8d82-882992710398",
   "metadata": {},
   "outputs": [],
   "source": [
    "import numpy as np\n",
    "import matplotlib.pyplot as plt\n",
    "\n",
    "# newArr = np.array([[[1,2,2],[2,3,3],[3,4,4]],[[6,7,5],[7,8,6],[8,9,7]],[[2,4,8],[4,5,9],[6,7,0]],[[8,9,1],[1,2,2],[3,4,4]],[[4,5,5],[6,7,6],[9,9,1]]])\n",
    "\n",
    "# # Scale to 0–255\n",
    "# scaled_arr = ((newArr - np.min(newArr)) / (np.max(newArr) - np.min(newArr)) * 255).astype(np.uint8)\n",
    "\n",
    "# # Plot grayscale images with viridis colormap\n",
    "# fig, axes = plt.subplots(1, 5, figsize=(15, 3))\n",
    "# for i in range(5):\n",
    "#     axes[i].imshow(scaled_arr[i], cmap='viridis')\n",
    "#     axes[i].set_title(f\"Image {i+1}\")\n",
    "#     axes[i].axis('off')\n",
    "# plt.colorbar(axes[4].imshow(scaled_arr[4], cmap='viridis'), ax=axes[4], label='Intensity')\n",
    "# plt.show()"
   ]
  },
  {
   "cell_type": "code",
   "execution_count": null,
   "id": "bce46fcc-9e24-4158-815a-d05efdc3a599",
   "metadata": {},
   "outputs": [],
   "source": []
  }
 ],
 "metadata": {
  "kernelspec": {
   "display_name": "Python [conda env:base] *",
   "language": "python",
   "name": "conda-base-py"
  },
  "language_info": {
   "codemirror_mode": {
    "name": "ipython",
    "version": 3
   },
   "file_extension": ".py",
   "mimetype": "text/x-python",
   "name": "python",
   "nbconvert_exporter": "python",
   "pygments_lexer": "ipython3",
   "version": "3.12.7"
  }
 },
 "nbformat": 4,
 "nbformat_minor": 5
}
