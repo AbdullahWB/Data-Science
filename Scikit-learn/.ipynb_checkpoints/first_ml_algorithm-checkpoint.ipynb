{
 "cells": [
  {
   "cell_type": "code",
   "execution_count": 1,
   "id": "dc880ab4-0c11-4e5b-868c-c1fc4c4a80bd",
   "metadata": {},
   "outputs": [],
   "source": [
    "from sklearn.tree import DecisionTreeClassifier"
   ]
  },
  {
   "cell_type": "code",
   "execution_count": 3,
   "id": "d5c561a7-b352-470a-863a-e802071acf3e",
   "metadata": {},
   "outputs": [
    {
     "data": {
      "text/plain": [
       "array(['apple', 'orange'], dtype='<U6')"
      ]
     },
     "execution_count": 3,
     "metadata": {},
     "output_type": "execute_result"
    }
   ],
   "source": [
    "features = [[150,0],[170,0],[130,1],[120,1]]\n",
    "labels = ['apple', 'apple', 'orange', 'orange']\n",
    "clf = DecisionTreeClassifier()\n",
    "clf = clf.fit(features, labels)\n",
    "clf.predict([[150,1],[34,0]])"
   ]
  },
  {
   "cell_type": "code",
   "execution_count": 10,
   "id": "03f26995-898e-4142-a8c7-0289b97a2d71",
   "metadata": {},
   "outputs": [
    {
     "name": "stdout",
     "output_type": "stream",
     "text": [
      "['apple' 'orange' 'banana' 'orange' 'banana' 'banana']\n"
     ]
    }
   ],
   "source": [
    "from sklearn.tree import DecisionTreeClassifier\n",
    "\n",
    "# Features: [Weight (g), Texture (0=Smooth,1=Rough), Color (0=Red,1=Orange,2=Yellow)]\n",
    "features = [\n",
    "    [150, 0, 0],  # Apple\n",
    "    [170, 0, 0],  # Apple\n",
    "    [130, 1, 1],  # Orange\n",
    "    [120, 1, 1],  # Orange\n",
    "    [160, 0, 0],  # Apple\n",
    "    [145, 0, 0],  # Apple\n",
    "    [155, 0, 0],  # Apple\n",
    "    [180, 1, 1],  # Orange\n",
    "    [135, 1, 1],  # Orange\n",
    "    [200, 1, 1],  # Orange\n",
    "    [100, 0, 2],  # Banana\n",
    "    [110, 0, 2],  # Banana\n",
    "    [95,  0, 2],  # Banana\n",
    "    [105, 0, 2],  # Banana\n",
    "]\n",
    "\n",
    "labels = [\n",
    "    'apple', 'apple', 'orange', 'orange',\n",
    "    'apple', 'apple', 'apple', 'orange',\n",
    "    'orange', 'orange', 'banana', 'banana',\n",
    "    'banana', 'banana'\n",
    "]\n",
    "\n",
    "# Train the Decision Tree\n",
    "clf = DecisionTreeClassifier()\n",
    "clf.fit(features, labels)\n",
    "\n",
    "# Predict new fruits\n",
    "predictions = clf.predict([\n",
    "    [150, 0, 0],   # A 150g smooth red fruit\n",
    "    [130, 1, 1],   # A 130g rough orange fruit\n",
    "    [100, 0, 2],   # A 100g smooth yellow fruit\n",
    "    [180, 1, 1],   # A 180g rough orange fruit\n",
    "    [115, 0, 2],   # A 115g smooth yellow fruit\n",
    "    [30, 0, 1]\n",
    "])\n",
    "\n",
    "print(predictions)\n"
   ]
  },
  {
   "cell_type": "code",
   "execution_count": null,
   "id": "8c285e7e-1c9c-4e43-a4a0-63385a65892e",
   "metadata": {},
   "outputs": [],
   "source": []
  }
 ],
 "metadata": {
  "kernelspec": {
   "display_name": "Python 3 (ipykernel)",
   "language": "python",
   "name": "python3"
  },
  "language_info": {
   "codemirror_mode": {
    "name": "ipython",
    "version": 3
   },
   "file_extension": ".py",
   "mimetype": "text/x-python",
   "name": "python",
   "nbconvert_exporter": "python",
   "pygments_lexer": "ipython3",
   "version": "3.13.5"
  }
 },
 "nbformat": 4,
 "nbformat_minor": 5
}
