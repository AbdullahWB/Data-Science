{
 "cells": [
  {
   "cell_type": "markdown",
   "id": "bcb17bab-07f5-4897-bb29-4deb832a2dd2",
   "metadata": {},
   "source": [
    "Python follows PEMDAS (Parentheses, Exponents, Multiplication/Division, Addition/Subtraction). The order of operations in Python is:"
   ]
  },
  {
   "cell_type": "code",
   "execution_count": 2,
   "id": "be6829a3-103b-44b5-a926-a6b6c4297f9d",
   "metadata": {},
   "outputs": [],
   "source": [
    "result = 10 + 2 * 3"
   ]
  },
  {
   "cell_type": "code",
   "execution_count": 4,
   "id": "bf3d5c02-ea65-45a6-a0b2-b701536831a4",
   "metadata": {},
   "outputs": [
    {
     "data": {
      "text/plain": [
       "16"
      ]
     },
     "execution_count": 4,
     "metadata": {},
     "output_type": "execute_result"
    }
   ],
   "source": [
    "result"
   ]
  },
  {
   "cell_type": "code",
   "execution_count": 6,
   "id": "93c0e95e-3e52-47c7-b749-c7d200cdeb73",
   "metadata": {},
   "outputs": [
    {
     "data": {
      "text/plain": [
       "-20.956521739130434"
      ]
     },
     "execution_count": 6,
     "metadata": {},
     "output_type": "execute_result"
    }
   ],
   "source": [
    "54 * 3 / 23 + 4 - 2 ** 5"
   ]
  },
  {
   "cell_type": "code",
   "execution_count": 8,
   "id": "10d7cee8-6e19-4153-88f3-9872bd79adb1",
   "metadata": {},
   "outputs": [
    {
     "data": {
      "text/plain": [
       "-20.956521739130434"
      ]
     },
     "execution_count": 8,
     "metadata": {},
     "output_type": "execute_result"
    }
   ],
   "source": [
    "54 * 3 / 23 + 4 - 32"
   ]
  },
  {
   "cell_type": "code",
   "execution_count": 12,
   "id": "e55d4f4a-2459-45f3-8624-331d028fada1",
   "metadata": {},
   "outputs": [
    {
     "data": {
      "text/plain": [
       "-20.956521739130434"
      ]
     },
     "execution_count": 12,
     "metadata": {},
     "output_type": "execute_result"
    }
   ],
   "source": [
    "162 / 23 + 4 -32"
   ]
  },
  {
   "cell_type": "code",
   "execution_count": 14,
   "id": "7ff366bd-37a0-47c7-bd1e-c2b5d872eeb9",
   "metadata": {},
   "outputs": [
    {
     "data": {
      "text/plain": [
       "-20.96"
      ]
     },
     "execution_count": 14,
     "metadata": {},
     "output_type": "execute_result"
    }
   ],
   "source": [
    "7.04 + 4 -32"
   ]
  },
  {
   "cell_type": "code",
   "execution_count": 16,
   "id": "3e7ca943-ca1b-41c4-8d73-01b69a717eec",
   "metadata": {},
   "outputs": [
    {
     "data": {
      "text/plain": [
       "-28"
      ]
     },
     "execution_count": 16,
     "metadata": {},
     "output_type": "execute_result"
    }
   ],
   "source": [
    "4 - 32"
   ]
  },
  {
   "cell_type": "code",
   "execution_count": 18,
   "id": "08b3b3e3-a1d1-43a8-8890-6e3ef19f5c9d",
   "metadata": {},
   "outputs": [
    {
     "data": {
      "text/plain": [
       "-20.96"
      ]
     },
     "execution_count": 18,
     "metadata": {},
     "output_type": "execute_result"
    }
   ],
   "source": [
    "7.04 + (-28)"
   ]
  },
  {
   "cell_type": "code",
   "execution_count": null,
   "id": "62227ffb-6ef3-4dc0-af9a-87ed89b698ad",
   "metadata": {},
   "outputs": [],
   "source": []
  }
 ],
 "metadata": {
  "kernelspec": {
   "display_name": "Python [conda env:base] *",
   "language": "python",
   "name": "conda-base-py"
  },
  "language_info": {
   "codemirror_mode": {
    "name": "ipython",
    "version": 3
   },
   "file_extension": ".py",
   "mimetype": "text/x-python",
   "name": "python",
   "nbconvert_exporter": "python",
   "pygments_lexer": "ipython3",
   "version": "3.12.7"
  }
 },
 "nbformat": 4,
 "nbformat_minor": 5
}
