{
 "cells": [
  {
   "cell_type": "code",
   "execution_count": 1,
   "id": "02fa36b8-8304-482c-96f5-eb85d7d4be42",
   "metadata": {},
   "outputs": [],
   "source": [
    "a = 50"
   ]
  },
  {
   "cell_type": "code",
   "execution_count": 3,
   "id": "8bb8aff0-09e9-4e57-b004-bd6f1176c655",
   "metadata": {},
   "outputs": [],
   "source": [
    "b = 50"
   ]
  },
  {
   "cell_type": "code",
   "execution_count": 5,
   "id": "8cda7029-5b7b-4789-978b-0aa16b5867c7",
   "metadata": {},
   "outputs": [
    {
     "data": {
      "text/plain": [
       "100"
      ]
     },
     "execution_count": 5,
     "metadata": {},
     "output_type": "execute_result"
    }
   ],
   "source": [
    "a + b"
   ]
  },
  {
   "cell_type": "code",
   "execution_count": 7,
   "id": "cbec5186-a103-4ef4-b491-0a61e83b4173",
   "metadata": {},
   "outputs": [],
   "source": [
    "name = \"Abdullah\""
   ]
  },
  {
   "cell_type": "code",
   "execution_count": 9,
   "id": "9c03d974-9b07-4270-85ae-c67413f22fc6",
   "metadata": {},
   "outputs": [
    {
     "ename": "TypeError",
     "evalue": "can only concatenate str (not \"int\") to str",
     "output_type": "error",
     "traceback": [
      "\u001b[1;31m---------------------------------------------------------------------------\u001b[0m",
      "\u001b[1;31mTypeError\u001b[0m                                 Traceback (most recent call last)",
      "Cell \u001b[1;32mIn[9], line 1\u001b[0m\n\u001b[1;32m----> 1\u001b[0m name \u001b[38;5;241m+\u001b[39m a\n",
      "\u001b[1;31mTypeError\u001b[0m: can only concatenate str (not \"int\") to str"
     ]
    }
   ],
   "source": [
    "name + a "
   ]
  },
  {
   "cell_type": "code",
   "execution_count": 11,
   "id": "6121008b-c79e-4892-9b58-7b7d97695e75",
   "metadata": {},
   "outputs": [],
   "source": [
    "r = a + b"
   ]
  },
  {
   "cell_type": "code",
   "execution_count": 13,
   "id": "af87d1f9-f462-40e1-a519-5d9f530358b5",
   "metadata": {},
   "outputs": [
    {
     "name": "stdout",
     "output_type": "stream",
     "text": [
      "100\n"
     ]
    }
   ],
   "source": [
    "print(r)"
   ]
  },
  {
   "cell_type": "code",
   "execution_count": 15,
   "id": "beec2713-0c9d-4223-82eb-b85ad4e69600",
   "metadata": {},
   "outputs": [],
   "source": [
    "a = \"60000\"\n",
    "b = \"70000\"\n"
   ]
  },
  {
   "cell_type": "code",
   "execution_count": 17,
   "id": "5b6601b9-9aaa-48d6-9512-d46c6c2e1d37",
   "metadata": {},
   "outputs": [
    {
     "data": {
      "text/plain": [
       "130000"
      ]
     },
     "execution_count": 17,
     "metadata": {},
     "output_type": "execute_result"
    }
   ],
   "source": [
    "int(a) + int(b)"
   ]
  },
  {
   "cell_type": "code",
   "execution_count": null,
   "id": "9d0c2331-ef67-4e93-913a-d41d14730037",
   "metadata": {},
   "outputs": [],
   "source": []
  }
 ],
 "metadata": {
  "kernelspec": {
   "display_name": "Python [conda env:base] *",
   "language": "python",
   "name": "conda-base-py"
  },
  "language_info": {
   "codemirror_mode": {
    "name": "ipython",
    "version": 3
   },
   "file_extension": ".py",
   "mimetype": "text/x-python",
   "name": "python",
   "nbconvert_exporter": "python",
   "pygments_lexer": "ipython3",
   "version": "3.12.7"
  }
 },
 "nbformat": 4,
 "nbformat_minor": 5
}
