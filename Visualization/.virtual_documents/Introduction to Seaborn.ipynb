import seaborn as sns


sns.set_theme(style='darkgrid')


import numpy as np


x = np.random.randint(10, 100, size=15)


x


y = np.sin(x)


y


sns.lineplot(x=x, y=y)



