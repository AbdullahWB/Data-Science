import matplotlib.pyplot as plt


plt.style.use('ggplot')


lables = ['Sachin', 'Sehwag', 'Kohli', 'Yuvraj']
runs = [18000, 8000, 12000, 9500]


plt.title('Career Runs of Indian Batsmen')
plt.pie(runs, labels=lables)


colors = ['#ff9999','#66b3ff','#99ff99','#ffcc99']
lables = ['Sachin', 'Sehwag', 'Kohli', 'Yuvraj']
plt.pie(runs, labels=lables, colors=colors)
plt.show()


plt.pie(
    runs,
    labels=lables,
    colors=colors,
    wedgeprops={'edgecolor': 'black', 'linewidth': 2, 'linestyle': '--'}
)
plt.show()


explode = [0, 0.2, 0, 0]  # Only highlight Sachin's slice

plt.pie(runs, labels=lables, explode=explode, colors=colors, startangle=140, autopct='%1.01f%%')
plt.title("Exploded Pie Example")
plt.show()


# Too many categories
languages = ['Python', 'Java', 'C++', 'JavaScript', 'C#', 'Ruby', 'Go', 'Rust', 'Swift', 'PHP']
usage = [30, 20, 10, 10, 7, 5, 4, 3, 2, 1]

plt.pie(usage, labels=languages, autopct='%1.1f%%', startangle=90)
plt.title("Programming Language Usage (Crowded Example)")
plt.show()


plt.pie(
    runs,
    labels=labels,
    explode=explode,
    colors=colors,
    shadow=True  # adds a 3D-like shadow
)
plt.show()



