import seaborn as sns
print(sns.get_dataset_names())


tips = sns.load_dataset("tips")


tips.head()


tips.describe()


tips.info()


import matplotlib.pyplot as plt
sns.lineplot(x="total_bill", y='tip', data = tips)
plt.title("line plt")


sns.scatterplot(x="total_bill", y='tip', data = tips)
plt.title("line plt")


sns.barplot(x="total_bill", y='tip', data = tips)
plt.title("line plt")


sns.boxenplot(x="total_bill", y='tip', data = tips)
plt.title("line plt")


flights = sns.load_dataset("flights")


flights





pv = flights.pivot(index="month", columns='year', values='passengers')


pv


sns.heatmap(pv, annot=True, fmt='d', cmap="YlGnBu")



